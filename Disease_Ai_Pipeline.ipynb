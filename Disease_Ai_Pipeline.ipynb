{
  "cells": [
    {
      "cell_type": "markdown",
      "metadata": {
        "id": "view-in-github",
        "colab_type": "text"
      },
      "source": [
        "<a href=\"https://colab.research.google.com/github/V8FS1/Automated-Disease-Diagnosis-from-Symptom-Descriptions/blob/main/Disease_Ai_Pipeline.ipynb\" target=\"_parent\"><img src=\"https://colab.research.google.com/assets/colab-badge.svg\" alt=\"Open In Colab\"/></a>"
      ]
    },
    {
      "cell_type": "markdown",
      "metadata": {
        "id": "QfTS7DaMOQPp"
      },
      "source": [
        "# The Goal ?\n",
        "\n",
        "## *Build a model that predict a disease based on symptom Description*\n",
        "\n",
        "###The Approach:\n",
        "  *1- Understand and explore the information in the DataSet:*\n",
        "\n",
        "      • Upload necessarily libaries and Read the DataSet File.\n",
        "      • Display a sample of the DataSet to understand it's Column And Rows and check the Data types.\n",
        "      • Check for any missing values or duplicates.\n",
        "      • identify what is the target vairiable and features ?.\n",
        "      • check the distribution of the diseases.\n",
        "\n",
        "  *2- Exploratory Data Analysis (EDA):*\n",
        "\n",
        "      • Are some disease more frequent than otheres ? is there disease with few samples ?\n",
        "      • Relationship between symptoms and diseases.\n",
        "      • Word Frequency Across all Symptoms.\n",
        "      • Check for Outliers And Noise.\n",
        "      \n",
        "  *3- Preprocessing the Text Data:*\n",
        "\n",
        "      • Rename columns for more code readability and remove irrelevant columns.\n",
        "      • LowerCasing to ensure uniformity.\n",
        "      • Noise Removal\n",
        "          if there is numbers are they valuable ?.\n",
        "          Remove unnecessary punctuation/special characters selectively.\n",
        "      • Split the text into smaller pieces (Tokenization).\n",
        "      • Check if Stopword removal is needed and applied if it is.\n",
        "      • Reduce the word to their base root by using Lemmatization or Stemming.\n",
        "      • Rebuild the tokens back into sentences.\n",
        "      • Save Preprocessed Data and Logs.\n",
        "\n",
        "\n",
        "  *4- Feature Engineering:*\n",
        "\n",
        "      • Analyze the symptom descriptions to understand vocabulary size and word distribution.\n",
        "      • I will use TF-IDF and FastText.\n",
        "      • Apply TF-IDF to the Symptoms column and transform it into a numerical matrix.\n",
        "      • Use ngram_range to capture single words and word pairs (e.g., (1, 2)).\n",
        "      • Check the shape of the matrix to ensure it looks correct.\n",
        "      • Inspect the most important words based on TF-IDF scores to understand the output.\n",
        "      • Encode the Disease column\n",
        "      • Save the transformed data and feature names for modeling.\n",
        "\n",
        "  *5- Splitting the DataSet:*\n",
        "   \n",
        "      • Training Dataset to train the model.\n",
        "      • Testing DataSet to test the model.\n",
        "\n",
        "  *6- Model Selection And Training:*\n",
        "\n",
        "\n",
        "      • Identify which model works better with text data ?.\n",
        "      • Apply Evaluation metrics to evaluate the model preformance.\n",
        "\n",
        "\n",
        "  "
      ]
    },
    {
      "cell_type": "markdown",
      "source": [
        "### 1- Understand and explore the information in the DataSet"
      ],
      "metadata": {
        "id": "RDCbLsJVGpug"
      }
    },
    {
      "cell_type": "markdown",
      "metadata": {
        "id": "ijxJ1WxXUZPb"
      },
      "source": [
        "#### 1.1\n",
        "Upload necessarily libaries and Read the DataSet File.\n"
      ]
    },
    {
      "cell_type": "code",
      "execution_count": null,
      "metadata": {
        "id": "Elko6mcHOvxm"
      },
      "outputs": [],
      "source": [
        "import numpy as np\n",
        "import pandas as pd\n",
        "import matplotlib.pyplot as plt\n",
        "import seaborn as sns\n",
        "import nltk\n",
        "import spacy\n"
      ]
    },
    {
      "cell_type": "markdown",
      "metadata": {
        "id": "yAkExjlSUixp"
      },
      "source": [
        "#### 1.2\n",
        "Display a sample of the DataSet to understand it's Column And Rows and check the Data types."
      ]
    },
    {
      "cell_type": "code",
      "execution_count": null,
      "metadata": {
        "id": "qd-BkOjNUjM1"
      },
      "outputs": [],
      "source": [
        "dataset = pd.read_csv(\"/content/Symptom2Disease.csv\")\n",
        "df = pd.DataFrame(dataset)\n",
        "\n",
        "print(\"DataSet Shape:\", df.shape)\n",
        "print(\"DataSet Types:\\n\", df.dtypes)\n",
        "df.sample(10)"
      ]
    },
    {
      "cell_type": "markdown",
      "metadata": {
        "id": "CZTUsQguUjsP"
      },
      "source": [
        "#### 1.3\n",
        "Check for any missing values or duplicates."
      ]
    },
    {
      "cell_type": "code",
      "execution_count": null,
      "metadata": {
        "id": "1qxKRloEUj_f"
      },
      "outputs": [],
      "source": [
        "print(\"Missing Values:\\n\", df.isnull().sum())\n",
        "print(\"Duplicates:\", df.duplicated().sum())"
      ]
    },
    {
      "cell_type": "markdown",
      "metadata": {
        "id": "m8Qhz4jLUkR8"
      },
      "source": [
        "#### 1.4\n",
        "identify what is the target vairiable and features ?.\n",
        "\n",
        "Target Vairiable = Label(which represent the disease)\n",
        "\n",
        "Features = text(which represent the symptoms)"
      ]
    },
    {
      "cell_type": "code",
      "execution_count": null,
      "metadata": {
        "id": "Dc7f8bM3Ukjp"
      },
      "outputs": [],
      "source": [
        "df.head()"
      ]
    },
    {
      "cell_type": "markdown",
      "metadata": {
        "id": "7EP7eOpnvYUc"
      },
      "source": [
        "understanding of the length of text in the DataSets"
      ]
    },
    {
      "cell_type": "code",
      "execution_count": null,
      "metadata": {
        "id": "MBLuyWbLsueV"
      },
      "outputs": [],
      "source": [
        "text = df['text']\n",
        "\n",
        "number_of_words = []\n",
        "for i in text:\n",
        "  number_of_words.append(len(i.split()))\n",
        "\n",
        "df2 = pd.DataFrame(number_of_words)\n",
        "df2.describe()\n"
      ]
    },
    {
      "cell_type": "markdown",
      "metadata": {
        "id": "ZGQRQDcFUlEz"
      },
      "source": [
        "#### 1.5\n",
        "check the distribution of the diseases.\n",
        "\n",
        "As shown below the dataset is well distributed where each disease have 50 sample"
      ]
    },
    {
      "cell_type": "code",
      "execution_count": null,
      "metadata": {
        "id": "HfWyEjEDUlTn"
      },
      "outputs": [],
      "source": [
        "df['label'].value_counts()"
      ]
    },
    {
      "cell_type": "markdown",
      "metadata": {
        "id": "nPDXlFDPtlTg"
      },
      "source": [
        "### **2- Exploratory Data Analysis (EDA)**"
      ]
    },
    {
      "cell_type": "markdown",
      "metadata": {
        "id": "95rM8sHzUlfP"
      },
      "source": [
        "#### 2.1\n",
        "\n",
        "Are some disease more frequent than otheres ? is there disease with few samples ?\n",
        "\n",
        "From the historgram we can see that the dataset is well maintained there is no disease with few samples.\n",
        "\n",
        "  \n"
      ]
    },
    {
      "cell_type": "code",
      "execution_count": null,
      "metadata": {
        "id": "Rca_JlQGUlvW"
      },
      "outputs": [],
      "source": [
        "label_counts = df['label'].value_counts()\n",
        "\n",
        "plt.figure(figsize=(15, 6))\n",
        "\n",
        "plt.bar(label_counts.index, label_counts)\n",
        "plt.xticks(rotation=90)\n",
        "\n",
        "plt.title(\"Distribution of Diseases\", fontsize = 20)\n",
        "plt.xlabel(\"Diseases\", fontsize = 15)\n",
        "plt.ylabel(\"Frequency\", fontsize = 15)\n",
        "plt.show()"
      ]
    },
    {
      "cell_type": "markdown",
      "metadata": {
        "id": "M5TkTC-F2Uqo"
      },
      "source": [
        "#### 2.2\n",
        "\n",
        "Relationship between symptoms and diseases."
      ]
    },
    {
      "cell_type": "code",
      "execution_count": null,
      "metadata": {
        "id": "cd6pWVTIqAVd"
      },
      "outputs": [],
      "source": [
        "import matplotlib.pyplot as plt\n",
        "import seaborn as sns\n",
        "import nltk\n",
        "from nltk.corpus import stopwords\n",
        "from collections import Counter\n",
        "from nltk.tokenize import word_tokenize\n",
        "import nltk\n",
        "nltk.download('punkt_tab')\n",
        "\n",
        "nltk.download('stopwords')\n",
        "\n",
        "stop_words = set(stopwords.words('english'))\n",
        "\n",
        "grouped_symptoms = df.groupby('label')\n",
        "\n",
        "disease_word_freq = {}\n",
        "\n",
        "for disease, group in grouped_symptoms:\n",
        "    combined_text = ' '.join(group['text'])\n",
        "    tokens = word_tokenize(combined_text.lower())\n",
        "    clean_tokens = [word for word in tokens if word.isalnum() and word not in stop_words]\n",
        "    word_count = Counter(clean_tokens)\n",
        "    disease_word_freq[disease] = word_count.most_common(10)\n",
        "\n",
        "disease = 'allergy'\n",
        "words, counts = zip(*disease_word_freq[disease])\n",
        "\n",
        "plt.figure(figsize=(8, 6))\n",
        "sns.barplot(y=list(words), x=list(counts), palette=\"viridis\")\n",
        "\n",
        "plt.title(f\"Top Symptoms/Words for {disease.capitalize()}\", fontsize=14)\n",
        "\n",
        "plt.xlabel(\"Frequency\")\n",
        "plt.ylabel(\"Word\")\n",
        "plt.tight_layout()\n",
        "plt.show()\n"
      ]
    },
    {
      "cell_type": "markdown",
      "metadata": {
        "id": "0Eygoe-EMqGB"
      },
      "source": [
        "Another visulization using wordcloud"
      ]
    },
    {
      "cell_type": "code",
      "execution_count": null,
      "metadata": {
        "id": "97F7U4PeMqUU"
      },
      "outputs": [],
      "source": [
        "from wordcloud import WordCloud\n",
        "\n",
        "fig, (ax1, ax2) = plt.subplots(1, 2, figsize=[18, 8])\n",
        "\n",
        "wordcloud = WordCloud(width=600, height=200, background_color='white',  colormap='viridis', min_font_size=10,).generate(' '.join([word for word, freq in disease_word_freq['Psoriasis']]))\n",
        "\n",
        "ax1.imshow(wordcloud)\n",
        "ax1.axis('off')\n",
        "ax1.set_title('Psoriasis Most frequent words',fontsize=18);\n",
        "\n",
        "wordcloud2 = WordCloud(width=600, height=200, background_color='white',  colormap='cool' ,  min_font_size=10).generate(' '.join([word for word, freq in disease_word_freq['allergy']]))\n",
        "\n",
        "ax2.imshow(wordcloud2)\n",
        "ax2.axis('off')\n",
        "ax2.set_title('Allergy Most frequent words',fontsize=18);\n",
        "\n",
        "plt.tight_layout()\n",
        "plt.show()"
      ]
    },
    {
      "cell_type": "markdown",
      "metadata": {
        "id": "fKEskqACAmcZ"
      },
      "source": [
        "####2.3\n",
        "Word Frequency Across all Symptoms to figure out if there is some words that will dominate the chart\n",
        "\n",
        "from the chart we know that we must use stopwords removal during preprocessing\n",
        "\n"
      ]
    },
    {
      "cell_type": "code",
      "execution_count": null,
      "metadata": {
        "id": "0l6hQKjNAmw5"
      },
      "outputs": [],
      "source": [
        "tokinized_text = []\n",
        "for i in df['text']:\n",
        "  tokinized_text.append(word_tokenize(i.lower()))\n",
        "\n",
        "flattened_list = [word for sublist in tokinized_text for word in sublist]\n",
        "\n",
        "word_count = Counter(flattened_list)\n",
        "\n",
        "most_common_words = word_count.most_common(20)\n",
        "\n",
        "words, counts = zip(*most_common_words)\n",
        "\n",
        "plt.figure(figsize=(12, 6))\n",
        "sns.barplot(y=list(words), x=list(counts))\n",
        "\n",
        "plt.xticks(rotation=90)\n",
        "plt.title(\"Word Frequency Across all Symptoms\", fontsize = 20)\n",
        "plt.xlabel(\"Words\", fontsize = 15)\n",
        "plt.ylabel(\"Frequency\", fontsize = 15)\n",
        "\n",
        "plt.show()"
      ]
    },
    {
      "cell_type": "markdown",
      "metadata": {
        "id": "g_LdJvpN9Lba"
      },
      "source": [
        "####2.4\n",
        "\n",
        "Check for Outliers And Noise.\n",
        "\n",
        "by cheking the text length we will see if there is outliers text to deal with them in the preprocessing phase.\n",
        "\n",
        "for ex: text contain 3-5 words or 100 words."
      ]
    },
    {
      "cell_type": "code",
      "execution_count": null,
      "metadata": {
        "id": "_UBvJ1zM9PI_"
      },
      "outputs": [],
      "source": [
        "text_lengths = df['text'].apply(lambda x: len(x.split()))\n",
        "\n",
        "plt.hist(text_lengths, bins = 20 , color = 'skyblue', edgecolor = 'black')\n",
        "\n",
        "\n",
        "plt.title(\"Distribution of Text Length\", fontsize = 20)\n",
        "plt.xlabel(\"Text Length\", fontsize = 15)\n",
        "plt.ylabel(\"Frequency\", fontsize = 15)\n",
        "\n",
        "plt.show()"
      ]
    },
    {
      "cell_type": "markdown",
      "metadata": {
        "id": "MRxJ-Crjp2qq"
      },
      "source": [
        "Short texts outliers\n",
        "\n",
        "None"
      ]
    },
    {
      "cell_type": "code",
      "execution_count": null,
      "metadata": {
        "id": "luqdYLv4pX8D"
      },
      "outputs": [],
      "source": [
        "short_texts = df[df['text'].apply(lambda x: len(x.split()) < 5)]\n",
        "print(\"Short Texts:\" )\n",
        "\n",
        "short_texts"
      ]
    },
    {
      "cell_type": "markdown",
      "metadata": {
        "id": "6pA0Q7Kfqfiv"
      },
      "source": [
        "Long texts ouliers\n",
        "\n",
        "After reading these 3 text i decided to keep them as they are since there isn't any unrelated or irrelevant words instead the symptoms are detailen in plain language"
      ]
    },
    {
      "cell_type": "code",
      "execution_count": null,
      "metadata": {
        "id": "Ca3A9_X8qiPV"
      },
      "outputs": [],
      "source": [
        "pd.set_option('display.max_colwidth', None)\n",
        "\n",
        "long_texts = df[df['text'].apply(lambda x: len(x.split()) > 50)]\n",
        "print(\"Long Texts:\" )\n",
        "long_texts"
      ]
    },
    {
      "cell_type": "markdown",
      "metadata": {
        "id": "PmsLfFBCtdYy"
      },
      "source": [
        "### **3- Text Preprocessing**"
      ]
    },
    {
      "cell_type": "markdown",
      "metadata": {
        "id": "O0VafmIbNAbd"
      },
      "source": [
        "####3.1\n",
        "Make a copy of the original Dataset.\n",
        "\n",
        "Rename columns for more code readability and remove irrelevant columns.\n"
      ]
    },
    {
      "cell_type": "code",
      "execution_count": null,
      "metadata": {
        "id": "WghsKbDSNAu-"
      },
      "outputs": [],
      "source": [
        "df2 = df.copy()\n",
        "\n",
        "df2.rename(columns={'label': 'Disease', 'text': 'Symptoms', 'input_with_ner':'NER'}, inplace=True)\n",
        "df2.drop(columns=['Unnamed: 0'], inplace=True)\n",
        "df2.head()"
      ]
    },
    {
      "cell_type": "markdown",
      "metadata": {
        "id": "cKLnDmIVtwl_"
      },
      "source": [
        "####3.2\n",
        "LowerCasing to ensure uniformity.\n",
        "\n"
      ]
    },
    {
      "cell_type": "code",
      "execution_count": null,
      "metadata": {
        "id": "HMqRVmlGL7H-"
      },
      "outputs": [],
      "source": [
        "df.head(10)"
      ]
    },
    {
      "cell_type": "code",
      "execution_count": null,
      "metadata": {
        "id": "yYK1v5Nrtc8Z"
      },
      "outputs": [],
      "source": [
        "df2['Symptoms'] = df2['Symptoms'].str.lower()\n",
        "df2.head(10)"
      ]
    },
    {
      "cell_type": "markdown",
      "metadata": {
        "id": "H7zixpoMN3JP"
      },
      "source": [
        "#### 3.3\n",
        "Noise Removal:\n",
        "\n",
        "1- If there is numbers are they valuable ?\n",
        "\n",
        "2- Remove unnecessary punctuation/special characters selectively.\n"
      ]
    },
    {
      "cell_type": "code",
      "execution_count": null,
      "metadata": {
        "id": "h9I26mbxN3Um"
      },
      "outputs": [],
      "source": [
        "# First i wanted to check if there is any numbers in symptoms which can be a valueable information\n",
        "import re\n",
        "\n",
        "def contain_number(text):\n",
        "  return bool(re.search(r'\\d', text))\n",
        "\n",
        "df2['has numbers'] = df2['Symptoms'].apply(contain_number)\n",
        "\n",
        "symptom_with_numbers = df2[df2['has numbers'] == True]\n",
        "print(symptom_with_numbers.shape[0])\n",
        "symptom_with_numbers.head()"
      ]
    },
    {
      "cell_type": "code",
      "execution_count": null,
      "metadata": {
        "id": "LhaaRePZgRLO"
      },
      "outputs": [],
      "source": [
        "df2.drop(columns=['has numbers'], inplace=True)"
      ]
    },
    {
      "cell_type": "markdown",
      "metadata": {
        "id": "qGWZQVyFN3yF"
      },
      "source": [
        "After we know that there is no number in our DataSet i will remove all puncatuation or special charecter except for , and . in the DataSet as i saw that they may help me understand the context during the preprocessing phase."
      ]
    },
    {
      "cell_type": "code",
      "execution_count": null,
      "metadata": {
        "id": "_IzdSPI1N39n"
      },
      "outputs": [],
      "source": [
        "import string\n",
        "\n",
        "special_characters = string.punctuation.replace('.', '').replace(',', '')\n",
        "noise_pattren = r\"[%s]\" % re.escape(special_characters)\n",
        "\n",
        "df3 = df2.copy()\n",
        "\n",
        "df3['Symptoms'] = df3['Symptoms'].str.replace(noise_pattren, '', regex=True)\n",
        "\n",
        "display(df2.loc[[938]])\n",
        "df3.loc[[938]]"
      ]
    },
    {
      "cell_type": "markdown",
      "metadata": {
        "id": "lbVDzQnvcRiJ"
      },
      "source": [
        "#### 3.4\n",
        "Split the text into smaller pieces (Tokenization).\n",
        "\n",
        "\n"
      ]
    },
    {
      "cell_type": "code",
      "execution_count": null,
      "metadata": {
        "id": "eFYvazG5cRuG"
      },
      "outputs": [],
      "source": [
        "# I decided to use spacy libary for now.\n",
        "\n",
        "nlp = spacy.load(\"en_core_web_sm\")\n",
        "\n",
        "sample = \"I have been experiencing a skin rash on my arms, legs, and torso.\"\n",
        "\n",
        "for token in nlp(sample):\n",
        "  print(token)"
      ]
    },
    {
      "cell_type": "code",
      "execution_count": null,
      "metadata": {
        "id": "qdfYF0u4g1H9"
      },
      "outputs": [],
      "source": [
        "df3['Symptoms'] = df3['Symptoms'].apply(lambda x: nlp(x))\n"
      ]
    },
    {
      "cell_type": "code",
      "execution_count": null,
      "metadata": {
        "id": "9IlKDBNT8rv8"
      },
      "outputs": [],
      "source": [
        "df3.tail()"
      ]
    },
    {
      "cell_type": "markdown",
      "metadata": {
        "id": "ulaVCwVAjM5d"
      },
      "source": [
        "#### 3.5\n",
        "Another Check beside the visualization to check if Stopword removal is needed and applied if it is.\n"
      ]
    },
    {
      "cell_type": "code",
      "execution_count": null,
      "metadata": {
        "id": "7nW2GZLIjNG5"
      },
      "outputs": [],
      "source": [
        "all_stop_words = []\n",
        "\n",
        "for doc in df3['Symptoms']:\n",
        "  all_stop_words.extend([token.text for token in doc if token.is_stop])\n",
        "\n",
        "stop_words_freq = Counter(all_stop_words)\n",
        "print(stop_words_freq.most_common(20))\n",
        "\n",
        "df3.sample(10)"
      ]
    },
    {
      "cell_type": "markdown",
      "metadata": {
        "id": "S6YJ1qc3pMK8"
      },
      "source": [
        "I decided to use stopword removal but exuclude the following as they may offer useful information :\n",
        "- have\n",
        "- also\n",
        "- has\n",
        "- in"
      ]
    },
    {
      "cell_type": "code",
      "execution_count": null,
      "metadata": {
        "id": "PnnjOzUZnreB"
      },
      "outputs": [],
      "source": [
        "nlp.Defaults.stop_words -= { 'have', 'also', 'has', 'in'}\n",
        "\n",
        "for word in ['have', 'also',  'has', 'in']:\n",
        "    lexeme = nlp.vocab[word]\n",
        "    lexeme.is_stop = False\n",
        "\n",
        "# Confirm that the words are no longer stopwords\n",
        "for word in ['have', 'also', 'has', 'in']:\n",
        "    print(f\"Is '{word}' a stopword? {nlp.vocab[word].is_stop}\")\n"
      ]
    },
    {
      "cell_type": "markdown",
      "metadata": {
        "id": "7ipyv_M-usvU"
      },
      "source": [
        "Applying the custom stopwords removal to the DataSet"
      ]
    },
    {
      "cell_type": "code",
      "execution_count": null,
      "metadata": {
        "id": "N52Q0TiqL-XJ"
      },
      "outputs": [],
      "source": [
        "df2.head()"
      ]
    },
    {
      "cell_type": "code",
      "execution_count": null,
      "metadata": {
        "id": "kFSxE78-usYZ"
      },
      "outputs": [],
      "source": [
        "def remove_stopwords(doc):\n",
        "  return \" \".join([token.text for token in doc if not token.is_stop])\n",
        "\n",
        "df3['Symptoms'] = df3['Symptoms'].apply(remove_stopwords)\n",
        "df3.head()\n"
      ]
    },
    {
      "cell_type": "code",
      "execution_count": null,
      "metadata": {
        "id": "53vcncbc-mW4"
      },
      "outputs": [],
      "source": [
        "df3.tail()"
      ]
    },
    {
      "cell_type": "markdown",
      "metadata": {
        "id": "zBfEqJKV0j3q"
      },
      "source": [
        "#### 3.6\n",
        "Make Copy\n",
        "Reduce the word to their base root by using Lemmatization or Stemming."
      ]
    },
    {
      "cell_type": "code",
      "execution_count": null,
      "metadata": {
        "id": "ULXcOl2h0kH-"
      },
      "outputs": [],
      "source": [
        "df4 = df3.copy()\n",
        "\n",
        "def lemmatize_text(text):\n",
        "    doc = nlp(text)\n",
        "    lemmatized_tokens = [token.lemma_ for token in doc ]\n",
        "    return \" \".join(lemmatized_tokens)\n",
        "\n",
        "df4[\"Symptoms\"] = df4[\"Symptoms\"].apply(lemmatize_text)\n",
        "display(df3.head(10))\n",
        "df4.head(10)"
      ]
    },
    {
      "cell_type": "code",
      "execution_count": null,
      "metadata": {
        "id": "-vz-TAhw_9aw"
      },
      "outputs": [],
      "source": [
        "df4.tail()"
      ]
    },
    {
      "cell_type": "markdown",
      "metadata": {
        "id": "uuoY2cb__R4W"
      },
      "source": [
        "I noticed that there some words like ve or m and they are often is a result after tokinzation where it split word like i've to ve so i will adjust them back to their correct form ve = have , m = am"
      ]
    },
    {
      "cell_type": "code",
      "execution_count": null,
      "metadata": {
        "id": "Yml7Dxi__RYi"
      },
      "outputs": [],
      "source": [
        "contractions_custom = {\n",
        "    \"ve\": \"have\",\n",
        "    \"m\": \"am\",\n",
        "}\n",
        "\n",
        "def expand_contractions_to_list(text):\n",
        "    words = text.split()\n",
        "    expanded_words = [contractions_custom.get(word, word) for word in words]\n",
        "    return ' '.join(expanded_words)\n",
        "\n",
        "df4['Symptoms'] = df4['Symptoms'].apply(expand_contractions_to_list)\n",
        "df4.tail()"
      ]
    },
    {
      "cell_type": "markdown",
      "metadata": {
        "id": "A4iimrGsPaiJ"
      },
      "source": [
        "####3.7\n",
        "Save Preprocessed Data and Logs.\n",
        "\n",
        "To understand what is done in the future."
      ]
    },
    {
      "cell_type": "code",
      "execution_count": null,
      "metadata": {
        "id": "lsWcEGHRPPtz"
      },
      "outputs": [],
      "source": [
        "df4.to_csv(\"Preprocessed_Data.csv\" , index=False)\n",
        "\n",
        "# preprocessing_logs = \"\"\"\n",
        "# Preprocessing Steps:\n",
        "# 1. Rename columns for more code readability and remove irrelevant columns.\n",
        "# 2. LowerCasing to ensure uniformity.\n",
        "# 3. Noise Removal\n",
        "# 4. Tokenization applied using SpaCy.\n",
        "# 5. Custom stopwords excluded: {'been', 'have', 'also', 'really', 'has', 'in'} and Stopwords removed from the text while retaining punctuation (',', '.').\n",
        "# 6. POS-aware lemmatization applied to reduce words to their base form.\n",
        "# 7. Final output is clean text sentences ready for feature engineering.\n",
        "# \"\"\"\n",
        "\n",
        "# with open(\"preprocessing_logs.txt\", \"w\") as log_file:\n",
        "#     log_file.write(preprocessing_logs)\n",
        "\n"
      ]
    },
    {
      "cell_type": "markdown",
      "metadata": {
        "id": "o4G82363Row7"
      },
      "source": [
        "### **4- Feature Engineering**\n",
        "\n",
        "  "
      ]
    },
    {
      "cell_type": "markdown",
      "metadata": {
        "id": "-dglbWHkR0gb"
      },
      "source": [
        "#### 4.1\n",
        "Load the preprocess DataSet\n",
        "Analyze the symptom descriptions to understand vocabulary size and word distribution."
      ]
    },
    {
      "cell_type": "code",
      "execution_count": null,
      "metadata": {
        "id": "yKn7OK02Ro6Y"
      },
      "outputs": [],
      "source": [
        "import numpy as np\n",
        "import pandas as pd\n",
        "import matplotlib.pyplot as plt\n",
        "import seaborn as sns\n",
        "import nltk\n",
        "import spacy\n",
        "\n",
        "nlp = spacy.load(\"en_core_web_sm\")\n",
        "\n",
        "dataset = pd.read_csv(\"/content/Preprocessed_Data.csv\")\n",
        "\n",
        "df = pd.DataFrame(dataset)\n",
        "\n",
        "all_text = ' '.join(df['Symptoms'])\n",
        "\n",
        "tokens = nlp(all_text)\n",
        "unique_words = set(tokens)\n",
        "\n",
        "print(\"Vocabulary Size:\", len(unique_words))\n",
        "df.head()"
      ]
    },
    {
      "cell_type": "markdown",
      "metadata": {
        "id": "f2mKyciyyTij"
      },
      "source": [
        "word distribution."
      ]
    },
    {
      "cell_type": "code",
      "execution_count": null,
      "metadata": {
        "id": "PbdWzcFIsKgE"
      },
      "outputs": [],
      "source": [
        "nltk.download('punkt_tab')\n",
        "from nltk.tokenize import word_tokenize\n",
        "from collections import Counter\n",
        "\n",
        "tokinized_text = []\n",
        "for i in df['Symptoms']:\n",
        "  tokinized_text.append(word_tokenize(i.lower()))\n",
        "\n",
        "flattened_list = [word for sublist in tokinized_text for word in sublist]\n",
        "\n",
        "word_count = Counter(flattened_list)\n",
        "\n",
        "most_common_words = word_count.most_common(20)\n",
        "\n",
        "words, counts = zip(*most_common_words)\n",
        "\n",
        "plt.figure(figsize=(12, 6))\n",
        "sns.barplot(y=list(words), x=list(counts))\n",
        "\n",
        "plt.xticks(rotation=90)\n",
        "plt.title(\"Word Frequency Across all Symptoms\", fontsize = 20)\n",
        "plt.xlabel(\"Words\", fontsize = 15)\n",
        "plt.ylabel(\"Frequency\", fontsize = 15)\n",
        "\n",
        "plt.show()"
      ]
    },
    {
      "cell_type": "markdown",
      "metadata": {
        "id": "_uxhqyDsysBF"
      },
      "source": [
        "After entering the Feature engineering phase we will remove punctuation , and . as they don't have any value now instead they will be adding more noise and the chart prove it."
      ]
    },
    {
      "cell_type": "code",
      "execution_count": null,
      "metadata": {
        "id": "8ASdmQWVy3qI"
      },
      "outputs": [],
      "source": [
        "df['Symptoms'] = df['Symptoms'].apply(lambda x: x.replace('.', '').replace(',', ''))\n",
        "df.head()"
      ]
    },
    {
      "cell_type": "code",
      "execution_count": null,
      "metadata": {
        "id": "-zLvEEox0Ap6"
      },
      "outputs": [],
      "source": [
        "nltk.download('punkt_tab')\n",
        "from nltk.tokenize import word_tokenize\n",
        "from collections import Counter\n",
        "\n",
        "tokinized_text = []\n",
        "for i in df['Symptoms']:\n",
        "  tokinized_text.append(word_tokenize(i.lower()))\n",
        "\n",
        "flattened_list = [word for sublist in tokinized_text for word in sublist]\n",
        "\n",
        "word_count = Counter(flattened_list)\n",
        "\n",
        "most_common_words = word_count.most_common(20)\n",
        "\n",
        "words, counts = zip(*most_common_words)\n",
        "\n",
        "plt.figure(figsize=(12, 6))\n",
        "sns.barplot(y=list(words), x=list(counts))\n",
        "\n",
        "plt.xticks(rotation=90)\n",
        "plt.title(\"Word Frequency Across all Symptoms\", fontsize = 20)\n",
        "plt.xlabel(\"Words\", fontsize = 15)\n",
        "plt.ylabel(\"Frequency\", fontsize = 15)\n",
        "\n",
        "plt.show()"
      ]
    },
    {
      "cell_type": "markdown",
      "metadata": {
        "id": "K1eMDvO22Ws3"
      },
      "source": [
        "#### 4.2.1\n",
        "starting with TF-IDF.\n",
        "\n",
        "From 4.1 section i undesrtood that IF-IDF will be a good apprach so it can handle words like have, be, in and others...\n",
        "\n",
        "\n",
        "Apply TF-IDF to the Symptoms column and transform it into a numerical matrix.\n",
        "Use ngram_range to capture single words and word pairs (e.g., (1, 2)).\n"
      ]
    },
    {
      "cell_type": "code",
      "execution_count": null,
      "metadata": {
        "id": "mDereZ0xCbvH"
      },
      "outputs": [],
      "source": [
        "from sklearn.feature_extraction.text import TfidfVectorizer\n",
        "from sklearn.decomposition import TruncatedSVD\n",
        "\n",
        "tfidf_vectorizer = TfidfVectorizer(ngram_range=(1, 2), max_features=3000)\n",
        "x_tfidf = tfidf_vectorizer.fit_transform(df['Symptoms'])\n",
        "\n",
        "svd = TruncatedSVD(n_components=300)  # Reduce to 300 dimensions\n",
        "reduced_x_tfidf = svd.fit_transform(x_tfidf)"
      ]
    },
    {
      "cell_type": "code",
      "execution_count": null,
      "metadata": {
        "id": "MY5exFywSp1Y"
      },
      "outputs": [],
      "source": [
        "print(f\"Reduced TF-IDF shape: {reduced_x_tfidf.shape}\")\n",
        "print(f\"Sparsity: {100 * (1 - x_tfidf.nnz / (x_tfidf.shape[0] * x_tfidf.shape[1])):.2f}%\")\n",
        "print(tfidf_vectorizer.get_feature_names_out()[:10])\n"
      ]
    },
    {
      "cell_type": "markdown",
      "metadata": {
        "id": "4oQ8VeS1VR34"
      },
      "source": [
        "After i saw that the word abdoman which is a misspelled word i wanted to check the original data"
      ]
    },
    {
      "cell_type": "code",
      "execution_count": null,
      "metadata": {
        "id": "fsWWVQf2UXyl"
      },
      "outputs": [],
      "source": [
        "display(df['Symptoms'].str.contains('abdoman', case=False).any())\n",
        "\n",
        "display(df[df['Symptoms'].str.contains('abdoman', case=False)])\n"
      ]
    },
    {
      "cell_type": "markdown",
      "metadata": {
        "id": "6u8J_k_pVd29"
      },
      "source": [
        "After i know for sure that it exist i will use textblob libary to fix misspelling automaticlly"
      ]
    },
    {
      "cell_type": "code",
      "execution_count": null,
      "metadata": {
        "id": "_h7livV2VeBX"
      },
      "outputs": [],
      "source": [
        "from textblob import TextBlob\n",
        "\n",
        "df['Symptoms'] = df['Symptoms'].apply(lambda x: str(TextBlob(x).correct()))\n",
        "\n"
      ]
    },
    {
      "cell_type": "code",
      "execution_count": null,
      "metadata": {
        "id": "0Ov1JEe8WvE1"
      },
      "outputs": [],
      "source": [
        "display(df['Symptoms'].str.contains('abdoman', case=False).any())\n",
        "\n",
        "display(df[df['Symptoms'].str.contains('abdoman', case=False)])"
      ]
    },
    {
      "cell_type": "markdown",
      "metadata": {
        "id": "deiv__39W0MX"
      },
      "source": [
        "Reapply TD-IDF and add min_df=2 to Remove very rare terms\n",
        "\n",
        "\n",
        "* try diffreant max_features value to check model preformance in the futrue"
      ]
    },
    {
      "cell_type": "code",
      "execution_count": null,
      "metadata": {
        "id": "poj1r8msW4OM"
      },
      "outputs": [],
      "source": [
        "from sklearn.feature_extraction.text import TfidfVectorizer\n",
        "from sklearn.decomposition import TruncatedSVD\n",
        "\n",
        "tfidf_vectorizer = TfidfVectorizer(ngram_range=(1, 2), max_features=3000, min_df=2)\n",
        "x_tfidf = tfidf_vectorizer.fit_transform(df['Symptoms'])\n",
        "\n",
        "# svd = TruncatedSVD(n_components=500)  # Reduce to 500 dimensions\n",
        "svd = TruncatedSVD(n_components=300)  # Reduce to 300 dimensions\n",
        "reduced_x_tfidf = svd.fit_transform(x_tfidf)"
      ]
    },
    {
      "cell_type": "code",
      "execution_count": null,
      "metadata": {
        "id": "uHVfooeCW59b"
      },
      "outputs": [],
      "source": [
        "print(f\"Reduced TF-IDF shape: {reduced_x_tfidf.shape}\")\n",
        "print(f\"Sparsity: {100 * (1 - x_tfidf.nnz / (x_tfidf.shape[0] * x_tfidf.shape[1])):.2f}%\")\n",
        "print(tfidf_vectorizer.get_feature_names_out()[:10])\n"
      ]
    },
    {
      "cell_type": "markdown",
      "metadata": {
        "id": "s_ySF_zjYUYf"
      },
      "source": [
        "#### 4.2.2 FastText Embedding"
      ]
    },
    {
      "cell_type": "code",
      "execution_count": null,
      "metadata": {
        "id": "4G8FXUgkYcdG"
      },
      "outputs": [],
      "source": [
        "import numpy as np\n",
        "import pandas as pd\n",
        "import matplotlib.pyplot as plt\n",
        "import seaborn as sns\n",
        "import nltk\n",
        "import spacy\n",
        "\n",
        "dataset = pd.read_csv(\"/content/NER_Preprocessed_Data.csv\")\n",
        "\n",
        "df = pd.DataFrame(dataset)\n",
        "df['tokenized_symptoms'] = df['Symptoms'].apply(lambda x: x.split())\n",
        "df.head()"
      ]
    },
    {
      "cell_type": "code",
      "source": [
        "#  pip install --upgrade numpy gensim\n"
      ],
      "metadata": {
        "id": "lnHOFBdLEilM"
      },
      "execution_count": null,
      "outputs": []
    },
    {
      "cell_type": "markdown",
      "source": [
        "PreTrained FastText"
      ],
      "metadata": {
        "id": "U46LClL3ceh-"
      }
    },
    {
      "cell_type": "code",
      "source": [
        "!wget https://dl.fbaipublicfiles.com/fasttext/vectors-crawl/cc.en.300.vec.gz\n",
        "!gunzip cc.en.300.vec.gz\n"
      ],
      "metadata": {
        "id": "FEpGZoTv2Xra"
      },
      "execution_count": null,
      "outputs": []
    },
    {
      "cell_type": "code",
      "source": [
        "from gensim.models import KeyedVectors\n",
        "\n",
        "fasttext_pretrained = KeyedVectors.load_word2vec_format('cc.en.300.vec', binary=False)\n",
        "\n",
        "fasttext_pretrained.save(\"cc_en_300_kv.kv\")"
      ],
      "metadata": {
        "id": "6ALMyC2EcaOQ"
      },
      "execution_count": null,
      "outputs": []
    },
    {
      "cell_type": "code",
      "execution_count": null,
      "metadata": {
        "id": "wTFnlPWEYeXo"
      },
      "outputs": [],
      "source": [
        "\n",
        "\n",
        "# model = FastText(sentences=df['tokenized_symptoms'].tolist(), vector_size=100, window=5, min_count=3, workers=4, epochs=10, sg=1, seed=42)\n",
        "# model.save(\"fasttext_model.bin\")\n"
      ]
    },
    {
      "cell_type": "code",
      "source": [
        "# def get_sentence_embedding(sentence, model):\n",
        "#     words = sentence.lower().split()\n",
        "#     word_vectors = [model.wv[word] for word in words if word in model.wv]\n",
        "#     if word_vectors:\n",
        "#         return np.mean(word_vectors, axis=0)\n",
        "#     else:\n",
        "#         return np.zeros(model.vector_size)\n",
        "\n",
        "# # Then create embeddings like this:\n",
        "# X_fasttext = np.array([get_sentence_embedding(text, model) for text in df['Symptoms']])\n",
        "# np.save('FastText_Embeddings.npy', X_fasttext)\n"
      ],
      "metadata": {
        "id": "uGNFmrufHegJ"
      },
      "execution_count": null,
      "outputs": []
    },
    {
      "cell_type": "code",
      "execution_count": null,
      "metadata": {
        "id": "gz1EjrToagwD"
      },
      "outputs": [],
      "source": [
        "def get_sentence_embedding(sentence):\n",
        "    words = sentence.lower().split()\n",
        "    word_vectors = [fasttext_pretrained[word] for word in words if word in fasttext_pretrained]\n",
        "    return np.mean(word_vectors, axis=0) if word_vectors else np.zeros(fasttext_pretrained.vector_size)\n",
        "\n",
        "# Apply to original symptoms\n",
        "X_fasttext_symptoms = np.array([get_sentence_embedding(text) for text in df['Symptoms']])\n",
        "np.save('FastText_Embeddings_Symptoms.npy', X_fasttext_symptoms)\n",
        "\n",
        "# Apply the same function to the NER column\n",
        "X_fasttext_ner = np.array([get_sentence_embedding(text) for text in df['NER']])\n",
        "np.save('FastText_Embeddings_NER.npy', X_fasttext_ner)"
      ]
    },
    {
      "cell_type": "markdown",
      "metadata": {
        "id": "5edYHPM0LPWS"
      },
      "source": [
        "#### 4.3\n",
        "Encode the Disease column"
      ]
    },
    {
      "cell_type": "code",
      "execution_count": null,
      "metadata": {
        "id": "8IAYRSD0LPpn"
      },
      "outputs": [],
      "source": [
        "Encoded_Disease = pd.get_dummies(df['Disease'], prefix='')\n",
        "\n",
        "Encoded_Disease.head()\n",
        "disease_names = Encoded_Disease.columns.tolist()\n",
        "disease_names"
      ]
    },
    {
      "cell_type": "code",
      "source": [
        "# Remove the leading underscore from each name\n",
        "disease_names = [name.lstrip('_') for name in disease_names]\n",
        "disease_names"
      ],
      "metadata": {
        "id": "xYdlUEW-p_4x"
      },
      "execution_count": null,
      "outputs": []
    },
    {
      "cell_type": "code",
      "execution_count": null,
      "metadata": {
        "id": "zPMEY2RJPOnt"
      },
      "outputs": [],
      "source": [
        "Encoded_Disease = Encoded_Disease.astype(int)\n",
        "Encoded_Disease.head()"
      ]
    },
    {
      "cell_type": "markdown",
      "metadata": {
        "id": "QynvCKjLa9Af"
      },
      "source": [
        "#### 4.5\n",
        "Save the transformed data and feature names for modeling.\n"
      ]
    },
    {
      "cell_type": "code",
      "execution_count": null,
      "metadata": {
        "id": "mX2mUZX1cPn7"
      },
      "outputs": [],
      "source": [
        "# Save the log as a text file\n",
        "log_content = \"\"\"\n",
        "### Feature Engineering Log\n",
        "\n",
        "1. **TF-IDF Vectorization**:\n",
        "   - Applied TF-IDF to the 'Symptoms' column for feature extraction.\n",
        "   - N-gram range set to (1, 2), capturing both unigrams and bigrams.\n",
        "   - Limited features to 3,000 most important terms using `max_features`.\n",
        "   - Filtered rare terms using `min_df=2`, ensuring terms appear in at least 2 documents.\n",
        "\n",
        "2. **Analysis of Top Features**:\n",
        "   - Inspected the top 10 features after vectorization, including:\n",
        "     - \"abdomen day\"\n",
        "     - \"abdomen hour\"\n",
        "     - \"abdominal pain\"\n",
        "     - \"ability concentrate\"\n",
        "   - Observed that some terms (e.g., \"abdomen\") were prominent but validated their relevance in the dataset.\n",
        "\n",
        "3. **Dimensionality Reduction**:\n",
        "   - Applied Truncated SVD to reduce dimensionality of the TF-IDF matrix.\n",
        "   - Reduced the feature space to 300 dimensions for efficiency and better model performance.\n",
        "   - Ensured that the reduced matrix retained key information.\n",
        "\n",
        "4. **Encoded the disease column**:\n",
        "\"\"\"\n",
        "\n",
        "log_file_path = \"Feature_Engineering_Log.txt\"\n",
        "\n",
        "with open(log_file_path, \"w\") as log_file:\n",
        "    log_file.write(log_content)\n",
        "\n",
        "\n"
      ]
    },
    {
      "cell_type": "code",
      "execution_count": null,
      "metadata": {
        "id": "vHPScveNbBF7"
      },
      "outputs": [],
      "source": [
        "from scipy.sparse import save_npz\n",
        "\n",
        "df.to_csv(\"FinalPreprocessdData.csv\", index=False)\n",
        "\n",
        "save_npz('TFIDF_Matrix.npz', x_tfidf)\n",
        "np.save('Reduced_TFIDF.npy', reduced_x_tfidf)\n",
        "np.save('Dummy_Encoded_Disease.npy', Encoded_Disease.values)\n",
        "np.save('Encoded_Disease_Columns.npy', Encoded_Disease.columns.to_list())\n"
      ]
    },
    {
      "cell_type": "markdown",
      "metadata": {
        "id": "ZCwAKPJ8c0Yt"
      },
      "source": [
        "### **5- Splitting the DataSet**\n",
        "\n"
      ]
    },
    {
      "cell_type": "markdown",
      "metadata": {
        "id": "7_J6uVlSc_Dl"
      },
      "source": [
        "#### 5.1\n",
        "Training Dataset to train the model.\n",
        "Testing DataSet to test the model."
      ]
    },
    {
      "cell_type": "code",
      "execution_count": null,
      "metadata": {
        "id": "AXYf3w1-dI65"
      },
      "outputs": [],
      "source": [
        "import pandas as pd\n",
        "from sklearn.model_selection import train_test_split\n",
        "\n",
        "x_tfidf = np.load('/content/Reduced_TFIDF.npy')\n",
        "#x_fasttext = np.load('/content/FastText_Embeddings_NER.npy')\n",
        "\n",
        "y = np.load('/content/Dummy_Encoded_Disease.npy')\n",
        "\n",
        "print(f\"Features TF-IDF Shape (X): {x_tfidf.shape}\")  # Expected: (number of samples = 1200 , featurre = 300)\n",
        "#print(f\"Features FatText Shape (X): {x_fasttext.shape}\") # Expected: (number of samples = 1200 , featurre = 100)\n",
        "print(f\"Labels Shape (y): {y.shape}\")    # Expected: (number of samples=1200, number of classes=24)\n",
        "\n",
        "# Check consistency\n",
        "assert x_tfidf.shape[0] == y.shape[0], \"Mismatch: Number of samples in X and y do not match!\"\n",
        "#assert x_fasttext.shape[0] == y.shape[0], \"Mismatch: Number of samples in X_fasttext and y do not match!\""
      ]
    },
    {
      "cell_type": "code",
      "execution_count": null,
      "metadata": {
        "id": "gmBhl6LkR0Dh"
      },
      "outputs": [],
      "source": [
        "disease_distribution = y.sum(axis=0)\n",
        "\n",
        "print(\"Number of samples per disease:\", disease_distribution)\n",
        "print(\"Total samples:\", disease_distribution.sum())\n"
      ]
    },
    {
      "cell_type": "code",
      "execution_count": null,
      "metadata": {
        "id": "Kv5lekdVSB3h"
      },
      "outputs": [],
      "source": [
        "# Check if each row has exactly one '1'\n",
        "row_sums = y.sum(axis=1)\n",
        "assert np.all(row_sums == 1), \"Error: Some rows in y do not have exactly one '1'!\"\n",
        "print(\"One-hot encoding verified: Each row has exactly one '1'.\")\n"
      ]
    },
    {
      "cell_type": "markdown",
      "metadata": {
        "id": "o0yOTIONnll0"
      },
      "source": [
        "#### 5.2.1 TF-IFD Splitting\n",
        "General split 90% training+validation and 10% test"
      ]
    },
    {
      "cell_type": "code",
      "execution_count": null,
      "metadata": {
        "id": "80DsNXFvSfBn"
      },
      "outputs": [],
      "source": [
        "from sklearn.model_selection import train_test_split\n",
        "\n",
        "x_train_val, x_test , y_train_val , y_test = train_test_split(x_tfidf, y, test_size=0.1, random_state=42, stratify=y)\n",
        "\n",
        "print(f\"Train+Validation Set Shape: {x_train_val.shape}\")\n",
        "print(f\"Test Set Shape: {x_test.shape}\")\n",
        "print(f\"Train+Validation Set Shape: {y_train_val.shape}\")\n",
        "print(f\"Test Set Shape: {y_test.shape}\")"
      ]
    },
    {
      "cell_type": "markdown",
      "metadata": {
        "id": "8h5ACKa6n2Sh"
      },
      "source": [
        "Split training_val into 80% training and 20% val"
      ]
    },
    {
      "cell_type": "code",
      "execution_count": null,
      "metadata": {
        "id": "8b_SmKsdnsyY"
      },
      "outputs": [],
      "source": [
        "x_train, x_val, y_train, y_val = train_test_split(x_train_val, y_train_val, test_size=0.1111, random_state=42, stratify=y_train_val)\n",
        "\n",
        "print(f\"Train Set Shape: {x_train.shape}\")\n",
        "print(f\"Validation Set Shape: {x_val.shape}\")\n",
        "print(f\"Train Set Shape: {y_train.shape}\")\n",
        "print(f\"Validation Set Shape: {y_val.shape}\")"
      ]
    },
    {
      "cell_type": "markdown",
      "metadata": {
        "id": "0Ag2u-j9oQ1h"
      },
      "source": [
        "Verification"
      ]
    },
    {
      "cell_type": "code",
      "execution_count": null,
      "metadata": {
        "id": "8W_SlxJ_oRTB"
      },
      "outputs": [],
      "source": [
        "print(\"Train Class Distribution:\", y_train.sum(axis=0))\n",
        "print(\"Validation Class Distribution:\", y_val.sum(axis=0))\n",
        "print(\"Test Class Distribution:\", y_test.sum(axis=0))"
      ]
    },
    {
      "cell_type": "markdown",
      "metadata": {
        "id": "9fZoaccbrFxx"
      },
      "source": [
        "Create folder for TFIDF Split data and Save all files for direct future use one diffreant models"
      ]
    },
    {
      "cell_type": "code",
      "execution_count": null,
      "metadata": {
        "id": "6Fae1X2srLIS"
      },
      "outputs": [],
      "source": [
        "np.save('TFIDF_x_train.npy', x_train)\n",
        "np.save('TFIDF_y_train.npy', y_train)\n",
        "np.save('TFIDF_x_val.npy', x_val)\n",
        "np.save('TFIDF_y_val.npy', y_val)\n",
        "np.save('TFIDF_x_test.npy', x_test)\n",
        "np.save('TFIDF_y_test.npy', y_test)\n"
      ]
    },
    {
      "cell_type": "markdown",
      "metadata": {
        "id": "dRpgtDj8rePM"
      },
      "source": [
        "Log"
      ]
    },
    {
      "cell_type": "code",
      "execution_count": null,
      "metadata": {
        "id": "x25kFwQTuIak"
      },
      "outputs": [],
      "source": [
        "log_content = \"\"\"\n",
        "\n",
        "1. Data was split into training, validation, and test sets using an 80-10-10 split.\n",
        "2. Stratified splitting ensured balanced class distributions across splits.\n",
        "3. Final Shapes:\n",
        "   - Train: (960, 300) features, (960, 24) labels\n",
        "   - Validation: (120, 300) features, (120, 24) labels\n",
        "   - Test: (120, 300) features, (120, 24) labels\n",
        "4. Splits were saved in the folder: 'TFIDF_Split_Data'\n",
        "\n",
        "\"\"\"\n",
        "\n",
        "log_file_path = \"Split_Data.txt\"\n",
        "\n",
        "with open(log_file_path, \"w\") as log_file:\n",
        "    log_file.write(log_content)"
      ]
    },
    {
      "cell_type": "markdown",
      "metadata": {
        "id": "sPoPv6sCdbah"
      },
      "source": [
        "#### 5.2.2 FastText Splitting"
      ]
    },
    {
      "cell_type": "code",
      "execution_count": null,
      "metadata": {
        "id": "50FzcUzAdi0t"
      },
      "outputs": [],
      "source": [
        "X = x_fasttext\n",
        "\n",
        "X_train_val, X_test, y_train_val, y_test = train_test_split(X, y, test_size=0.1, random_state=42, stratify=y)\n",
        "\n",
        "print(f\"Train+Validation Set Shape: {X_train_val.shape}\")\n",
        "print(f\"Test Set Shape: {X_test.shape}\")\n",
        "print(f\"Train+Validation Labels Shape: {y_train_val.shape}\")\n",
        "print(f\"Test Labels Shape: {y_test.shape}\")\n",
        "\n",
        "# Further split train-validation\n",
        "X_train, X_val, y_train, y_val = train_test_split(X_train_val, y_train_val, test_size=0.1111, random_state=42, stratify=y_train_val)\n",
        "\n",
        "print(f\"Train Set Shape: {X_train.shape}\")\n",
        "print(f\"Validation Set Shape: {X_val.shape}\")\n",
        "print(f\"Train Labels Shape: {y_train.shape}\")\n",
        "print(f\"Validation Labels Shape: {y_val.shape}\")"
      ]
    },
    {
      "cell_type": "code",
      "execution_count": null,
      "metadata": {
        "id": "rkIxuLmKeKP1"
      },
      "outputs": [],
      "source": [
        "np.save('FastText_x_train.npy', X_train)\n",
        "np.save('FastText_x_val.npy', X_val)\n",
        "np.save('FastText_x_test.npy', X_test)\n",
        "\n",
        "np.save('FastText_y_train.npy', y_train)\n",
        "np.save('FastText_y_val.npy', y_val)\n",
        "np.save('FastText_y_test.npy', y_test)\n"
      ]
    },
    {
      "cell_type": "markdown",
      "metadata": {
        "id": "tX0lc9BuSXOE"
      },
      "source": [
        "### 6- Model Selection And Training"
      ]
    },
    {
      "cell_type": "markdown",
      "metadata": {
        "id": "zUiVrHYFSYBJ"
      },
      "source": [
        "#### 6.1.1 loading TFIDF data\n"
      ]
    },
    {
      "cell_type": "code",
      "execution_count": null,
      "metadata": {
        "id": "MIf-SN12SXef"
      },
      "outputs": [],
      "source": [
        "import numpy as np\n",
        "\n",
        "# Load the saved splits\n",
        "X_train = np.load('/content/TFIDF_x_train.npy')\n",
        "y_train = np.load('/content/TFIDF_y_train.npy')\n",
        "X_val = np.load('/content/TFIDF_x_val.npy')\n",
        "y_val = np.load('/content/TFIDF_y_val.npy')\n",
        "X_test = np.load('/content/TFIDF_x_test.npy')\n",
        "y_test = np.load('/content/TFIDF_y_test.npy')\n",
        "\n",
        "print(f\"Train set: {X_train.shape}, {y_train.shape}\")\n",
        "print(f\"Validation set: {X_val.shape}, {y_val.shape}\")\n",
        "print(f\"Test set: {X_test.shape}, {y_test.shape}\")\n",
        "\n",
        "\n"
      ]
    },
    {
      "cell_type": "markdown",
      "metadata": {
        "id": "UXVK26YmgDAF"
      },
      "source": [
        "#### 6.1.2 FastText Loading"
      ]
    },
    {
      "cell_type": "code",
      "execution_count": null,
      "metadata": {
        "id": "MOgXrhfJfrGW"
      },
      "outputs": [],
      "source": [
        "import numpy as np\n",
        "\n",
        "X_Ftrain = np.load(\"/content/FastText_x_train.npy\")\n",
        "X_Fval = np.load(\"/content/FastText_x_val.npy\")\n",
        "X_Ftest = np.load(\"/content/FastText_x_test.npy\")\n",
        "\n",
        "# Load saved labels\n",
        "y_Ftrain = np.load(\"/content/FastText_y_train.npy\")\n",
        "y_Fval = np.load(\"/content/FastText_y_val.npy\")\n",
        "y_Ftest = np.load(\"/content/FastText_y_test.npy\")\n",
        "\n",
        "print(f\"Train set: {X_Ftrain.shape}, {y_Ftrain.shape}\")\n",
        "print(f\"Validation set: {X_Fval.shape}, {y_Fval.shape}\")\n",
        "print(f\"Test set: {X_Ftest.shape}, {y_Ftest.shape}\")"
      ]
    },
    {
      "cell_type": "markdown",
      "metadata": {
        "id": "LWzMiqliY_oq"
      },
      "source": [
        "####6.2\n",
        "Identify which model works better with text data ?\n",
        "After some Research i decided to go with as start\n",
        "  - Logistic Regression.\n",
        "\n"
      ]
    },
    {
      "cell_type": "markdown",
      "metadata": {
        "id": "_10PHorIgO4q"
      },
      "source": [
        "##### 6.2.1 First With TF-IDF"
      ]
    },
    {
      "cell_type": "code",
      "execution_count": null,
      "metadata": {
        "id": "l4X2CuukY_46"
      },
      "outputs": [],
      "source": [
        "from sklearn.linear_model import LogisticRegression\n",
        "import joblib\n",
        "\n",
        "\n",
        "y_train_labels = np.argmax(y_train, axis=1)\n",
        "y_val_labels = np.argmax(y_val, axis=1)\n",
        "y_test_labels = np.argmax(y_test, axis=1)\n",
        "\n",
        "model = LogisticRegression(multi_class='multinomial', solver='saga', penalty='elasticnet', C=2, l1_ratio=0.5)\n",
        "\n",
        "model.fit(X_train, y_train_labels)\n",
        "joblib.dump(model, 'TF-IDF_model.pkl')\n",
        "\n"
      ]
    },
    {
      "cell_type": "markdown",
      "source": [
        "\n",
        " Apply Evaluation metrics to evaluate the model preformance on validation set.\n"
      ],
      "metadata": {
        "id": "TrXPBSIJYv4d"
      }
    },
    {
      "cell_type": "code",
      "execution_count": null,
      "metadata": {
        "id": "ZF8B2P8IflF7"
      },
      "outputs": [],
      "source": [
        "from sklearn.metrics import classification_report , accuracy_score, precision_score, recall_score, f1_score\n",
        "\n",
        "val_predict = model.predict(X_val)\n",
        "\n",
        "accuracy = accuracy_score(y_val_labels, val_predict)\n",
        "precision = precision_score(y_val_labels, val_predict, average='weighted')\n",
        "recall = recall_score(y_val_labels, val_predict, average='weighted')\n",
        "cl = classification_report(y_val_labels, val_predict)\n",
        "\n",
        "print(f\"Accuracy: {accuracy:.4f}\")\n",
        "print(f\"Precision: {precision:.4f}\")\n",
        "print(f\"Recall: {recall:.4f}\")\n",
        "print(\"Validation Classification Report:\\n\" , classification_report(y_val_labels, val_predict, target_names=disease_names))"
      ]
    },
    {
      "cell_type": "markdown",
      "source": [
        " Testing"
      ],
      "metadata": {
        "id": "NwX6yVFiSRxF"
      }
    },
    {
      "cell_type": "code",
      "execution_count": null,
      "metadata": {
        "id": "cOidm5g6pnyX"
      },
      "outputs": [],
      "source": [
        "from sklearn.metrics import classification_report , accuracy_score, precision_score, recall_score, f1_score\n",
        "\n",
        "test_predict = model.predict(X_test)\n",
        "\n",
        "accuracy = accuracy_score(y_test_labels, test_predict)\n",
        "precision = precision_score(y_test_labels, test_predict, average='weighted')\n",
        "recall = recall_score(y_test_labels, test_predict, average='weighted')\n",
        "cl = classification_report(y_test_labels, test_predict)\n",
        "f1 = f1_score(y_test_labels, test_predict, average='weighted')\n",
        "\n",
        "print(f\"Accuracy: {accuracy:.4f}\")\n",
        "print(f\"Precision: {precision:.4f}\")\n",
        "print(f\"Recall: {recall:.4f}\")\n",
        "print(\"Test Classification Report:\\n\", classification_report(y_test_labels, test_predict, target_names=disease_names))\n",
        "print(f\"F1 Score: {f1:.4f}\")\n"
      ]
    },
    {
      "cell_type": "markdown",
      "source": [
        "Saving and Loading the Model Pipeline"
      ],
      "metadata": {
        "id": "oPMiCfZvIyOk"
      }
    },
    {
      "cell_type": "code",
      "execution_count": null,
      "metadata": {
        "id": "MQ9MaUqHDrmf"
      },
      "outputs": [],
      "source": [
        "joblib.dump(model, 'TF-IDF_model.pkl')\n",
        "joblib.dump(tfidf_vectorizer, \"tfidf_vectorizer.pkl\")\n",
        "joblib.dump(svd, \"svd_transformer.pkl\")\n"
      ]
    },
    {
      "cell_type": "markdown",
      "metadata": {
        "id": "7GEWeN2RgTOH"
      },
      "source": [
        "##### 6.2.2 Second With FastText"
      ]
    },
    {
      "cell_type": "code",
      "execution_count": null,
      "metadata": {
        "id": "FD5B-d7FgTdE"
      },
      "outputs": [],
      "source": [
        "from sklearn.linear_model import LogisticRegression\n",
        "import numpy as np\n",
        "from sklearn.metrics import accuracy_score, classification_report\n",
        "\n",
        "y_train_labels = np.argmax(y_Ftrain, axis=1)\n",
        "y_val_labels = np.argmax(y_Fval, axis=1)\n",
        "y_test_labels = np.argmax(y_Ftest, axis=1)\n",
        "\n",
        "Fmodel = LogisticRegression(multi_class='multinomial', solver='lbfgs', C=5)\n",
        "Fmodel.fit(X_Ftrain, y_train_labels)\n",
        "\n",
        "\n",
        "# Evaluate on Validation Set\n",
        "y_val_pred = Fmodel.predict(X_Fval)\n",
        "print(\"Validation Accuracy:\", accuracy_score(y_val_labels, y_val_pred))\n",
        "print(\"Validation Classification Report:\\n\", classification_report(y_val_labels, y_val_pred))\n",
        "\n",
        "# Evaluate on Test Set\n",
        "y_test_pred = Fmodel.predict(X_Ftest)\n",
        "print(\"Test Accuracy:\", accuracy_score(y_test_labels, y_test_pred))\n",
        "print(\"Test Classification Report:\\n\", classification_report(y_test_labels, y_test_pred))"
      ]
    },
    {
      "cell_type": "markdown",
      "source": [
        "#### Random Forest model"
      ],
      "metadata": {
        "id": "m3yZzuuXYjh4"
      }
    },
    {
      "cell_type": "code",
      "source": [
        "from sklearn.ensemble import RandomForestClassifier\n",
        "import numpy as np\n",
        "from sklearn.metrics import accuracy_score, classification_report\n",
        "\n",
        "y_train_labels = np.argmax(y_Ftrain, axis=1)\n",
        "y_val_labels = np.argmax(y_Fval, axis=1)\n",
        "y_test_labels = np.argmax(y_Ftest, axis=1)\n",
        "\n",
        "# Initialize Random Forest model (you can tune parameters as needed)\n",
        "Rmodel = RandomForestClassifier(\n",
        "    n_estimators=300,\n",
        "    max_depth=20,\n",
        "    min_samples_split=5,\n",
        "    min_samples_leaf=2,\n",
        "    max_features='sqrt',\n",
        "    random_state=42,\n",
        "    class_weight='balanced'\n",
        ")\n",
        "Rmodel.fit(X_Ftrain, y_train_labels)\n",
        "\n",
        "# Evaluate on Validation Set\n",
        "y_val_pred = Rmodel.predict(X_Fval)\n",
        "print(\"Validation Accuracy:\", accuracy_score(y_val_labels, y_val_pred))\n",
        "print(\"Validation Classification Report:\\n\", classification_report(y_val_labels, y_val_pred))\n",
        "\n",
        "# Evaluate on Test Set\n",
        "y_test_pred = Rmodel.predict(X_Ftest)\n",
        "print(\"Test Accuracy:\", accuracy_score(y_test_labels, y_test_pred))\n",
        "print(\"Test Classification Report:\\n\", classification_report(y_test_labels, y_test_pred))\n"
      ],
      "metadata": {
        "id": "vUeoiX7iPmK4"
      },
      "execution_count": null,
      "outputs": []
    },
    {
      "cell_type": "code",
      "source": [
        "\n",
        "joblib.dump(Rmodel, \"/content/RandomForest_model.pkl\")"
      ],
      "metadata": {
        "id": "w4MkeBKBQYc0"
      },
      "execution_count": null,
      "outputs": []
    },
    {
      "cell_type": "code",
      "execution_count": null,
      "metadata": {
        "id": "83kyjueCDszH"
      },
      "outputs": [],
      "source": [
        "joblib.dump(Fmodel, 'FastText_model.pkl')\n"
      ]
    },
    {
      "cell_type": "markdown",
      "source": [
        "#### Confusion Matrix"
      ],
      "metadata": {
        "id": "Y6PaovKZYaNX"
      }
    },
    {
      "cell_type": "code",
      "execution_count": null,
      "metadata": {
        "id": "if9YmAdas7Qf"
      },
      "outputs": [],
      "source": [
        "from sklearn.metrics import confusion_matrix, ConfusionMatrixDisplay\n",
        "import numpy as np\n",
        "import matplotlib.pyplot as plt\n",
        "\n",
        "# Ensure y_test and test_predict are label-encoded, not one-hot\n",
        "if len(y_test.shape) > 1 and y_test.shape[1] > 1:\n",
        "    y_test = np.argmax(y_test, axis=1)\n",
        "if len(test_predict.shape) > 1 and test_predict.shape[1] > 1:\n",
        "    test_predict = np.argmax(test_predict, axis=1)\n",
        "\n",
        "# Clean disease names (optional, if still have underscores)\n",
        "disease_names = [name.lstrip('_') for name in disease_names]\n",
        "\n",
        "# Compute normalized confusion matrix\n",
        "cm = confusion_matrix(y_test, test_predict, normalize='true')\n",
        "\n",
        "# Create display\n",
        "fig, ax = plt.subplots(figsize=(12, 10))\n",
        "disp = ConfusionMatrixDisplay(confusion_matrix=cm, display_labels=disease_names)\n",
        "disp.plot(cmap=plt.cm.Blues, ax=ax, colorbar=True)\n",
        "\n",
        "# Hide x-axis tick labels (bottom)\n",
        "ax.set_xticklabels([])\n",
        "\n",
        "# Improve visuals\n",
        "plt.title(\"Normalized Confusion Matrix\", fontsize=16)\n",
        "plt.xlabel(\"Predicted\", fontsize=14)\n",
        "plt.ylabel(\"Actual\", fontsize=14)\n",
        "plt.tight_layout()\n",
        "plt.show()\n"
      ]
    },
    {
      "cell_type": "code",
      "execution_count": null,
      "metadata": {
        "id": "mGL-zWsp4n7J"
      },
      "outputs": [],
      "source": [
        "import matplotlib.pyplot as plt\n",
        "import numpy as np\n",
        "from sklearn.metrics import confusion_matrix\n",
        "\n",
        "\n",
        "disease_names = Encoded_Disease.columns.tolist()\n",
        "\n",
        "cm = confusion_matrix(y_test, test_predict, normalize='true')\n",
        "\n",
        "# Class-wise accuracy chart\n",
        "class_accuracies = cm.diagonal()\n",
        "plt.figure(figsize=(12, 6))\n",
        "plt.bar(disease_names, class_accuracies, color='blue')\n",
        "plt.title(\"Normalized Class-Wise Accuracy\")\n",
        "plt.xlabel(\"Disease\")\n",
        "plt.ylabel(\"Accuracy\")\n",
        "plt.xticks(rotation=90)\n",
        "plt.tight_layout()\n",
        "plt.show()\n",
        "\n",
        "# Misclassification analysis chart\n",
        "misclassification_matrix = cm.copy()\n",
        "np.fill_diagonal(misclassification_matrix, 0)\n",
        "misclass_count = misclassification_matrix.sum(axis=1)\n",
        "plt.figure(figsize=(12, 6))\n",
        "plt.bar(disease_names, misclass_count, color='red')\n",
        "plt.title(\"Misclassification Analysis\")\n",
        "plt.xlabel(\"Disease\")\n",
        "plt.ylabel(\"Number of Misclassifications\")\n",
        "plt.xticks(rotation=90)\n",
        "plt.tight_layout()\n",
        "plt.show()\n"
      ]
    },
    {
      "cell_type": "markdown",
      "metadata": {
        "id": "Cdic7O5x_TK2"
      },
      "source": [
        "#### Testing Real World Scenarios with TF-IDF"
      ]
    },
    {
      "cell_type": "code",
      "execution_count": null,
      "metadata": {
        "id": "279btB_Z5wvl"
      },
      "outputs": [],
      "source": [
        "import numpy as np\n",
        "import joblib\n",
        "import spacy\n",
        "import re\n",
        "import string\n",
        "from sklearn.linear_model import LogisticRegression\n",
        "\n",
        "# Load trained components\n",
        "model = joblib.load(\"/content/TF-IDF_model.pkl\")\n",
        "tfidf_vectorizer = joblib.load(\"/content/tfidf_vectorizer.pkl\")\n",
        "svd = joblib.load(\"/content/svd_transformer.pkl\")\n",
        "disease_names_list = np.load('Encoded_Disease_Columns.npy', allow_pickle=True)\n",
        "\n",
        "# Load SpaCy and customize stopwords\n",
        "nlp = spacy.load(\"en_core_web_sm\")\n",
        "nlp.Defaults.stop_words -= {'have', 'also', 'has', 'in'}\n",
        "for word in ['have', 'also', 'has', 'in']:\n",
        "    nlp.vocab[word].is_stop = False\n",
        "\n",
        "# Contraction handling\n",
        "contractions_custom = {\"ve\": \"have\", \"m\": \"am\"}\n",
        "\n",
        "# Preprocessing\n",
        "def preprocess_text(text):\n",
        "    text = text.lower()\n",
        "    text = re.sub(rf\"[{re.escape(string.punctuation)}]\", \"\", text)\n",
        "    text = \" \".join([token.text for token in nlp(text) if not token.is_stop])\n",
        "    text = \" \".join([token.lemma_ for token in nlp(text)])\n",
        "    text = ' '.join([contractions_custom.get(word, word) for word in text.split()])\n",
        "    return text\n",
        "\n",
        "# Feature engineering\n",
        "def feature_engineering(new_text, tfidf_vectorizer, svd):\n",
        "    preprocessed_text = preprocess_text(new_text)\n",
        "    input_tfidf = tfidf_vectorizer.transform([preprocessed_text])\n",
        "    reduced_input = svd.transform(input_tfidf)\n",
        "    return reduced_input\n",
        "\n",
        "# Real-world test cases\n",
        "real_world_cases = [\n",
        "    (\"I keep getting these painful, red bumps mostly on my cheeks and chin, and sometimes they feel swollen or come to a white head. They tend to flare up right before my period or when I’m stressed, and they’ve left some dark marks that won’t fade.\", \"Acne\"),\n",
        "    (\"My fingers feel stiff and achy, especially in the morning—it takes a while before I can fully move them. Some days the joints even look a bit swollen and it’s hard to grip things like a jar or even a pen.\", \"Arthritis\"),\n",
        "    (\"Sometimes it feels like I can’t get a full breath, especially when I’m around dust or cold air—it’s like there’s a tight band around my chest. I get this wheezing sound when I breathe out and have to use my inhaler a few times a week now.\", \"Bronchial Asthma\"),\n",
        "    (\"I’ve been getting this dull, aching pain in my neck that spreads to my shoulders, especially after sitting at my desk too long. Sometimes my fingers feel tingly or weak, like they’re not getting good circulation.\", \"Cervical spondylosis\"),\n",
        "    (\"It started with a fever and feeling really tired, then these itchy red bumps popped up—first on my chest, then all over. They quickly turned into blisters and it’s hard not to scratch them, even though I know I shouldn’t.\", \"Chicken pox\"),\n",
        "    (\"I’ve had a stuffy nose, sneezing, and this scratchy throat for the past few days—nothing too serious, but it’s making me feel drained. The congestion is the worst at night and I’ve got this dry cough that won’t quit.\", \"Common Cold\")\n",
        "]\n",
        "\n",
        "# Evaluation function\n",
        "def test_real_world_inputs(model, tfidf_vectorizer, svd, disease_names, examples):\n",
        "    correct = 0\n",
        "    print(\"\\n==== Real-World Evaluation ====\\n\")\n",
        "\n",
        "    for i, (text, expected) in enumerate(examples, 1):\n",
        "        features = feature_engineering(text, tfidf_vectorizer, svd)\n",
        "        probs = model.predict_proba(features)[0]\n",
        "        top3 = np.argsort(probs)[-3:][::-1]\n",
        "        top3_diseases = [disease_names[i].replace(\"_\", \"\") for i in top3]\n",
        "        predicted_disease = top3_diseases[0]\n",
        "\n",
        "        is_correct = predicted_disease.lower() == expected.lower()\n",
        "        status = \"✅\" if is_correct else \"❌\"\n",
        "\n",
        "        print(f\"Case {i}:\")\n",
        "        print(f\"   ➤ Input: {text}\")\n",
        "        print(f\"   ➤ Top-3 Predictions: {top3_diseases}\")\n",
        "        print(f\"   ➤ Expected: {expected} {status}\\n\")\n",
        "\n",
        "        if is_correct:\n",
        "            correct += 1\n",
        "\n",
        "    total = len(examples)\n",
        "    accuracy = correct / total\n",
        "    print(f\"🎯 Final Accuracy: {correct} / {total} = {accuracy:.2%}\")\n",
        "\n",
        "# Run evaluation\n",
        "test_real_world_inputs(\n",
        "    model=model,\n",
        "    tfidf_vectorizer=tfidf_vectorizer,\n",
        "    svd=svd,\n",
        "    disease_names=disease_names_list,\n",
        "    examples=real_world_cases\n",
        ")\n"
      ]
    },
    {
      "cell_type": "markdown",
      "metadata": {
        "id": "IluZS3QM_axt"
      },
      "source": [
        "### Testing Real-world Scenarios with FastText"
      ]
    },
    {
      "cell_type": "code",
      "execution_count": null,
      "metadata": {
        "id": "I-LPBDTF_fz8"
      },
      "outputs": [],
      "source": [
        "import numpy as np\n",
        "import joblib\n",
        "import spacy\n",
        "import re\n",
        "import string\n",
        "from gensim.models import FastText\n",
        "from gensim.models import KeyedVectors\n",
        "\n",
        "fasttext_model = KeyedVectors.load(\"/content/cc_en_300_kv.kv\")\n",
        "#fasttext_model = FastText.load(\"/content/fasttext_model.bin\")\n",
        "# logreg_model = joblib.load(\"/content/FastText_model.pkl\")\n",
        "rf_model = joblib.load(\"/content/RandomForest_model.pkl\")\n",
        "disease_names_list = np.load('Encoded_Disease_Columns.npy', allow_pickle=True)\n",
        "\n",
        "# Load SpaCy and customize stopwords\n",
        "nlp = spacy.load(\"en_core_web_sm\")\n",
        "nlp.Defaults.stop_words -= {'have', 'also', 'has', 'in'}\n",
        "for word in ['have', 'also', 'has', 'in']:\n",
        "    nlp.vocab[word].is_stop = False\n",
        "\n",
        "# Contraction handling\n",
        "contractions_custom = {\"ve\": \"have\", \"m\": \"am\"}\n",
        "\n",
        "# Preprocessing\n",
        "def preprocess_text(text):\n",
        "    # Lowercase\n",
        "    text = text.lower()\n",
        "    # Remove punctuation\n",
        "    text = re.sub(rf\"[{re.escape(string.punctuation)}]\", \"\", text)\n",
        "    # Tokenize and remove stopwords\n",
        "    doc = nlp(text)\n",
        "    tokens = [token.text for token in doc if not token.is_stop and not token.is_punct]\n",
        "    # Lemmatize tokens\n",
        "    lemmas = [token.lemma_ for token in nlp(\" \".join(tokens))]\n",
        "    # Replace contractions with expansions if any\n",
        "    expanded = [contractions_custom.get(word, word) for word in lemmas]\n",
        "    return \" \".join(expanded)\n",
        "\n",
        "\n",
        "#Sentence embedding\n",
        "# def get_sentence_embedding(text):\n",
        "#     words = preprocess_text(text).split()\n",
        "#     word_vectors = [fasttext_model[word] for word in words if word in fasttext_model]\n",
        "#     return np.mean(word_vectors, axis=0) if word_vectors else np.zeros(fasttext_model.vector_size)\n",
        "def get_sentence_embedding(text):\n",
        "    words = preprocess_text(text).split()\n",
        "    # Use fasttext_model to access word vectors\n",
        "    word_vectors = [fasttext_model[word] for word in words if word in fasttext_model]\n",
        "    return np.mean(word_vectors, axis=0) if word_vectors else np.zeros(fasttext_model.vector_size)\n",
        "\n",
        "# Real-world test cases\n",
        "real_world_cases = [\n",
        "    (\"I keep getting these painful, red bumps mostly on my cheeks and chin, and sometimes they feel swollen or come to a white head. They tend to flare up right before my period or when I’m stressed, and they’ve left some dark marks that won’t fade.\", \"Acne\"),\n",
        "    (\"My fingers feel stiff and achy, especially in the morning—it takes a while before I can fully move them. Some days the joints even look a bit swollen and it’s hard to grip things like a jar or even a pen.\", \"Arthritis\"),\n",
        "    (\"Sometimes it feels like I can’t get a full breath, especially when I’m around dust or cold air—it’s like there’s a tight band around my chest. I get this wheezing sound when I breathe out and have to use my inhaler a few times a week now.\", \"Bronchial Asthma\"),\n",
        "    (\"I’ve been getting this dull, aching pain in my neck that spreads to my shoulders, especially after sitting at my desk too long. Sometimes my fingers feel tingly or weak, like they’re not getting good circulation.\", \"Cervical spondylosis\"),\n",
        "    (\"It started with a fever and feeling really tired, then these itchy red bumps popped up—first on my chest, then all over. They quickly turned into blisters and it’s hard not to scratch them, even though I know I shouldn’t.\", \"Chicken pox\"),\n",
        "    (\"I’ve had a stuffy nose, sneezing, and this scratchy throat for the past few days—nothing too serious, but it’s making me feel drained. The congestion is the worst at night and I’ve got this dry cough that won’t quit.\", \"Common Cold\")\n",
        "]\n",
        "\n",
        "# Evaluation function\n",
        "def test_real_world_inputs(model, embedding_fn, disease_names, examples):\n",
        "    correct = 0\n",
        "    print(\"\\n==== Real-World Evaluation ====\\n\")\n",
        "\n",
        "    for i, (text, expected) in enumerate(examples, 1):\n",
        "        emb = embedding_fn(text).reshape(1, -1)\n",
        "        probs = model.predict_proba(emb)[0]\n",
        "        top3 = np.argsort(probs)[-3:][::-1]\n",
        "        top3_diseases = [disease_names[i].replace(\"_\", \"\") for i in top3]\n",
        "        predicted_disease = top3_diseases[0]\n",
        "\n",
        "        is_correct = predicted_disease.lower() == expected.lower().replace(\"_\", \"\")\n",
        "        status = \"✅\" if is_correct else \"❌\"\n",
        "\n",
        "        print(f\"   ➤ Top-3 Predictions: {top3_diseases}\")\n",
        "        print(f\"   ➤ Expected: {expected.replace('_', '')} {'✅' if predicted_disease.lower() == expected.lower().replace('_', '') else '❌'}\\n\")\n",
        "\n",
        "        if is_correct:\n",
        "            correct += 1\n",
        "\n",
        "    total = len(examples)\n",
        "    accuracy = correct / total\n",
        "    print(f\"🎯 Final Accuracy: {correct} / {total} = {accuracy:.2%}\")\n",
        "\n",
        "# Run evaluation\n",
        "test_real_world_inputs(\n",
        "    model=rf_model,\n",
        "    embedding_fn=get_sentence_embedding,\n",
        "    disease_names=disease_names_list,\n",
        "    examples=real_world_cases\n",
        ")\n"
      ]
    },
    {
      "cell_type": "code",
      "execution_count": null,
      "metadata": {
        "id": "aTrBvLRny9ME"
      },
      "outputs": [],
      "source": [
        "print(\"Loaded Disease Names:\", disease_names)\n",
        "print(\"Number of Diseases:\", len(disease_names))"
      ]
    },
    {
      "cell_type": "markdown",
      "metadata": {
        "id": "P2vjKJUfVWW6"
      },
      "source": [
        "# ---------------------------------- Diff Approach --------------------------------"
      ]
    },
    {
      "cell_type": "markdown",
      "source": [
        "# Why Change the Approach?\n",
        "\n",
        "In the first approach, we used a traditional ML pipeline with TF-IDF / FastText for feature extraction and Logistic Regression / Random Forest for classification.  \n",
        "\n",
        "Although this performed reasonably on the training data, it struggled to generalize and often predicted incorrectly for new, unseen symptom descriptions.  \n",
        "\n",
        "The main limitation was that classical feature engineering (TF-IDF or word embeddings) could not fully capture the complex, contextual meaning of medical symptoms, especially when expressed in varied ways.  \n",
        "\n",
        "To overcome this, we adopted a new approach:  \n",
        "\n",
        "- Apply **Named Entity Recognition (NER)** using biomedical NLP models to extract meaningful entities such as symptoms, conditions, and disorders.  \n",
        "- Combine these entities with the original text to enrich input features for the model.  \n",
        "- Fine-tune **Transformer-based models** (RoBERTa, BioBERT, ClinicalBERT, etc.) that can capture semantic and contextual relationships in the text more effectively.  \n",
        "- Evaluate performance not only with standard metrics but also on **real-world, patient-like symptom descriptions** to ensure the model generalizes well.  \n",
        "\n",
        "This approach allows the model to better understand medical symptom descriptions and make more reliable predictions on previously unseen cases.\n"
      ],
      "metadata": {
        "id": "WNPggeSfx-x5"
      }
    },
    {
      "cell_type": "markdown",
      "source": [
        "## Advanced Approach\n",
        "### 1- NER(Named Entity Recognition)\n",
        "\n",
        "#### *1.1 - Basic Named Entity Recognition (NER):*\n",
        "\n",
        "      • Apply SciSpaCy and transformer-based NER to extract symptoms, conditions, and disorders.\n",
        "      • Use keyword-based fallback for entities missed by NER.\n",
        "      • Create three input versions: original text, text + NER, NER-only.\n",
        "\n",
        "#### *1.2 - Enhanced NER Model:*\n",
        "\n",
        "    • Install Larger SciSpaCy Model\n",
        "    • Transformer-based NER Pipeline\n",
        "    • Apply NER and Prepare Dataset\n",
        "    • Check Empty NER Rows\n",
        "    • Sample Good NER Results\n",
        "    • Top NER Entities\n",
        "\n",
        "#### *2 - BERT pipeline:*\n",
        "    • Load and Inspect Dataset\n",
        "    • Basic Data Inspection\n",
        "    • Rename Columns\n",
        "    • Shuffle Dataset\n",
        "    • Encode Labels\n",
        "    • Train/Validation/Test Split\n",
        "    • Tokenize Data\n",
        "    • Create PyTorch Dataset\n",
        "    • Initialize BERT/Transformer Model\n",
        "    • Install/Upgrade Transformers\n",
        "    • Set Training Arguments\n",
        "    • Install Evaluate Library\n",
        "    • Define Metrics and Compute Function\n",
        "    • Initialize Trainer\n",
        "    • Train the Model\n",
        "    • Evaluate on Test Dataset\n",
        "    • Unzip Pretrained Model Checkpoints\n",
        "    • Move Pretrained Model Folders\n",
        "    • Save Model and Tokenizer\n",
        "\n"
      ],
      "metadata": {
        "id": "YEjjpuBO3c9E"
      }
    },
    {
      "cell_type": "markdown",
      "source": [
        "### 1.1 Basic NER Extraction\n",
        "\n",
        "Here, I’m using SciSpaCy to pull out disease-related entities from the symptom text.  \n",
        "I also added a simple fallback using keywords, just in case the NER misses anything.  \n",
        "At the end, I make three versions of the input: the original text, text combined with NER entities, and a version that’s NER-only or uses the fallback.\n",
        "\n"
      ],
      "metadata": {
        "id": "FOVxAbVyy2Yy"
      }
    },
    {
      "cell_type": "code",
      "execution_count": null,
      "metadata": {
        "id": "DzubjUADna2S"
      },
      "outputs": [],
      "source": [
        "import spacy\n",
        "import pandas as pd\n",
        "from tqdm import tqdm\n",
        "\n",
        "# Load SciSpaCy NER model\n",
        "nlp = spacy.load(\"en_ner_bc5cdr_md\")\n",
        "\n",
        "# Load dataset\n",
        "df = pd.read_csv('/content/cleaned_AugmentedSymptom2Disease_exp.csv', encoding='utf-8-sig')\n",
        "\n",
        "# Extended NER extractor\n",
        "def extract_diseases(text):\n",
        "    doc = nlp(str(text))\n",
        "    return \" | \".join([ent.text for ent in doc.ents if ent.label_ in {\"DISEASE\", \"CHEMICAL\", \"ENTITY\"}])\n",
        "\n",
        "# Fallback dictionary (you can expand this based on common symptom patterns)\n",
        "disease_keywords = {\n",
        "    \"fever\": \"Malaria\",\n",
        "    \"rash\": \"Impetigo\",\n",
        "    \"joint pain\": \"Arthritis\",\n",
        "    \"wheezing\": \"Bronchial Asthma\",\n",
        "    \"yellow skin\": \"Jaundice\",\n",
        "    \"vomiting\": \"Peptic ulcer disease\",\n",
        "    \"itching\": \"Fungal infection\",\n",
        "    \"thirsty\": \"Diabetes\",\n",
        "    \"blood pressure\": \"Hypertension\",\n",
        "    \"blisters\": \"Chicken pox\",\n",
        "}\n",
        "\n",
        "def keyword_fallback(text):\n",
        "    for keyword, disease in disease_keywords.items():\n",
        "        if keyword in text.lower():\n",
        "            return disease\n",
        "    return \"\"\n",
        "\n",
        "def smart_ner_fallback(row):\n",
        "    ner_text = row['disease_entities'].strip()\n",
        "    if ner_text:\n",
        "        return ner_text\n",
        "    fallback = keyword_fallback(row['text'])\n",
        "    return fallback if fallback else row['text']\n",
        "\n",
        "# Apply NER\n",
        "tqdm.pandas()\n",
        "df['disease_entities'] = df['text'].progress_apply(extract_diseases)\n",
        "\n",
        "# Show stats\n",
        "empty_ner_count = df['disease_entities'].apply(lambda x: len(x.strip()) == 0).sum()\n",
        "print(f\"🔍 Empty NER rows: {empty_ner_count} / {len(df)}\")\n",
        "\n",
        "# Prepare 3 versions of the input\n",
        "df['input_original'] = df['text']\n",
        "df['input_with_ner'] = df.apply(lambda row: row['text'] + \" | \" + row['disease_entities'] if row['disease_entities'].strip() else row['text'], axis=1)\n",
        "df['input_ner_only'] = df.apply(smart_ner_fallback, axis=1)\n"
      ]
    },
    {
      "cell_type": "markdown",
      "source": [
        "#### 1.1.2 Save the Dataset"
      ],
      "metadata": {
        "id": "hbcXIXUF0LII"
      }
    },
    {
      "cell_type": "code",
      "source": [
        "df.to_csv('/content/ner_augmented_dataset.csv', index=False, encoding='utf-8-sig')"
      ],
      "metadata": {
        "id": "_TCC6ljUVQuw"
      },
      "execution_count": null,
      "outputs": []
    },
    {
      "cell_type": "markdown",
      "source": [
        "### 1.2 **Enhanced** NAMED entity Recognition"
      ],
      "metadata": {
        "id": "w9WfOvcsZsXD"
      }
    },
    {
      "cell_type": "markdown",
      "source": [
        "#### 1.2.1 Install Enhanced SciSpaCy\n",
        "\n",
        "Now I’m installing the larger SciSpaCy biomedical model.  \n",
        "This one can catch more medical entities than the basic model, which should make our NER better."
      ],
      "metadata": {
        "id": "as1lEjzI0Bw5"
      }
    },
    {
      "cell_type": "code",
      "source": [
        "!pip install scispacy\n",
        "!pip install https://s3-us-west-2.amazonaws.com/ai2-s2-scispacy/releases/v0.5.1/en_core_sci_lg-0.5.1.tar.gz\n"
      ],
      "metadata": {
        "id": "xZLrLY4baZAr"
      },
      "execution_count": null,
      "outputs": []
    },
    {
      "cell_type": "markdown",
      "source": [
        "#### 1.2.2 Transformer-based NER Pipeline\n",
        "\n",
        "Here we set up a transformer-based NER model specialized for biomedical text.  \n",
        "The cell also includes text cleaning, removal of generic or irrelevant words, normalization of phrases, and trimming of overly long entities.  \n",
        "The function `extract_diseases_transformer` combines all of this to produce clean, high-quality entity extractions from symptom descriptions.\n",
        "\n"
      ],
      "metadata": {
        "id": "i5TPom4r0uQ3"
      }
    },
    {
      "cell_type": "code",
      "source": [
        "import pandas as pd\n",
        "import re\n",
        "from tqdm import tqdm\n",
        "from transformers import pipeline\n",
        "from nltk.corpus import stopwords\n",
        "import nltk\n",
        "\n",
        "# Setup\n",
        "nltk.download('stopwords')\n",
        "stop_words = set(stopwords.words('english'))\n",
        "\n",
        "# Load NER model (optimized for biomedical data)\n",
        "ner_model = pipeline(\n",
        "    \"ner\",\n",
        "    model=\"d4data/biomedical-ner-all\",\n",
        "    aggregation_strategy=\"simple\",\n",
        "    device=0  # Set to -1 for CPU or 0 for GPU\n",
        ")\n",
        "\n",
        "# Basic text cleaning\n",
        "def clean_text(text):\n",
        "    text = re.sub(r\"[^a-zA-Z0-9\\s.,]\", \"\", str(text))\n",
        "    text = re.sub(r\"\\s+\", \" \", text).strip()\n",
        "    return text.lower()\n",
        "\n",
        "# Generic low-value or redundant terms to remove\n",
        "GENERIC_WORDS = {\n",
        "    \"very\", \"strong\", \"excessive\", \"awful\", \"severe\", \"decrease\",\n",
        "    \"difficulty\", \"problems\", \"issue\", \"symptom\", \"symptoms\", \"condition\",\n",
        "    \"thing\", \"productive\", \"stuff\", \"to\", \"time\", \"body\", \"high\", \"brown\",\n",
        "    \"behind\", \"eyes\", \"awake\", \"nasty\", \"made up of small scales\", \"flake off\"\n",
        "}\n",
        "\n",
        "# Allow short useful medical terms\n",
        "ALLOWED_SHORT_WORDS = {\n",
        "    \"rash\", \"pain\", \"back\", \"neck\", \"skin\", \"gas\", \"itch\", \"legs\", \"arms\", \"cold\"\n",
        "}\n",
        "\n",
        "# Phrase normalization (helps downstream consistency)\n",
        "PHRASE_MAP = {\n",
        "    \"lighthead\": \"lightheadedness\",\n",
        "    \"to think properly\": \"confusion\",\n",
        "    \"staying balanced\": \"balance issues\",\n",
        "    \"chest hurts\": \"chest pain\",\n",
        "    \"fatty\": \"fatty food intolerance\",\n",
        "    \"spicy\": \"spicy food intolerance\",\n",
        "    \"made up of small scales\": \"scaly skin\",\n",
        "    \"flake off\": \"scaling\"\n",
        "}\n",
        "\n",
        "# Trim overly long NER phrases\n",
        "def trim_long_phrases(entity_list, max_words=5):\n",
        "    return [e for e in entity_list if len(e.split()) <= max_words]\n",
        "\n",
        "# Normalize known phrases\n",
        "def map_phrases(entity_list):\n",
        "    return [PHRASE_MAP.get(e, e) for e in entity_list]\n",
        "\n",
        "# Final pipeline for extracting NER entities\n",
        "def extract_diseases_transformer(text):\n",
        "    text = clean_text(text)\n",
        "    try:\n",
        "        entities = ner_model(text)\n",
        "        accepted_labels = {\n",
        "            \"Sign_symptom\", \"Condition\", \"Disease_disorder\",\n",
        "            \"Severity\", \"Detailed_description\",\n",
        "            \"Biological_structure\", \"Lab_value\", \"Texture\", \"Shape\"\n",
        "        }\n",
        "\n",
        "        raw_entities = [ent['word'].strip().lower() for ent in entities if ent.get('entity_group') in accepted_labels]\n",
        "\n",
        "        clean_entities = []\n",
        "        for e in raw_entities:\n",
        "            if (\n",
        "                e.startswith(\"##\")\n",
        "                or (len(e) < 4 and e not in ALLOWED_SHORT_WORDS)\n",
        "                or any(char.isdigit() for char in e)\n",
        "                or e in stop_words\n",
        "                or e in GENERIC_WORDS\n",
        "            ):\n",
        "                continue\n",
        "            if e not in clean_entities:\n",
        "                clean_entities.append(e)\n",
        "\n",
        "        clean_entities = map_phrases(clean_entities)\n",
        "        clean_entities = trim_long_phrases(clean_entities)\n",
        "\n",
        "        return \" | \".join(clean_entities)\n",
        "\n",
        "    except Exception as e:\n",
        "        print(f\"⚠️ NER error: {e}\")\n",
        "        return \"\"\n"
      ],
      "metadata": {
        "id": "47GCi4vaZrcE"
      },
      "execution_count": null,
      "outputs": []
    },
    {
      "cell_type": "markdown",
      "source": [
        "#### 1.2.3 Apply Transformer NER\n",
        "\n",
        "This cell applies the transformer-based NER to the dataset.  \n",
        "It also checks how many rows did not produce any entities and combines the extracted entities with the original text for a new input column.  \n",
        "Finally, the relevant columns are saved to a CSV file for downstream modeling.\n",
        "\n"
      ],
      "metadata": {
        "id": "8cBxAeb11V-a"
      }
    },
    {
      "cell_type": "code",
      "source": [
        "df = pd.read_csv('/content/cleaned_AugmentedSymptom2Disease_exp.csv', encoding='utf-8-sig')\n",
        "\n",
        "# Apply NER\n",
        "tqdm.pandas()\n",
        "df['disease_entities'] = df['text'].progress_apply(extract_diseases_transformer)\n",
        "\n",
        "# Show stats\n",
        "empty_count = df['disease_entities'].fillna(\"\").apply(lambda x: len(str(x).strip()) == 0).sum()\n",
        "print(f\"🔍 NER Failed on: {empty_count} / {len(df)} rows\")\n",
        "\n",
        "\n",
        "#Optional: Save the final version\n",
        "# df[\"input_ner_only\"] = df[\"disease_entities\"]\n",
        "df[\"input_with_ner\"] = df[\"text\"] + \" \" + df[\"disease_entities\"]\n",
        "\n",
        "# Keep only the desired columns in correct order\n",
        "final_df = df[[\"label\", \"text\", \"input_with_ner\"]]\n",
        "\n",
        "# Save to CSV\n",
        "final_df.to_csv(\"/content/enhanced_ner_augmented.csv\", index=False, encoding=\"utf-8-sig\")\n",
        "\n",
        "print(\"✅ Dataset saved with 4 columns:\", final_df.columns.tolist())\n"
      ],
      "metadata": {
        "id": "tEus3dCUhbP1"
      },
      "execution_count": null,
      "outputs": []
    },
    {
      "cell_type": "markdown",
      "source": [
        "#### 1.2.4 Check Empty NER Rows\n",
        "\n",
        "Here we calculate how many rows did not have any entities extracted.  \n",
        "This gives an indication of how well the NER process is performing."
      ],
      "metadata": {
        "id": "buM7EhQh11BH"
      }
    },
    {
      "cell_type": "code",
      "source": [
        "empty_ner_count = df['disease_entities'].fillna(\"\").apply(lambda x: len(x.strip()) == 0).sum()\n",
        "print(f\"🧩 Empty NER rows: {empty_ner_count} / {len(df)} ({100 * empty_ner_count / len(df):.2f}%)\")\n"
      ],
      "metadata": {
        "id": "NB9dD101b9q9"
      },
      "execution_count": null,
      "outputs": []
    },
    {
      "cell_type": "markdown",
      "source": [
        "#### 1.2.5 Sample Good NER Results\n",
        "\n",
        "We display a few random examples where NER successfully extracted entities.  \n",
        "This allows for a quick qualitative check of the extraction quality."
      ],
      "metadata": {
        "id": "PiVv16MO17Ms"
      }
    },
    {
      "cell_type": "code",
      "source": [
        "print(\"\\n✅ Sample good NER results:\")\n",
        "print(df[df['disease_entities'].str.strip() != ''][['text', 'disease_entities']].sample(10))\n"
      ],
      "metadata": {
        "id": "JWnLxkXxb-Bm"
      },
      "execution_count": null,
      "outputs": []
    },
    {
      "cell_type": "markdown",
      "source": [
        "#### 1.2.6 Top NER Entities\n",
        "\n",
        "This counts all extracted entities across the dataset to identify the most frequent ones.  \n",
        "It helps understand the main patterns the NER is capturing and ensures the output is meaningful."
      ],
      "metadata": {
        "id": "mo1b1TVK2AhG"
      }
    },
    {
      "cell_type": "code",
      "source": [
        "from collections import Counter\n",
        "\n",
        "all_entities = []\n",
        "for ents in df['disease_entities']:\n",
        "    all_entities.extend([e.strip() for e in ents.split(\"|\") if e.strip()])\n",
        "\n",
        "entity_counts = Counter(all_entities)\n",
        "print(\"\\n📊 Top 10 most common NER-extracted entities:\")\n",
        "print(entity_counts.most_common(10))\n"
      ],
      "metadata": {
        "id": "7KixDyURcEO-"
      },
      "execution_count": null,
      "outputs": []
    },
    {
      "cell_type": "markdown",
      "source": [
        "### 2- BERT Pipeline"
      ],
      "metadata": {
        "id": "L-Y71bHXpbVU"
      }
    },
    {
      "cell_type": "markdown",
      "source": [
        "#### 2.1 – Load Dataset\n",
        "This cell loads our enhanced NER-augmented dataset into a pandas DataFrame and displays a random sample of 10 rows. This helps us quickly understand the structure of the data, see the columns available, and check how the symptom texts and disease labels are represented."
      ],
      "metadata": {
        "id": "RlDC3-lt_MR0"
      }
    },
    {
      "cell_type": "code",
      "execution_count": null,
      "metadata": {
        "id": "Sb0pLqt5Va-K"
      },
      "outputs": [],
      "source": [
        "import pandas as pd\n",
        "\n",
        "dataset = pd.read_csv('/content/enhanced_ner_augmented.csv', encoding='utf-8-sig')\n",
        "df = pd.DataFrame(dataset)\n",
        "df.sample(10)"
      ]
    },
    {
      "cell_type": "markdown",
      "source": [
        "#### 2.2 – Data Inspection\n",
        "performs basic data inspection. It shows the count of each disease label to understand class distribution, checks for missing values, identifies duplicate rows, and outputs the shape of the DataFrame. This helps ensure our data is clean and ready for preprocessing and modeling."
      ],
      "metadata": {
        "id": "50UTd8Ta_g4p"
      }
    },
    {
      "cell_type": "code",
      "execution_count": null,
      "metadata": {
        "id": "BRSQSOoVDX3T"
      },
      "outputs": [],
      "source": [
        "print(df['label'].value_counts())\n",
        "print(df.isnull().sum())\n",
        "print(df.duplicated().sum())\n",
        "df.shape"
      ]
    },
    {
      "cell_type": "markdown",
      "source": [
        "#### 2.3 – Rename Columns & Preview Data"
      ],
      "metadata": {
        "id": "A-msj-KuAEfR"
      }
    },
    {
      "cell_type": "code",
      "execution_count": null,
      "metadata": {
        "id": "un3ITzHXWuLY"
      },
      "outputs": [],
      "source": [
        "df.rename(columns={'label': 'Disease'}, inplace=True)\n",
        "# del df['Unnamed: 0']\n",
        "df.head()"
      ]
    },
    {
      "cell_type": "markdown",
      "source": [
        "#### 2.4 – Shuffle the Dataset\n",
        "This cell shuffles the dataset randomly to ensure that the order of rows does not introduce bias during training and splits. Resetting the index ensures the DataFrame has a clean, sequential index."
      ],
      "metadata": {
        "id": "IZqRBk1XALWy"
      }
    },
    {
      "cell_type": "code",
      "execution_count": null,
      "metadata": {
        "id": "_uGgc3anStEY"
      },
      "outputs": [],
      "source": [
        "df = df.sample(frac=1, random_state=42).reset_index(drop=True)\n"
      ]
    },
    {
      "cell_type": "markdown",
      "source": [
        "#### 2.5 – Encode Labels and Prepare Mappings\n",
        "This cell converts disease labels into numerical format using LabelEncoder, which is required for model training. It also creates dictionaries (label2id and id2label) to map between label names and integers for easy reference during training and evaluation."
      ],
      "metadata": {
        "id": "E2bCcursAUkt"
      }
    },
    {
      "cell_type": "code",
      "execution_count": null,
      "metadata": {
        "id": "NqoFov15W7A2"
      },
      "outputs": [],
      "source": [
        "from sklearn.preprocessing import LabelEncoder\n",
        "from sklearn.model_selection import train_test_split\n",
        "\n",
        "\n",
        "label_encoder = LabelEncoder()\n",
        "df[\"Disease_int\"] = label_encoder.fit_transform(df[\"Disease\"])\n",
        "\n",
        "lablel2id =  {label: i for i, label in enumerate(label_encoder.classes_)}\n",
        "id2label = {i: label for i, label in enumerate(label_encoder.classes_)}\n",
        "\n",
        "print(\"number of clasess\", len(label_encoder.classes_))\n",
        "print(\"lablel2id\", lablel2id)"
      ]
    },
    {
      "cell_type": "markdown",
      "source": [
        "#### 2.6 – Split Data into Train, Validation, and Test Sets\n",
        "\n",
        "This cell splits the dataset into training, validation, and test sets. It uses stratification to ensure the class distribution is preserved across all sets. Different input versions (original text, text + NER, NER-only) can be chosen here."
      ],
      "metadata": {
        "id": "V7PpPzGUAahl"
      }
    },
    {
      "cell_type": "code",
      "execution_count": null,
      "metadata": {
        "id": "tQRF1qtbZC4k"
      },
      "outputs": [],
      "source": [
        "from sklearn.model_selection import train_test_split\n",
        "\n",
        "# symptoms = df[\"text\"].tolist()            # <- for original\n",
        "symptoms = df[\"input_with_ner\"].tolist()  # <- for text + ner\n",
        "# symptoms = df[\"input_ner_only\"].fillna(\"\").astype(str).tolist() # <- for ner only\n",
        "labels = df[\"Disease_int\"].tolist()\n",
        "\n",
        "X_train, X_all, y_train, y_all = train_test_split(symptoms, labels, test_size=0.2, stratify = labels, random_state=42)\n",
        "\n",
        "X_val, X_test, val_labels, test_labels = train_test_split(X_all, y_all, test_size=0.5, stratify = y_all, random_state=42)\n",
        "\n",
        "print(\"train size:\", len(X_train))\n",
        "print(\"val size:\", len(X_val))\n",
        "print(\"test size:\", len(X_test))"
      ]
    },
    {
      "cell_type": "markdown",
      "source": [
        "#### 2.7 – Initialize Tokenizer and Encode Data\n",
        "\n",
        "This cell loads the chosen transformer tokenizer (BERT, RoBERTa, or other biomedical models) and encodes the train, validation, and test datasets into token IDs, attention masks, and padding suitable for model input."
      ],
      "metadata": {
        "id": "rToVyVf5Ajdm"
      }
    },
    {
      "cell_type": "code",
      "execution_count": null,
      "metadata": {
        "id": "KV0R5WAdafcY"
      },
      "outputs": [],
      "source": [
        "from transformers import (\n",
        "    BertTokenizer, BertForSequenceClassification,\n",
        "    RobertaTokenizer, RobertaForSequenceClassification,\n",
        "    AutoTokenizer, AutoModelForSequenceClassification\n",
        ")\n",
        "import torch\n",
        "\n",
        "#tokenizer = BertTokenizer.from_pretrained(\"bert-base-uncased\")\n",
        "# tokenizer = BertTokenizer.from_pretrained(\"dmis-lab/biobert-base-cased-v1.1\")\n",
        "# tokenizer = BertTokenizer.from_pretrained(\"emilyalsentzer/Bio_ClinicalBERT\")\n",
        "tokenizer = RobertaTokenizer.from_pretrained(\"roberta-base\")\n",
        "# tokenizer = AutoTokenizer.from_pretrained(\"microsoft/BiomedNLP-PubMedBERT-base-uncased-abstract-fulltext\")\n",
        "# tokenizer = AutoTokenizer.from_pretrained('microsoft/BiomedNLP-BiomedBERT-base-uncased-abstract-fulltext')\n",
        "\n",
        "\n",
        "\n",
        "def tokenizer_data(text):\n",
        "    return tokenizer(text, truncation=True, padding=True, max_length=128)\n",
        "\n",
        "train_encoding = tokenizer(X_train, truncation=True, padding= True, max_length=128)\n",
        "val_encoding = tokenizer(X_val, truncation=True, padding= True, max_length=128)\n",
        "test_encoding = tokenizer(X_test, truncation=True, padding= True, max_length=128)"
      ]
    },
    {
      "cell_type": "markdown",
      "source": [
        "#### 2.8 – Create PyTorch Dataset\n",
        "\n",
        "This cell wraps the tokenized inputs and labels into a PyTorch Dataset class so they can be efficiently fed into the transformer model during training and evaluation."
      ],
      "metadata": {
        "id": "xResKOzsAujR"
      }
    },
    {
      "cell_type": "code",
      "execution_count": null,
      "metadata": {
        "id": "Hqq94jF1br52"
      },
      "outputs": [],
      "source": [
        "import torch\n",
        "\n",
        "class SymptomDataset(torch.utils.data.Dataset):\n",
        "    def __init__(self, encodings, labels):\n",
        "        self.encodings = encodings\n",
        "        self.labels = labels\n",
        "\n",
        "    def __len__(self):\n",
        "        return len(self.labels)\n",
        "\n",
        "    def __getitem__(self, idx):\n",
        "        item = {key: torch.tensor(val[idx]) for key, val in self.encodings.items()}\n",
        "        item[\"labels\"] = torch.tensor(self.labels[idx])\n",
        "        return item\n",
        "\n",
        "train_dataset = SymptomDataset(train_encoding, y_train)\n",
        "val_dataset = SymptomDataset(val_encoding, val_labels)\n",
        "test_dataset = SymptomDataset(test_encoding, test_labels)"
      ]
    },
    {
      "cell_type": "markdown",
      "source": [
        "2.9 – Initialize Model for Classification\n",
        "\n",
        "we will loads the chosen transformer model (BERT, BioBERT, ClinicalBERT, or RoBERTa) for sequence classification and sets the number of output labels. The id2label and label2id mappings ensure predictions map correctly to disease names."
      ],
      "metadata": {
        "id": "TjKRvVRAAy5-"
      }
    },
    {
      "cell_type": "code",
      "execution_count": null,
      "metadata": {
        "id": "Yh8bjgUNbsG8"
      },
      "outputs": [],
      "source": [
        "num_label = len(lablel2id)\n",
        "\n",
        "# model = BertForSequenceClassification.from_pretrained(\"bert-base-uncased\", num_labels=num_label, id2label=id2label, label2id=lablel2id)\n",
        "# model = BertForSequenceClassification.from_pretrained(\"dmis-lab/biobert-base-cased-v1.1\", num_labels=num_label, id2label=id2label, label2id=lablel2id)\n",
        "# model = BertForSequenceClassification.from_pretrained(\"emilyalsentzer/Bio_ClinicalBERT\", num_labels=num_label, id2label=id2label, label2id=lablel2id)\n",
        "model = RobertaForSequenceClassification.from_pretrained(\"roberta-base\", num_labels=num_label, id2label=id2label, label2id=lablel2id)\n",
        "# model = AutoModelForSequenceClassification.from_pretrained( \"microsoft/BiomedNLP-PubMedBERT-base-uncased-abstract-fulltext\", num_labels=num_label, id2label=id2label, label2id=lablel2id)\n",
        "# model = AutoModelForSequenceClassification.from_pretrained('microsoft/BiomedNLP-BiomedBERT-base-uncased-abstract-fulltext',num_labels=num_label, id2label=id2label, label2id=lablel2id)\n"
      ]
    },
    {
      "cell_type": "markdown",
      "source": [
        "2.10 – Upgrade Transformers Library\n",
        "\n"
      ],
      "metadata": {
        "id": "HCHCgz_YA7VF"
      }
    },
    {
      "cell_type": "code",
      "source": [
        "pip install --upgrade transformers\n"
      ],
      "metadata": {
        "id": "rFsLtcIyh4lJ"
      },
      "execution_count": null,
      "outputs": []
    },
    {
      "cell_type": "markdown",
      "source": [
        "#### 2.11 – Define Training Arguments\n",
        "\n",
        "This cell sets up the training configuration for the Hugging Face Trainer, including learning rate, batch size, number of epochs, evaluation strategy, and early stopping. It also disables Weights & Biases logging to simplify local training."
      ],
      "metadata": {
        "id": "M6djJiOjBAOH"
      }
    },
    {
      "cell_type": "code",
      "execution_count": null,
      "metadata": {
        "id": "JjJZ-d1Medqx"
      },
      "outputs": [],
      "source": [
        "from transformers import TrainingArguments, EarlyStoppingCallback\n",
        "import os\n",
        "os.environ[\"WANDB_DISABLED\"] = \"true\"\n",
        "\n",
        "train_args = TrainingArguments(\n",
        "    output_dir=\"./RoBERTa-base_TextAndNER\",\n",
        "    eval_strategy=\"epoch\",                  # Correct key, as per updated API\n",
        "    save_strategy=\"epoch\",\n",
        "    learning_rate=2e-5,\n",
        "    per_device_train_batch_size=8,\n",
        "    per_device_eval_batch_size=8,\n",
        "    num_train_epochs=10,\n",
        "    weight_decay=0.05,\n",
        "    warmup_ratio=0.1,\n",
        "    load_best_model_at_end=True,\n",
        "    metric_for_best_model=\"accuracy\",\n",
        "    save_total_limit=2,\n",
        "    logging_dir=\"./logs\",\n",
        "    logging_steps=50,\n",
        "    lr_scheduler_type=\"cosine\"              #\n",
        ")\n"
      ]
    },
    {
      "cell_type": "markdown",
      "source": [
        "#### 2.12 – Install Evaluation Library"
      ],
      "metadata": {
        "id": "8KJ3MxLrBNNf"
      }
    },
    {
      "cell_type": "code",
      "execution_count": null,
      "metadata": {
        "id": "4Eszi_13hRGL"
      },
      "outputs": [],
      "source": [
        "!pip install evaluate"
      ]
    },
    {
      "cell_type": "markdown",
      "source": [
        "#### 2.13 – Define Metrics for Evaluation\n",
        "\n",
        "This cell sets up the evaluation metric (accuracy) and defines a function compute_metrics to calculate model performance during training and validation."
      ],
      "metadata": {
        "id": "HY6k5CsZBQR7"
      }
    },
    {
      "cell_type": "code",
      "execution_count": null,
      "metadata": {
        "id": "Fx6dHTfEhxHD"
      },
      "outputs": [],
      "source": [
        "import numpy as np\n",
        "import evaluate\n",
        "\n",
        "accuracy_metric = evaluate.load(\"accuracy\")\n",
        "\n",
        "def compute_metrics(eval_pred):\n",
        "    logits, labels = eval_pred\n",
        "    predictions = np.argmax(logits, axis=1)\n",
        "    return accuracy_metric.compute(predictions=predictions, references=labels)\n"
      ]
    },
    {
      "cell_type": "markdown",
      "source": [
        "2.14 – Initialize Trainer for Model Fine-Tuning\n",
        "\n",
        "This cell creates a Trainer object from Hugging Face, linking the model, training arguments, datasets, evaluation metrics, and early stopping callback. It orchestrates the fine-tuning process."
      ],
      "metadata": {
        "id": "T3BCYm4RBV8Z"
      }
    },
    {
      "cell_type": "code",
      "source": [
        "from transformers import Trainer\n",
        "\n",
        "trainer = Trainer(\n",
        "    model = model,\n",
        "    args = train_args,\n",
        "    train_dataset = train_dataset,\n",
        "    eval_dataset = val_dataset,\n",
        "    compute_metrics=compute_metrics,\n",
        "    callbacks=[EarlyStoppingCallback(early_stopping_patience=3)]\n",
        ")\n",
        "\n",
        "\n",
        "trainer.train()"
      ],
      "metadata": {
        "id": "mVJDGggLmvi1"
      },
      "execution_count": null,
      "outputs": []
    },
    {
      "cell_type": "markdown",
      "source": [
        "#### 2.15 – Evaluate Model on Test Dataset"
      ],
      "metadata": {
        "id": "hECwv4YEBgzE"
      }
    },
    {
      "cell_type": "code",
      "execution_count": null,
      "metadata": {
        "id": "_VKAGveLotQc"
      },
      "outputs": [],
      "source": [
        "trainer.evaluate(test_dataset)\n"
      ]
    },
    {
      "cell_type": "markdown",
      "source": [
        "#### 2.16 – Save the Fine-Tuned Model and Tokenizer"
      ],
      "metadata": {
        "id": "Bman9TbJBjJZ"
      }
    },
    {
      "cell_type": "code",
      "source": [
        "model.save_pretrained(\"./bert_disease_model_augmented\")\n",
        "tokenizer.save_pretrained(\"./bert_disease_model_augmented\")"
      ],
      "metadata": {
        "id": "2E0rpo18ldJK"
      },
      "execution_count": null,
      "outputs": []
    },
    {
      "cell_type": "markdown",
      "source": [
        "#### 2.17 – Unzip Pretrained Model Checkpoints\n",
        "This cell extracts the pretrained model checkpoints so we can use or test the model directly without repeating the full training process."
      ],
      "metadata": {
        "id": "WXueaRqGBu5t"
      }
    },
    {
      "cell_type": "code",
      "source": [
        "!unzip \"/content/BiomedBERT_TextAndNER (2).zip\" -d \"/content/BiomedBERT_TextAndNER\"\n"
      ],
      "metadata": {
        "id": "hB8s1I95eVAS"
      },
      "execution_count": null,
      "outputs": []
    },
    {
      "cell_type": "markdown",
      "source": [
        "#### 2.19 – Load Pretrained Model and Evaluate on Real-World Cases\n",
        "\n",
        "This cell loads the pretrained BERT/Roberta/ClinicalBERT/BiomedBERT model from saved checkpoints. It initializes the tokenizer and pipeline for text classification, ensures label mappings are set, and defines real-world test cases from multiple sources (real_world_cases, Claude, GPT, Gemini, DeepSeek) verified by a doctor. It then runs evaluation for each set, printing top-1 and top-3 predictions to measure the model’s practical performance without retraining."
      ],
      "metadata": {
        "id": "397Yae5jCIdW"
      }
    },
    {
      "cell_type": "code",
      "execution_count": null,
      "metadata": {
        "id": "NrRUqZ3HrB61"
      },
      "outputs": [],
      "source": [
        "from transformers import BertConfig, RobertaTokenizer, RobertaForSequenceClassification, pipeline, BertTokenizer, BertForSequenceClassification, AutoModelForSequenceClassification, AutoTokenizer\n",
        "\n",
        "# Define label mappings\n",
        "label2id = {\n",
        "    'Acne': 0, 'Arthritis': 1, 'Bronchial Asthma': 2, 'Cervical spondylosis': 3,\n",
        "    'Chicken pox': 4, 'Common Cold': 5, 'Dengue': 6, 'Dimorphic Hemorrhoids': 7,\n",
        "    'Fungal infection': 8, 'Hypertension': 9, 'Impetigo': 10, 'Jaundice': 11,\n",
        "    'Malaria': 12, 'Migraine': 13, 'Pneumonia': 14, 'Psoriasis': 15,\n",
        "    'Typhoid': 16, 'Varicose Veins': 17, 'allergy': 18, 'diabetes': 19,\n",
        "    'drug reaction': 20, 'gastroesophageal reflux disease': 21,\n",
        "    'peptic ulcer disease': 22, 'urinary tract infection': 23\n",
        "}\n",
        "id2label = {v: k for k, v in label2id.items()}\n",
        "\n",
        "# Load model and tokenizer\n",
        "# model_dir = \"/content/bert_disease_WithNer/bert_disease_cleaned\"\n",
        "# tokenizer = RobertaTokenizer.from_pretrained(model_dir)\n",
        "# model = RobertaForSequenceClassification.from_pretrained(model_dir)\n",
        "\n",
        "# model_dir = \"/content/ClinicalBERT_TextAndNER/ClinicalBERT_TextAndNER/checkpoint-1296\"\n",
        "# tokenizer = BertTokenizer.from_pretrained(\"emilyalsentzer/Bio_ClinicalBERT\")\n",
        "# model = BertForSequenceClassification.from_pretrained(model_dir)\n",
        "\n",
        "model_dir = \"/content/BiomedBERT_TextAndNER/BiomedBERT_TextAndNER/checkpoint-1440\"\n",
        "tokenizer = AutoTokenizer.from_pretrained('microsoft/BiomedNLP-BiomedBERT-base-uncased-abstract-fulltext')\n",
        "model = AutoModelForSequenceClassification.from_pretrained(model_dir)\n",
        "\n",
        "# Inject mappings just in case\n",
        "model.config.id2label = id2label\n",
        "model.config.label2id = label2id\n",
        "\n",
        "# Initialize pipeline\n",
        "classifier = pipeline(\"text-classification\", model=model, tokenizer=tokenizer, return_all_scores=True)\n",
        "\n",
        "\n",
        "# Step 4: Real-world examples\n",
        "\n",
        "\n",
        "real_world_cases = [\n",
        "    (\"I keep getting these painful, red bumps mostly on my cheeks and chin, and sometimes they feel swollen or come to a white head. They tend to flare up right before my period or when I’m stressed, and they’ve left some dark marks that won’t fade.\", \"Acne\"),\n",
        "    (\"My fingers feel stiff and achy, especially in the morning—it takes a while before I can fully move them. Some days the joints even look a bit swollen and it’s hard to grip things like a jar or even a pen.\", \"Arthritis\"),\n",
        "    (\"Sometimes it feels like I can’t get a full breath, especially when I’m around dust or cold air—it’s like there’s a tight band around my chest. I get this wheezing sound when I breathe out and have to use my inhaler a few times a week now.\", \"Bronchial Asthma\"),\n",
        "    (\"I’ve been getting this dull, aching pain in my neck that spreads to my shoulders, especially after sitting at my desk too long. Sometimes my fingers feel tingly or weak, like they’re not getting good circulation.\", \"Cervical spondylosis\"),\n",
        "    (\"It started with a fever and feeling really tired, then these itchy red bumps popped up—first on my chest, then all over. They quickly turned into blisters and it’s hard not to scratch them, even though I know I shouldn’t.\", \"Chicken pox\"),\n",
        "    (\"I’ve had a stuffy nose, sneezing, and this scratchy throat for the past few days—nothing too serious, but it’s making me feel drained. The congestion is the worst at night and I’ve got this dry cough that won’t quit.\", \"Common Cold\")\n",
        "]\n",
        "gpt_real_world_cases = [\n",
        "    (\"Doctor, for months I've had these recurring painful red bumps mainly on my cheeks and forehead, some with white pus, and my skin feels excessively oily all the time.\", \"Acne\"),\n",
        "    (\"Every morning, I wake up with my joints feeling so stiff I can barely move them at first, but it improves as the day goes on.\", \"Arthritis\"),\n",
        "    (\"I start wheezing and my chest feels tight whenever I try to walk fast or climb stairs, accompanied by a whistling sound when I breathe out.\", \"Bronchial Asthma\"),\n",
        "    (\"There’s a sharp pain in my neck that shoots down my arm, especially after sitting at my desk for long hours, and I feel some numbness in my fingers.\", \"Cervical spondylosis\"),\n",
        "    (\"My child had a fever and now has red, itchy spots all over that look like little blisters that are now starting to scab over.\", \"Chicken pox\"),\n",
        "    (\"My throat is sore, nose is runny with clear mucus, and I keep sneezing like crazy—it feels like a cold, but without a high fever.\", \"Common Cold\"),\n",
        "    (\"I had a high fever, severe pain behind my eyes, and now I feel drained and sore all over, with some small red spots appearing on my skin.\", \"Dengue\"),\n",
        "    (\"It hurts to sit or use the bathroom, and I’ve noticed a small bulge near my rectum that sometimes bleeds.\", \"Dimorphic Hemorrhoids\"),\n",
        "    (\"There’s a dry, scaly patch on my arm that won’t heal and keeps itching intensely, with a raised, circular border.\", \"Fungal infection\"),\n",
        "    (\"My doctor says my blood pressure is always high during checkups, even though I don’t feel any specific symptoms.\", \"Hypertension\"),\n",
        "    (\"My kid has yellowish crusts around the mouth and nose, and they seem to be spreading to other parts of the face.\", \"Impetigo\"),\n",
        "    (\"Everyone’s been telling me my eyes and skin look yellow, and I’ve been super tired lately with dark urine.\", \"Jaundice\"),\n",
        "    (\"I get a fever every evening followed by shaking chills and heavy sweating—it's like a pattern that repeats daily.\", \"Malaria\"),\n",
        "    (\"I get these terrible throbbing headaches on one side of my head that make me nauseous and very sensitive to light and sound.\", \"Migraine\"),\n",
        "    (\"My cough brings up greenish mucus, and my chest hurts every time I breathe deeply, accompanied by a high fever and shortness of breath.\", \"Pneumonia\"),\n",
        "    (\"I get thick, itchy red patches on my skin that come and go in the same spots, covered with silvery scales.\", \"Psoriasis\"),\n",
        "    (\"I’ve had a persistent low fever, dull stomach ache, and general fatigue for days—it just won’t stop, and I've noticed some rose-colored spots on my chest and abdomen.\", \"Typhoid\"),\n",
        "    (\"My legs feel heavy and swollen, and the veins look twisted and bulging, especially after standing for a long time.\", \"Varicose Veins\"),\n",
        "    (\"I get sneezing fits, watery and itchy eyes, and a runny nose with clear discharge every time I’m around dust or pollen.\", \"allergy\"),\n",
        "    (\"I’m constantly thirsty, I have to pee frequently, and I feel unusually exhausted despite getting enough sleep.\", \"diabetes\"),\n",
        "    (\"I had an allergic reaction after taking a new medicine—developed a widespread rash and started itching intensely with some swelling of my face.\", \"drug reaction\"),\n",
        "    (\"I feel this burning sensation in my chest after eating, especially when I bend down or lie flat, and sometimes I have a sour taste in my mouth.\", \"gastroesophageal reflux disease\"),\n",
        "    (\"I get sharp, gnawing stomach pain when I’m hungry, and it temporarily eases after I eat something, but then comes back.\", \"peptic ulcer disease\"),\n",
        "    (\"It hurts every time I urinate, and I feel a frequent urge to go even when I’ve just emptied my bladder, with cloudy urine.\", \"urinary tract infection\")\n",
        "]\n",
        "\n",
        "gemini_real_world_cases = [\n",
        "    (\"My face keeps breaking out with these clusters of painful red bumps and pus-filled cysts, particularly on my chin and jawline, and it seems linked to my menstrual cycle.\", \"Acne\"),\n",
        "    (\"My hands and knees feel stiff and painful in the morning, taking a while to loosen up, and it’s hard to grip things or bend my fingers completely.\", \"Arthritis\"),\n",
        "    (\"I get a tight feeling in my chest and start wheezing with a dry cough when exposed to cold air or strong smells.\", \"Bronchial Asthma\"),\n",
        "    (\"There’s a persistent, dull ache in my neck that radiates into my upper back and sometimes gives me a headache at the base of my skull.\", \"Cervical spondylosis\"),\n",
        "    (\"My child developed a fever followed by itchy red spots that quickly turned into small, fluid-filled blisters spreading across their body.\", \"Chicken pox\"),\n",
        "    (\"I’ve had a stuffy nose with thick yellow mucus, a scratchy sore throat, and frequent sneezing for a few days—it feels like a typical cold.\", \"Common Cold\"),\n",
        "    (\"I had a sudden high fever and intense pain behind my eyes, followed by severe muscle and joint aches, making it hard to move.\", \"Dengue\"),\n",
        "    (\"There’s pain and some bleeding when I have a bowel movement, and I can feel a tender lump protruding from my anus.\", \"Dimorphic Hemorrhoids\"),\n",
        "    (\"There’s this persistently itchy, flaky patch of skin on my foot that looks red and inflamed, especially between my toes.\", \"Fungal infection\"),\n",
        "    (\"I don’t feel any symptoms, but my doctor consistently reports high blood pressure readings during routine checkups.\", \"Hypertension\"),\n",
        "    (\"My child has yellowish, sticky crusts around their nostrils and lips that look like they’re spreading to other areas.\", \"Impetigo\"),\n",
        "    (\"My skin and the whites of my eyes have a yellowish tint, and my urine is noticeably darker than usual, accompanied by extreme fatigue.\", \"Jaundice\"),\n",
        "    (\"I experienced chills followed by a high fever and then sweating episodes, occurring around the same time each day, after returning from a trip abroad.\", \"Malaria\"),\n",
        "    (\"There’s this intense, pounding headache on one side of my head that makes me feel sick to my stomach and extremely sensitive to bright lights.\", \"Migraine\"),\n",
        "    (\"I’ve been coughing up thick, green or yellow phlegm, along with a fever and sharp chest pain that worsens with deep breaths.\", \"Pneumonia\"),\n",
        "    (\"There are thick, red, scaly patches on my scalp that are very itchy and sometimes flake off.\", \"Psoriasis\"),\n",
        "    (\"I've had a persistent fever and significant abdominal discomfort for several days, along with a change in bowel habits.\", \"Typhoid\"),\n",
        "    (\"My legs feel heavy and tired, and I’ve noticed enlarged, twisted veins that are visible on the surface of my skin.\", \"Varicose Veins\"),\n",
        "    (\"Every spring, I experience intense itching in my eyes, frequent sneezing, and a clear, watery discharge from my nose.\", \"allergy\"),\n",
        "    (\"I’m constantly feeling parched, urinating much more often than usual, and experiencing unexplained fatigue.\", \"diabetes\"),\n",
        "    (\"After starting a new medication, I developed an itchy red rash and some swelling, particularly around my mouth and eyes.\", \"drug reaction\"),\n",
        "    (\"I feel a burning sensation rising from my stomach into my chest after meals, especially when lying down, and sometimes I taste stomach acid.\", \"gastroesophageal reflux disease\"),\n",
        "    (\"There’s a recurring, gnawing pain in my upper abdomen, especially when I haven’t eaten for a while, and it gets temporarily better after having food.\", \"peptic ulcer disease\"),\n",
        "    (\"It stings painfully every time I urinate, and I feel a constant urge to go, even if I’ve just emptied my bladder, with a foul odor.\", \"urinary tract infection\")\n",
        "]\n",
        "\n",
        "claude_world_cases = [\n",
        "    (\"Doctor, over the last few months, I've developed these persistent, painful red bumps and whiteheads across my face, and my skin always feels very oily, particularly on my T-zone. It flares up when I'm stressed.\", \"Acne\"),\n",
        "    (\"Doctor, my joints, especially in my hands and knees, have been stiff and painful for months. They're swollen, warm to touch, and the pain is worse in the morning. It's getting harder to do everyday tasks.\", \"Arthritis\"),\n",
        "    (\"Doctor, I've been experiencing shortness of breath, wheezing, and tightness in my chest. It's worse at night and when I exercise, and I get this persistent cough that won't go away.\", \"Bronchial Asthma\"),\n",
        "    (\"Doctor, I've had this constant neck pain that radiates to my shoulders and arms. My neck feels stiff, especially in the morning, and I sometimes get headaches and hear grinding noises when I move my head.\", \"Cervical spondylosis\"),\n",
        "    (\"Doctor, I've developed these itchy red spots all over my body that turned into fluid-filled blisters. I also have fever and feel very tired. The blisters are now forming crusts.\", \"Chicken pox\"),\n",
        "    (\"Doctor, I woke up with a sore throat, runny nose, and mild headache. I've been sneezing constantly, and now my nose is congested. I feel tired but don't have a high fever.\", \"Common Cold\"),\n",
        "    (\"Doctor, I've had a high fever for three days with severe headaches and pain behind my eyes. My muscles and joints hurt badly, and today I noticed this red rash on my arms and chest.\", \"Dengue\"),\n",
        "    (\"Doctor, I've been experiencing bleeding during bowel movements and intense pain in my rectal area. Sometimes I feel lumps around my anus that are very painful, especially when sitting.\", \"Dimorphic Hemorrhoids\"),\n",
        "    (\"Doctor, I have this itchy, red rash with clear borders that's spreading. The skin is flaky and sometimes cracks, especially between my toes. It burns and itches constantly.\", \"Fungal infection\"),\n",
        "    (\"Doctor, I've been having frequent headaches, dizziness, and my vision gets blurry sometimes. My home blood pressure readings have been consistently high, and I feel this pounding in my chest.\", \"Hypertension\"),\n",
        "    (\"Doctor, my child has developed these small red sores around their nose and mouth that quickly formed yellow crusts. They're spreading fast and seem to be very itchy and painful.\", \"Impetigo\"),\n",
        "    (\"Doctor, my skin and eyes have turned yellow over the past week. I feel extremely tired, have lost my appetite, and notice my urine is dark while my stools are pale.\", \"Jaundice\"),\n",
        "    (\"Doctor, I've had a high fever with chills that come and go every few hours. I have a splitting headache, muscle pain, and feel extremely weak. I recently returned from a tropical country.\", \"Malaria\"),\n",
        "    (\"Doctor, I get these severe, throbbing headaches on one side of my head that last for hours. Before they start, I see flashing lights and feel nauseous. Light and sound make them worse.\", \"Migraine\"),\n",
        "    (\"Doctor, I've had a high fever, chills, and a severe cough that produces thick, greenish phlegm. It hurts when I breathe deeply or cough, and I'm extremely tired and short of breath.\", \"Pneumonia\"),\n",
        "    (\"Doctor, I have these red, scaly patches on my elbows, knees, and scalp that are very itchy. My skin is cracked and sometimes bleeds. The patches come and go but never fully disappear.\", \"Psoriasis\"),\n",
        "    (\"Doctor, I've had a persistent high fever for a week, severe headache, and no appetite. My stomach hurts, and I've been constipated. I feel extremely weak and sometimes delirious.\", \"Typhoid\"),\n",
        "    (\"Doctor, my legs ache and feel heavy, especially after standing all day. I have these visible, twisted veins on my calves, and sometimes my ankles swell up. The skin around the veins itches.\", \"Varicose Veins\"),\n",
        "    (\"Doctor, whenever I eat certain foods or encounter dust, I get this itchy rash, my eyes water, and my nose runs. Sometimes my throat feels tight, and I start wheezing.\", \"allergy\"),\n",
        "    (\"Doctor, I'm constantly thirsty, urinating frequently, and feel tired all the time. I've lost weight despite eating normally, and sometimes my vision gets blurry. Cuts seem to heal slowly too.\", \"diabetes\"),\n",
        "    (\"Doctor, I developed this widespread rash and itching shortly after starting my new medication. My lips feel swollen, and I'm having trouble breathing normally.\", \"drug reaction\"),\n",
        "    (\"Doctor, I feel this burning pain in my chest after eating, especially when I lie down. Food sometimes comes back up into my throat, and I have a chronic cough that's worse at night.\", \"gastroesophageal reflux disease\"),\n",
        "    (\"Doctor, I've been having a gnawing, burning pain in my stomach that comes and goes. It's worse when my stomach is empty and sometimes wakes me at night. I've vomited what looks like coffee grounds.\", \"peptic ulcer disease\"),\n",
        "    (\"Doctor, I feel a burning sensation when I urinate and need to go frequently, but only small amounts come out. My lower abdomen hurts, and my urine looks cloudy and smells strong.\", \"urinary tract infection\")\n",
        "]\n",
        "\n",
        "deepseek_world_cases = [\n",
        "    (\"Doctor, for several months, I've been dealing with these recurring painful red bumps and whiteheads concentrated on my forehead and chin, and my skin feels very oily to the touch.\", \"Acne\"),\n",
        "    (\"Doctor, my knees and fingers have been so stiff and achy every morning for weeks. It feels like they’re swollen, and bending them is getting harder, especially after sitting too long.\", \"Arthritis\"),\n",
        "    (\"Doctor, I keep wheezing and struggling to catch my breath, especially at night or after walking upstairs. My chest feels tight, and sometimes I cough up thick mucus.\", \"Bronchial Asthma\"),\n",
        "    (\"Doctor, I’ve had constant neck pain that shoots down my arms. My fingers feel numb sometimes, and turning my head to drive makes it worse.\", \"Cervical spondylosis\"),\n",
        "    (\"Doctor, I broke out in itchy, fluid-filled blisters all over my body two days ago. I also have a fever and feel exhausted.\", \"Chicken pox\"),\n",
        "    (\"Doctor, I’ve had a runny nose, sore throat, and this annoying cough for three days. My head feels stuffy, and I’m sneezing nonstop.\", \"Common Cold\"),\n",
        "    (\"Doctor, I suddenly developed a high fever with severe body aches and pain behind my eyes. Today I noticed small red spots on my arms.\", \"Dengue\"),\n",
        "    (\"Doctor, I’m having sharp pain and bleeding when I pass stool. There’s a swollen lump near my anus, and it itches constantly.\", \"Dimorphic Hemorrhoids\"),\n",
        "    (\"Doctor, there’s a red, itchy rash between my toes that burns and peels. It looks scaly and won’t go away with regular creams.\", \"Fungal infection\"),\n",
        "    (\"Doctor, I’ve had frequent headaches and dizziness lately. My vision gets blurry sometimes, and I feel my heart pounding in my chest.\", \"Hypertension\"),\n",
        "    (\"Doctor, my child has these crusty, honey-colored sores around their nose and mouth. The skin is red and oozes fluid.\", \"Impetigo\"),\n",
        "    (\"Doctor, my skin and eyes turned yellow last week. My urine is dark, and I feel extremely tired with no appetite.\", \"Jaundice\"),\n",
        "    (\"Doctor, I’ve had recurring high fevers with chills and sweating every two days. My muscles ache, and I can’t keep food down.\", \"Malaria\"),\n",
        "    (\"Doctor, I get throbbing headaches on one side of my head, along with nausea and sensitivity to light. Bright lights trigger it every time.\", \"Migraine\"),\n",
        "    (\"Doctor, I’ve had a cough with greenish phlegm for a week. My chest hurts when I breathe, and I’m shaking with chills and fever.\", \"Pneumonia\"),\n",
        "    (\"Doctor, my elbows and knees have thick, red patches covered in silvery scales. They itch terribly and bleed if I scratch them.\", \"Psoriasis\"),\n",
        "    (\"Doctor, I’ve had a high fever for over a week, along with stomach pain and diarrhea. I feel too weak to get out of bed.\", \"Typhoid\"),\n",
        "    (\"Doctor, the veins in my legs are bulging and purple. My legs ache and feel heavy, especially after standing all day.\", \"Varicose Veins\"),\n",
        "    (\"Doctor, my eyes get watery and itchy whenever I’m near pollen. I sneeze nonstop, and my throat feels scratchy.\", \"allergy\"),\n",
        "    (\"Doctor, I’m always thirsty, urinating constantly, and losing weight without trying. My vision is getting blurry too.\", \"diabetes\"),\n",
        "    (\"Doctor, after starting the new antibiotic, I developed a red, itchy rash all over my body. My face is swollen, and I feel dizzy.\", \"drug reaction\"),\n",
        "    (\"Doctor, I get a burning pain in my chest after eating, and acid keeps rising into my throat. It’s worse when I lie down.\", \"gastroesophageal reflux disease\"),\n",
        "    (\"Doctor, I have a burning pain in my stomach that wakes me up at night. Eating helps a little, but it comes back worse.\", \"peptic ulcer disease\"),\n",
        "    (\"Doctor, it burns when I urinate, and I feel like I need to go constantly. My urine is cloudy and has a strong smell.\", \"urinary tract infection\")\n",
        "]\n",
        "\n",
        "\n",
        "\n",
        "# Step 5: Helper function to get top-k predictions\n",
        "def get_top_k_labels(scores, k=3):\n",
        "    sorted_scores = sorted(scores, key=lambda x: x['score'], reverse=True)\n",
        "    return [entry['label'] for entry in sorted_scores[:k]]\n",
        "\n",
        "# Step 6: Evaluation\n",
        "def evaluate_real_world_examples(cases):\n",
        "    correct_top1 = 0\n",
        "    correct_top3 = 0\n",
        "    print(\"\\n==== Real-World Evaluation with Fine-Tuned BERT ====\\n\")\n",
        "\n",
        "    for i, (text, expected) in enumerate(cases, 1):\n",
        "        predictions = classifier(text)[0]\n",
        "        top3_labels = get_top_k_labels(predictions, k=3)\n",
        "\n",
        "        top1 = top3_labels[0]\n",
        "        is_top1 = expected.lower() == top1.lower()\n",
        "        is_top3 = expected.lower() in [lbl.lower() for lbl in top3_labels]\n",
        "\n",
        "        print(f\"{i}. Input: {text[:60]}...\")\n",
        "        print(f\"   ➤ Top-3 Predictions: {top3_labels}\")\n",
        "        print(f\"   ➤ Expected: {expected} {'✅' if is_top3 else '❌'} {'(Top-1 ✅)' if is_top1 else ''}\\n\")\n",
        "\n",
        "        if is_top1:\n",
        "            correct_top1 += 1\n",
        "        if is_top3:\n",
        "            correct_top3 += 1\n",
        "\n",
        "    total = len(cases)\n",
        "    print(f\"🎯 Top-1 Accuracy: {correct_top1} / {total} = {correct_top1/total:.2%}\")\n",
        "    print(f\"🎯 Top-3 Accuracy: {correct_top3} / {total} = {correct_top3/total:.2%}\")\n",
        "\n",
        "# Run it!\n",
        "\n",
        "print(\"\\n===== real_world_cases =====\")\n",
        "evaluate_real_world_examples(real_world_cases)\n",
        "print(\"\\n===== Claude Test Set =====\")\n",
        "evaluate_real_world_examples(claude_world_cases)\n",
        "\n",
        "print(\"\\n===== GPT Test Set =====\")\n",
        "evaluate_real_world_examples(gpt_real_world_cases)\n",
        "\n",
        "print(\"\\n===== Gemini Test Set =====\")\n",
        "evaluate_real_world_examples(gemini_real_world_cases)\n",
        "\n",
        "print(\"\\n===== DeepSeek Test Set =====\")\n",
        "evaluate_real_world_examples(deepseek_world_cases)"
      ]
    },
    {
      "cell_type": "markdown",
      "source": [
        "# Research(Extra)"
      ],
      "metadata": {
        "id": "6Irbi_Rx2OTK"
      }
    },
    {
      "cell_type": "code",
      "source": [
        "from transformers import pipeline\n",
        "\n",
        "# Step 1: Define the label mappings\n",
        "disease_labels = [\n",
        "    \"Acne\", \"Arthritis\", \"Bronchial Asthma\", \"Cervical spondylosis\", \"Chicken pox\", \"Common Cold\",\n",
        "    \"Dengue\", \"Dimorphic Hemorrhoids\", \"Fungal infection\", \"Hypertension\", \"Impetigo\", \"Jaundice\",\n",
        "    \"Malaria\", \"Migraine\", \"Pneumonia\", \"Psoriasis\", \"Typhoid\", \"Varicose Veins\", \"allergy\",\n",
        "    \"diabetes\", \"drug reaction\", \"gastroesophageal reflux disease\", \"peptic ulcer disease\", \"urinary tract infection\"\n",
        "]\n",
        "id2label = {i: label for i, label in enumerate(disease_labels)}\n",
        "label2id = {label: i for i, label in enumerate(disease_labels)}\n",
        "model.config.id2label = id2label\n",
        "model.config.label2id = label2id\n",
        "\n",
        "# Step 2: Initialize the classifier\n",
        "classifier = pipeline(\"text-classification\", model=model, tokenizer=tokenizer, return_all_scores=True)\n",
        "\n",
        "claudeAi_real_world_cases = [\n",
        "    # Acne - 4 unique descriptions\n",
        "    (\"My face keeps breaking out with these painful bumps, especially before my period—it just won't clear up.\", \"Acne\"),\n",
        "    (\"I've been getting these painful red bumps and whiteheads all over my face. My skin feels really oily, especially on my forehead and nose.\", \"Acne\"),\n",
        "    (\"Doctor, I've had persistent acne for months now. The red, inflamed spots are painful to touch and seem to worsen with stress. My skin is excessively oily, particularly in my T-zone.\", \"Acne\"),\n",
        "    (\"Doctor, I'm struggling with recurring cystic acne that leaves dark marks. The breakouts are concentrated on my jawline and chin and flare up cyclically with my hormones.\", \"Acne\"),\n",
        "\n",
        "    # Arthritis - 4 unique descriptions\n",
        "    (\"My hands and knees feel stiff in the morning, and it's hard to open jars or climb stairs without pain.\", \"Arthritis\"),\n",
        "    (\"Every morning, I wake up with my joints feeling so stiff I can barely move them at first.\", \"Arthritis\"),\n",
        "    (\"Doctor, my joints, especially in my hands and knees, have been stiff and painful for months. They're swollen, warm to touch, and the pain is worse in the morning.\", \"Arthritis\"),\n",
        "    (\"Doctor, my knees and fingers have been so stiff and achy every morning for weeks. It feels like they're swollen, and bending them is getting harder, especially after sitting too long.\", \"Arthritis\"),\n",
        "\n",
        "    # Bronchial Asthma - 4 unique descriptions\n",
        "    (\"I get this tightness in my chest and start wheezing when I laugh too hard or walk uphill.\", \"Bronchial Asthma\"),\n",
        "    (\"I start wheezing and my chest feels tight whenever I try to walk fast or climb stairs.\", \"Bronchial Asthma\"),\n",
        "    (\"Doctor, I've been experiencing shortness of breath, wheezing, and tightness in my chest. It's worse at night and when I exercise, and I get this persistent cough that won't go away.\", \"Bronchial Asthma\"),\n",
        "    (\"Doctor, I keep wheezing and struggling to catch my breath, especially at night or after walking upstairs. My chest feels tight, and sometimes I cough up thick mucus.\", \"Bronchial Asthma\"),\n",
        "\n",
        "    # Cervical spondylosis - 4 unique descriptions\n",
        "    (\"There's a dull ache in my neck that spreads to my shoulder and arm, especially when I sit too long.\", \"Cervical spondylosis\"),\n",
        "    (\"There's a sharp pain in my neck that shoots down my arm, especially after sitting at my desk.\", \"Cervical spondylosis\"),\n",
        "    (\"Doctor, I've had this constant neck pain that radiates to my shoulders and arms. My neck feels stiff, especially in the morning, and I sometimes get headaches and hear grinding noises when I move my head.\", \"Cervical spondylosis\"),\n",
        "    (\"Doctor, I've had constant neck pain that shoots down my arms. My fingers feel numb sometimes, and turning my head to drive makes it worse.\", \"Cervical spondylosis\"),\n",
        "\n",
        "    # Chicken pox - 4 unique descriptions\n",
        "    (\"My child developed a fever followed by itchy red spots that turned into blisters all over.\", \"Chicken pox\"),\n",
        "    (\"My child had a fever and now has red, itchy spots all over that look like little blisters.\", \"Chicken pox\"),\n",
        "    (\"Doctor, I've developed these itchy red spots all over my body that turned into fluid-filled blisters. I also have fever and feel very tired. The blisters are now forming crusts.\", \"Chicken pox\"),\n",
        "    (\"Doctor, I broke out in itchy, fluid-filled blisters all over my body two days ago. I also have a fever and feel exhausted.\", \"Chicken pox\"),\n",
        "\n",
        "    # Common Cold - 4 unique descriptions\n",
        "    (\"I've had a stuffy nose, sore throat, and nonstop sneezing for two days—it feels like a regular cold.\", \"Common Cold\"),\n",
        "    (\"My throat is sore, nose is runny, and I keep sneezing like crazy—it feels like a cold.\", \"Common Cold\"),\n",
        "    (\"Doctor, I woke up with a sore throat, runny nose, and mild headache. I've been sneezing constantly, and now my nose is congested. I feel tired but don't have a high fever.\", \"Common Cold\"),\n",
        "    (\"Doctor, I've had a runny nose, sore throat, and this annoying cough for three days. My head feels stuffy, and I'm sneezing nonstop.\", \"Common Cold\"),\n",
        "\n",
        "    # Dengue - 4 unique descriptions\n",
        "    (\"I had sudden high fever and intense pain behind my eyes—now my muscles ache all over.\", \"Dengue\"),\n",
        "    (\"I had a high fever, pain behind my eyes, and now I feel drained and sore all over.\", \"Dengue\"),\n",
        "    (\"Doctor, I've had a high fever for three days with severe headaches and pain behind my eyes. My muscles and joints hurt badly, and today I noticed this red rash on my arms and chest.\", \"Dengue\"),\n",
        "    (\"Doctor, I suddenly developed a high fever with severe body aches and pain behind my eyes. Today I noticed small red spots on my arms.\", \"Dengue\"),\n",
        "\n",
        "    # Dimorphic Hemorrhoids - 4 unique descriptions\n",
        "    (\"There's pain and bleeding when I use the bathroom, and I feel a small lump down there.\", \"Dimorphic Hemorrhoids\"),\n",
        "    (\"It hurts to sit or use the bathroom, and I've noticed a small bulge near my rectum.\", \"Dimorphic Hemorrhoids\"),\n",
        "    (\"Doctor, I've been experiencing bleeding during bowel movements and intense pain in my rectal area. Sometimes I feel lumps around my anus that are very painful, especially when sitting.\", \"Dimorphic Hemorrhoids\"),\n",
        "    (\"Doctor, I'm having sharp pain and bleeding when I pass stool. There's a swollen lump near my anus, and it itches constantly.\", \"Dimorphic Hemorrhoids\"),\n",
        "\n",
        "    # Fungal infection - 4 unique descriptions\n",
        "    (\"There's this itchy, flaky patch on my skin that won't go away—it looks red and irritated.\", \"Fungal infection\"),\n",
        "    (\"There's a dry, scaly patch on my arm that won't heal and keeps itching.\", \"Fungal infection\"),\n",
        "    (\"Doctor, I have this itchy, red rash with clear borders that's spreading. The skin is flaky and sometimes cracks, especially between my toes. It burns and itches constantly.\", \"Fungal infection\"),\n",
        "    (\"Doctor, there's a red, itchy rash between my toes that burns and peels. It looks scaly and won't go away with regular creams.\", \"Fungal infection\"),\n",
        "\n",
        "    # Hypertension - 4 unique descriptions\n",
        "    (\"I don't feel anything most of the time, but during checkups my blood pressure is always high.\", \"Hypertension\"),\n",
        "    (\"My doctor says my blood pressure is always high, even though I don't feel anything unusual.\", \"Hypertension\"),\n",
        "    (\"Doctor, I've been having frequent headaches, dizziness, and my vision gets blurry sometimes. My home blood pressure readings have been consistently high, and I feel this pounding in my chest.\", \"Hypertension\"),\n",
        "    (\"Doctor, I've had frequent headaches and dizziness lately. My vision gets blurry sometimes, and I feel my heart pounding in my chest.\", \"Hypertension\"),\n",
        "\n",
        "    # Impetigo - 4 unique descriptions\n",
        "    (\"My child has honey-colored crusts around the nose and mouth that seem to be spreading.\", \"Impetigo\"),\n",
        "    (\"My kid has yellowish crusts around the mouth and nose, and they seem to be spreading.\", \"Impetigo\"),\n",
        "    (\"Doctor, my child has developed these small red sores around their nose and mouth that quickly formed yellow crusts. They're spreading fast and seem to be very itchy and painful.\", \"Impetigo\"),\n",
        "    (\"Doctor, my child has these crusty, honey-colored sores around their nose and mouth. The skin is red and oozes fluid.\", \"Impetigo\"),\n",
        "\n",
        "    # Jaundice - 4 unique descriptions\n",
        "    (\"My skin and eyes have turned yellow, and my urine is dark—I've also been really tired.\", \"Jaundice\"),\n",
        "    (\"Everyone's been telling me my eyes and skin look yellow, and I've been super tired lately.\", \"Jaundice\"),\n",
        "    (\"Doctor, my skin and eyes have turned yellow over the past week. I feel extremely tired, have lost my appetite, and notice my urine is dark while my stools are pale.\", \"Jaundice\"),\n",
        "    (\"Doctor, my skin and eyes turned yellow last week. My urine is dark, and I feel extremely tired with no appetite.\", \"Jaundice\"),\n",
        "\n",
        "    # Malaria - 4 unique descriptions\n",
        "    (\"I had chills, then a fever, then sweating—every day around the same time, it keeps cycling.\", \"Malaria\"),\n",
        "    (\"I get a fever every evening followed by chills and sweating—it's like a pattern every day.\", \"Malaria\"),\n",
        "    (\"Doctor, I've had a high fever with chills that come and go every few hours. I have a splitting headache, muscle pain, and feel extremely weak. I recently returned from a tropical country.\", \"Malaria\"),\n",
        "    (\"Doctor, I've had recurring high fevers with chills and sweating every two days. My muscles ache, and I can't keep food down.\", \"Malaria\"),\n",
        "\n",
        "    # Migraine - 4 unique descriptions\n",
        "    (\"There's this pounding headache on one side that makes me nauseous and sensitive to light.\", \"Migraine\"),\n",
        "    (\"I get these terrible headaches on one side of my head that make me nauseous and sensitive to light.\", \"Migraine\"),\n",
        "    (\"Doctor, I get these severe, throbbing headaches on one side of my head that last for hours. Before they start, I see flashing lights and feel nauseous. Light and sound make them worse.\", \"Migraine\"),\n",
        "    (\"Doctor, I get throbbing headaches on one side of my head, along with nausea and sensitivity to light. Bright lights trigger it every time.\", \"Migraine\"),\n",
        "\n",
        "    # Pneumonia - 4 unique descriptions\n",
        "    (\"I've been coughing up green phlegm with fever and chest pain when I breathe deeply.\", \"Pneumonia\"),\n",
        "    (\"My cough brings up greenish mucus and my chest hurts every time I breathe deeply.\", \"Pneumonia\"),\n",
        "    (\"Doctor, I've had a high fever, chills, and a severe cough that produces thick, greenish phlegm. It hurts when I breathe deeply or cough, and I'm extremely tired and short of breath.\", \"Pneumonia\"),\n",
        "    (\"Doctor, I've had a cough with greenish phlegm for a week. My chest hurts when I breathe, and I'm shaking with chills and fever.\", \"Pneumonia\"),\n",
        "\n",
        "    # Psoriasis - 4 unique descriptions\n",
        "    (\"There are thick, red, scaly patches on my elbows that itch and come back in cycles.\", \"Psoriasis\"),\n",
        "    (\"I get thick, itchy red patches on my skin that come and go in the same spots.\", \"Psoriasis\"),\n",
        "    (\"Doctor, I have these red, scaly patches on my elbows, knees, and scalp that are very itchy. My skin is cracked and sometimes bleeds. The patches come and go but never fully disappear.\", \"Psoriasis\"),\n",
        "    (\"Doctor, my elbows and knees have thick, red patches covered in silvery scales. They itch terribly and bleed if I scratch them.\", \"Psoriasis\"),\n",
        "\n",
        "    # Typhoid - 4 unique descriptions\n",
        "    (\"I've had a persistent fever and stomach discomfort for days—nothing seems to help.\", \"Typhoid\"),\n",
        "    (\"I've had a low fever, stomach ache, and general fatigue for days—it just won't stop.\", \"Typhoid\"),\n",
        "    (\"Doctor, I've had a persistent high fever for a week, severe headache, and no appetite. My stomach hurts, and I've been constipated. I feel extremely weak and sometimes delirious.\", \"Typhoid\"),\n",
        "    (\"Doctor, I've had a high fever for over a week, along with stomach pain and diarrhea. I feel too weak to get out of bed.\", \"Typhoid\"),\n",
        "\n",
        "    # Varicose Veins - 4 unique descriptions\n",
        "    (\"My legs feel heavy and swollen, and I've noticed bulging purple veins getting worse.\", \"Varicose Veins\"),\n",
        "    (\"My legs feel swollen and sore, and the veins look twisted and bulging.\", \"Varicose Veins\"),\n",
        "    (\"Doctor, my legs ache and feel heavy, especially after standing all day. I have these visible, twisted veins on my calves, and sometimes my ankles swell up. The skin around the veins itches.\", \"Varicose Veins\"),\n",
        "    (\"Doctor, the veins in my legs are bulging and purple. My legs ache and feel heavy, especially after standing all day.\", \"Varicose Veins\"),\n",
        "\n",
        "    # Allergy - 4 unique descriptions\n",
        "    (\"Every spring I get itchy eyes, sneezing fits, and a runny nose that won't stop.\", \"allergy\"),\n",
        "    (\"I get sneezing, watery eyes, and a runny nose every time I'm around dust or pollen.\", \"allergy\"),\n",
        "    (\"Doctor, whenever I eat certain foods or encounter dust, I get this itchy rash, my eyes water, and my nose runs. Sometimes my throat feels tight, and I start wheezing.\", \"allergy\"),\n",
        "    (\"Doctor, my eyes get watery and itchy whenever I'm near pollen. I sneeze nonstop, and my throat feels scratchy.\", \"allergy\"),\n",
        "\n",
        "    # Diabetes - 4 unique descriptions\n",
        "    (\"I'm always thirsty, peeing a lot, and lately I've felt tired even after sleeping well.\", \"diabetes\"),\n",
        "    (\"I'm thirsty all the time, I'm peeing frequently, and I feel exhausted for no reason.\", \"diabetes\"),\n",
        "    (\"Doctor, I'm constantly thirsty, urinating frequently, and feel tired all the time. I've lost weight despite eating normally, and sometimes my vision gets blurry. Cuts seem to heal slowly too.\", \"diabetes\"),\n",
        "    (\"Doctor, I'm always thirsty, urinating constantly, and losing weight without trying. My vision is getting blurry too.\", \"diabetes\"),\n",
        "\n",
        "    # Drug reaction - 4 unique descriptions\n",
        "    (\"After taking my antibiotics, I developed a rash and some swelling—it wasn't there before.\", \"drug reaction\"),\n",
        "    (\"I had an allergic reaction after taking medicine—developed a rash and started itching badly.\", \"drug reaction\"),\n",
        "    (\"Doctor, I developed this widespread rash and itching shortly after starting my new medication. My lips feel swollen, and I'm having trouble breathing normally.\", \"drug reaction\"),\n",
        "    (\"Doctor, after starting the new antibiotic, I developed a red, itchy rash all over my body. My face is swollen, and I feel dizzy.\", \"drug reaction\"),\n",
        "\n",
        "    # Gastroesophageal reflux disease - 4 unique descriptions\n",
        "    (\"I feel a burning in my chest after meals, especially when I lie down—like acid is coming up.\", \"gastroesophageal reflux disease\"),\n",
        "    (\"I feel this burning sensation in my chest after eating, especially when I bend down or lie flat.\", \"gastroesophageal reflux disease\"),\n",
        "    (\"Doctor, I get this burning pain in my chest after eating, especially when I lie down. Food sometimes comes back up into my throat, and I have a chronic cough that's worse at night.\", \"gastroesophageal reflux disease\"),\n",
        "    (\"Doctor, I get a burning pain in my chest after eating, and acid keeps rising into my throat. It's worse when I lie down.\", \"gastroesophageal reflux disease\"),\n",
        "\n",
        "    # Peptic ulcer disease - 4 unique descriptions\n",
        "    (\"There's a gnawing pain in my stomach, especially when I'm hungry—it gets better after eating.\", \"peptic ulcer disease\"),\n",
        "    (\"I get sharp stomach pain when I'm hungry and it eases after I eat something.\", \"peptic ulcer disease\"),\n",
        "    (\"Doctor, I've been having a gnawing, burning pain in my stomach that comes and goes. It's worse when my stomach is empty and sometimes wakes me at night. I've vomited what looks like coffee grounds.\", \"peptic ulcer disease\"),\n",
        "    (\"Doctor, I have a burning pain in my stomach that wakes me up at night. Eating helps a little, but it comes back worse.\", \"peptic ulcer disease\"),\n",
        "\n",
        "    # Urinary tract infection - 4 unique descriptions\n",
        "    (\"It stings when I pee, and I constantly feel like I need to go, even right after I do.\", \"urinary tract infection\"),\n",
        "    (\"It hurts every time I urinate, and I feel like I have to go even when I just did.\", \"urinary tract infection\"),\n",
        "    (\"Doctor, I feel a burning sensation when I urinate and need to go frequently, but only small amounts come out. My lower abdomen hurts, and my urine looks cloudy and smells strong.\", \"urinary tract infection\"),\n",
        "    (\"Doctor, it burns when I urinate, and I feel like I need to go constantly. My urine is cloudy and has a strong smell.\", \"urinary tract infection\")\n",
        "]\n",
        "\n",
        "deepSeek_real_world = [\n",
        "    # 1. Acne (4 variations)\n",
        "    (\"Oily skin with blackheads and inflamed pustules on cheeks/chin, worsening before menstrual cycles\", \"Acne\"),\n",
        "    (\"Persistent cystic acne along jawline in 32yo female with PCOS diagnosis and hirsutism\", \"Acne\"),\n",
        "    (\"Sudden acne outbreak at age 45 with greasy scalp and enlarged pores\", \"Acne\"),\n",
        "    (\"'Pizza face' breakout after using new makeup - red volcano zits that hurt to touch\", \"Acne\"),\n",
        "\n",
        "    # 2. Arthritis (4 variations)\n",
        "    (\"Morning knee stiffness lasting 45min, grating sensation when climbing stairs\", \"Arthritis\"),\n",
        "    (\"Symmetrical finger joint swelling in 68yo with psoriasis history\", \"Arthritis\"),\n",
        "    (\"Sudden red-hot big toe joint pain at 3AM in male with high alcohol intake\", \"Arthritis\"),\n",
        "    (\"Hip locking up after sitting, 'needs oiling' to walk properly\", \"Arthritis\"),\n",
        "\n",
        "    # 3. Bronchial Asthma (4 variations)\n",
        "    (\"Wheezing worse at night, reliever inhaler used 4x/week\", \"Bronchial Asthma\"),\n",
        "    (\"Post-COVID persistent cough with chest tightness when laughing\", \"Bronchial Asthma\"),\n",
        "    (\"Teen athlete with exercise-induced breathlessness and peak flow variability\", \"Bronchial Asthma\"),\n",
        "    (\"'Lungs feel shrink-wrapped' during pollen season\", \"Bronchial Asthma\"),\n",
        "\n",
        "    # 4. Cervical Spondylosis (4 variations)\n",
        "    (\"Neck stiffness radiating to right arm, numbness in index/middle fingers\", \"Cervical spondylosis\"),\n",
        "    (\"Crunching sound when turning head with frequent tension headaches\", \"Cervical spondylosis\"),\n",
        "    (\"Shoulder blade pain when working on laptop, relieved by neck traction\", \"Cervical spondylosis\"),\n",
        "    (\"'Electric shock' feelings down arms when looking up to paint ceiling\", \"Cervical spondylosis\"),\n",
        "\n",
        "    # 5. Chickenpox (4 variations)\n",
        "    (\"Fever followed by itchy vesicles in different stages on scalp/trunk\", \"Chicken pox\"),\n",
        "    (\"Unvaccinated adult with 200+ pox lesions and oral ulcers\", \"Chicken pox\"),\n",
        "    (\"Breakthrough varicella in vaccinated child - sparse atypical lesions\", \"Chicken pox\"),\n",
        "    (\"'Water blisters' spreading from back to face after school outbreak\", \"Chicken pox\"),\n",
        "\n",
        "    # 6. Common Cold (4 variations)\n",
        "    (\"Clear rhinorrhea with sneezing, no fever - symptoms <48hr duration\", \"Common Cold\"),\n",
        "    (\"Sore throat resolving as nasal congestion develops\", \"Common Cold\"),\n",
        "    (\"Post-nasal drip causing night cough in toddler\", \"Common Cold\"),\n",
        "    (\"'Head feels stuffed with cotton' with tickly throat\", \"Common Cold\"),\n",
        "\n",
        "    # 7. Dengue (4 variations)\n",
        "    (\"High fever + retro-orbital pain + petechial rash + leukopenia\", \"Dengue\"),\n",
        "    (\"Severe muscle pain 'breakbone fever' in returning SE Asia traveler\", \"Dengue\"),\n",
        "    (\"Warning signs: abdominal pain + cold extremities + restlessness\", \"Dengue\"),\n",
        "    (\"'Fever with red spots' and positive tourniquet test\", \"Dengue\"),\n",
        "\n",
        "    # 8. Dimorphic Hemorrhoids (4 variations)\n",
        "    (\"Painful defecation with fresh blood on tissue paper\", \"Dimorphic Hemorrhoids\"),\n",
        "    (\"Thrombosed external hemorrhoid after heavy lifting\", \"Dimorphic Hemorrhoids\"),\n",
        "    (\"Chronic anal itching + intermittent prolapse during bowel movements\", \"Dimorphic Hemorrhoids\"),\n",
        "    (\"'Blueberry-like bulge' at anus when straining\", \"Dimorphic Hemorrhoids\"),\n",
        "\n",
        "    # 9. Fungal Infection (4 variations)\n",
        "    (\"Pruritic annular plaque with central clearing on thigh\", \"Fungal infection\"),\n",
        "    (\"Thickened yellow toenails with subungual debris\", \"Fungal infection\"),\n",
        "    (\"Inverse psoriasis-like rash in groin folds, worse with sweating\", \"Fungal infection\"),\n",
        "    (\"'Cigarette ash' scaling on neck that won't scrub off\", \"Fungal infection\"),\n",
        "\n",
        "    # 10. Hypertension (4 variations)\n",
        "    (\"Asymptomatic BP 160/95 on three separate readings\", \"Hypertension\"),\n",
        "    (\"Morning headaches + epistaxis + retinal changes\", \"Hypertension\"),\n",
        "    (\"Resistant HTN in obese patient with sleep apnea symptoms\", \"Hypertension\"),\n",
        "    (\"'Pounding in ears' when stressed, normal at-home readings\", \"Hypertension\"),\n",
        "\n",
        "    # 11. Impetigo (4 variations)\n",
        "    (\"Honey-crusted lesions around nostrils in preschooler\", \"Impetigo\"),\n",
        "    (\"Bullous impetigo with fragile blisters in diaper area\", \"Impetigo\"),\n",
        "    (\"Post-MRSA impetigo with erythematous satellite lesions\", \"Impetigo\"),\n",
        "    (\"'School sores' spreading through wrestling team\", \"Impetigo\"),\n",
        "\n",
        "    # 12. Jaundice (4 variations)\n",
        "    (\"Yellow sclera + dark urine + pale stools + pruritus\", \"Jaundice\"),\n",
        "    (\"Neonatal jaundice peaking on day 3 of life\", \"Jaundice\"),\n",
        "    (\"Alcoholic hepatitis with tender hepatomegaly\", \"Jaundice\"),\n",
        "    (\"'Skin turned pumpkin-colored' after herbal supplement use\", \"Jaundice\"),\n",
        "\n",
        "    # 13. Malaria (4 variations)\n",
        "    (\"Cyclical tertian fever with rigors and splenomegaly\", \"Malaria\"),\n",
        "    (\"Cerebral malaria with confusion and seizure\", \"Malaria\"),\n",
        "    (\"P. vivax relapse 6 months after initial infection\", \"Malaria\"),\n",
        "    (\"'Fever charts look like rollercoaster' in Africa traveler\", \"Malaria\"),\n",
        "\n",
        "    # 14. Migraine (4 variations)\n",
        "    (\"Unilateral throbbing headache with photophobia + aura\", \"Migraine\"),\n",
        "    (\"Vestibular migraine with dizziness but minimal headache\", \"Migraine\"),\n",
        "    (\"Menstrual-related migraine with premonitory yawning\", \"Migraine\"),\n",
        "    (\"'Ice pick through temple' with nausea in college student\", \"Migraine\"),\n",
        "\n",
        "    # 15. Pneumonia (4 variations)\n",
        "    (\"Rust-colored sputum + pleuritic chest pain + consolidation on CXR\", \"Pneumonia\"),\n",
        "    (\"Walking pneumonia with dry cough and fatigue\", \"Pneumonia\"),\n",
        "    (\"Aspiration pneumonia in nursing home resident with dysphagia\", \"Pneumonia\"),\n",
        "    (\"'Lung feels waterlogged' with shaking chills\", \"Pneumonia\"),\n",
        "\n",
        "    # 16. Psoriasis (4 variations)\n",
        "    (\"Well-demarcated erythematous plaques with micaceous scale\", \"Psoriasis\"),\n",
        "    (\"Nail pitting + onycholysis in chronic plaque psoriasis\", \"Psoriasis\"),\n",
        "    (\"Guttate outbreak after strep throat\", \"Psoriasis\"),\n",
        "    (\"'Skin like dried lakebed' on elbows/knees\", \"Psoriasis\"),\n",
        "\n",
        "    # 17. Typhoid (4 variations)\n",
        "    (\"Stepwise fever + rose spots + relative bradycardia\", \"Typhoid\"),\n",
        "    (\"Hepatosplenomegaly + pea soup diarrhea\", \"Typhoid\"),\n",
        "    (\"Chronic carrier with persistent gallbladder infection\", \"Typhoid\"),\n",
        "    (\"'Fever that crawls up daily' in South Asia visitor\", \"Typhoid\"),\n",
        "\n",
        "    # 18. Varicose Veins (4 variations)\n",
        "    (\"Roping leg veins + edema + heaviness worse standing\", \"Varicose Veins\"),\n",
        "    (\"Lipodermatosclerosis with inverted champagne bottle appearance\", \"Varicose Veins\"),\n",
        "    (\"Bleeding varicosity after minor trauma\", \"Varicose Veins\"),\n",
        "    (\"'Purple worms under skin' on legs after pregnancy\", \"Varicose Veins\"),\n",
        "\n",
        "    # 19. Allergy (4 variations)\n",
        "    (\"Acute urticaria after shellfish ingestion\", \"allergy\"),\n",
        "    (\"Perennial rhinitis with pillowcase dust mite sensitivity\", \"allergy\"),\n",
        "    (\"Anaphylaxis to IV contrast media\", \"allergy\"),\n",
        "    (\"'Face balloons up' when near cats\", \"allergy\"),\n",
        "\n",
        "    # 20. Diabetes (4 variations)\n",
        "    (\"Polyuria + polydipsia + 6% weight loss in 3 weeks\", \"diabetes\"),\n",
        "    (\"Recurrent balanitis + blurred vision\", \"diabetes\"),\n",
        "    (\"Diabetic ketoacidosis with fruity breath odor\", \"diabetes\"),\n",
        "    (\"'Peeing like broken faucet' with constant thirst\", \"diabetes\"),\n",
        "\n",
        "    # 21. Drug Reaction (4 variations)\n",
        "    (\"Fixed drug eruption after sulfa antibiotics\", \"drug reaction\"),\n",
        "    (\"DRESS syndrome with eosinophilia 3 weeks post-antibiotics\", \"drug reaction\"),\n",
        "    (\"SJS/TEN overlap with targetoid lesions\", \"drug reaction\"),\n",
        "    (\"'Skin burns' after new seizure medication\", \"drug reaction\"),\n",
        "\n",
        "    # 22. GERD (4 variations)\n",
        "    (\"Retrosternal burning worse when lying flat\", \"gastroesophageal reflux disease\"),\n",
        "    (\"Chronic cough + hoarseness with normal endoscopy\", \"gastroesophageal reflux disease\"),\n",
        "    (\"Non-cardiac chest pain after large meals\", \"gastroesophageal reflux disease\"),\n",
        "    (\"'Acid volcano' rising up throat at night\", \"gastroesophageal reflux disease\"),\n",
        "\n",
        "    # 23. Peptic Ulcer (4 variations)\n",
        "    (\"Epigastric pain 2hrs after meals, relieved by antacids\", \"peptic ulcer disease\"),\n",
        "    (\"Coffee ground emesis + melena\", \"peptic ulcer disease\"),\n",
        "    (\"NSAID-induced ulcer with H. pylori positivity\", \"peptic ulcer disease\"),\n",
        "    (\"'Hunger pangs' that eat through stomach\", \"peptic ulcer disease\"),\n",
        "\n",
        "    # 24. UTI (4 variations)\n",
        "    (\"Dysuria + frequency + suprapubic tenderness\", \"urinary tract infection\"),\n",
        "    (\"Flank pain + fever + nitrites on dipstick\", \"urinary tract infection\"),\n",
        "    (\"Recurrent UTIs post-menopause with atrophic vaginitis\", \"urinary tract infection\"),\n",
        "    (\"'Peeing razor blades' with smelly cloudy urine\", \"urinary tract infection\")\n",
        "]\n",
        "\n",
        "gemini_real_world_cases = [\n",
        "    (\"I've had persistent, painful breakouts mainly on my face, but also some on my chest and back. They're a mix of red bumps, whiteheads, and deeper cysts that are slow to heal, and they seem to flare up with stress and hormonal changes.\", \"Acne\"),\n",
        "    (\"For the past few months, I've noticed increasing facial redness, small red bumps, and visible blood vessels on my cheeks. My skin is also very sensitive and easily irritated by certain skincare products.\", \"Acne\"),\n",
        "    (\"My teenage son has severe acne with numerous inflamed nodules and scarring on his face and back. He's tried over-the-counter treatments with little success, and it's affecting his self-esteem.\", \"Acne\"),\n",
        "    (\"I'm experiencing a sudden onset of painful, pus-filled bumps on my face, accompanied by fever and fatigue. The bumps are spreading rapidly, and I suspect it might be related to a new medication.\", \"Acne\"),\n",
        "\n",
        "    (\"My joints are increasingly stiff, especially in the mornings, making it difficult to grip objects and bend my knees. I also have swelling and tenderness in my fingers and wrists, and the pain worsens with activity.\", \"Arthritis\"),\n",
        "    (\"I have chronic pain and stiffness in my lower back and hips that radiates to my buttocks and thighs. The pain is worse in the morning and after periods of inactivity, and I've noticed some loss of flexibility.\", \"Arthritis\"),\n",
        "    (\"I've been experiencing joint pain, swelling, and stiffness, along with fatigue, low-grade fever, and a butterfly-shaped rash across my nose and cheeks. My symptoms seem to flare up with sun exposure.\", \"Arthritis\"),\n",
        "    (\"I have severe pain and swelling in my big toe, which started suddenly and intensely. The joint is red, hot, and extremely tender to the touch, making it difficult to walk or even bear weight.\", \"Arthritis\"),\n",
        "\n",
        "    (\"I experience frequent episodes of wheezing, shortness of breath, chest tightness, and coughing, particularly at night or early in the morning. These episodes are often triggered by allergens, exercise, or cold air.\", \"Bronchial Asthma\"),\n",
        "    (\"My asthma has been worsening, with increased frequency and severity of symptoms. I'm using my inhaler more often, but it provides less relief, and I'm having difficulty completing daily activities.\", \"Bronchial Asthma\"),\n",
        "    (\"My child has recurrent coughing fits, wheezing, and difficulty breathing, especially after viral infections. He also has a history of allergies and eczema.\", \"Bronchial Asthma\"),\n",
        "    (\"I had a severe asthma attack with rapid breathing, chest pain, and an inability to speak in full sentences. I required emergency medical attention and hospitalization.\", \"Bronchial Asthma\"),\n",
        "\n",
        "    (\"I have chronic neck pain and stiffness that radiates into my shoulders and arms, causing numbness and tingling in my fingers. My range of motion is limited, and I often get headaches.\", \"Cervical spondylosis\"),\n",
        "    (\"After a car accident, I developed persistent neck pain, muscle spasms, and difficulty turning my head. Imaging revealed degenerative changes in my cervical spine.\", \"Cervical spondylosis\"),\n",
        "    (\"My job involves prolonged sitting at a computer, and I've developed neck pain, shoulder tightness, and upper back discomfort. I also experience pain when looking down at my phone for extended periods.\", \"Cervical spondylosis\"),\n",
        "    (\"I'm an elderly patient with long-standing cervical spondylosis, experiencing severe neck pain, muscle weakness in my arms, and difficulty with balance and coordination.\", \"Cervical spondylosis\"),\n",
        "\n",
        "    (\"My child has a fever, fatigue, and an itchy rash with fluid-filled blisters in various stages of healing. The rash started on his chest and back and spread to his face and extremities.\", \"Chicken pox\"),\n",
        "    (\"I'm an adult who has never had chickenpox and now has a widespread rash with painful blisters, high fever, and severe fatigue. I'm concerned about potential complications.\", \"Chicken pox\"),\n",
        "     (\"My infant has a mild case of chickenpox with only a few blisters, but I'm worried about potential complications due to his young age.\", \"Chicken pox\"),\n",
        "    (\"I'm experiencing a breakthrough case of chickenpox despite having been vaccinated in childhood. My symptoms are milder, but I still have a rash and low-grade fever.\", \"Chicken pox\"),\n",
        "\n",
        "    (\"I have a mild sore throat, runny nose, and congestion, accompanied by sneezing and a low-grade fever. My symptoms started gradually and have been present for a few days.\", \"Common Cold\"),\n",
        "    (\"I've had a persistent cough, nasal congestion, and fatigue for over a week. I'm also experiencing a headache and mild body aches.\", \"Common Cold\"),\n",
        "    (\"My child has a stuffy nose, cough, and irritability, making it difficult for him to sleep and eat. He also has a mild fever and is pulling at his ears.\", \"Common Cold\"),\n",
        "    (\"I initially thought it was a cold, but my symptoms have worsened, with a high fever, severe sore throat, and swollen glands. I suspect it might be strep throat or another infection.\", \"Common Cold\"),\n",
        "\n",
        "    (\"I have a sudden onset of high fever, severe headache, and intense pain behind my eyes, followed by muscle and joint pain. I also have nausea and a loss of appetite.\", \"Dengue\"),\n",
        "    (\"I traveled to a tropical region and developed a high fever, rash, and severe joint pain a few days after returning. I'm also experiencing fatigue and a metallic taste in my mouth.\", \"Dengue\"),\n",
        "    (\"My dengue fever progressed, and I developed severe abdominal pain, vomiting, and bleeding gums. I'm feeling very weak and dizzy.\", \"Dengue\"),\n",
        "    (\"I'm experiencing a mild case of dengue with low-grade fever, headache, and mild muscle aches. However, I'm concerned about the possibility of complications.\", \"Dengue\"),\n",
        "\n",
        "    (\"I have painful bowel movements with bright red blood, itching, and a feeling of fullness or a lump near my anus. My symptoms worsen with prolonged sitting and straining.\", \"Dimorphic Hemorrhoids\"),\n",
        "    (\"I've been experiencing recurrent episodes of painful and swollen external hemorrhoids, particularly after periods of constipation. Over-the-counter treatments provide only temporary relief.\", \"Dimorphic Hemorrhoids\"),\n",
        "    (\"I have internal hemorrhoids that are not typically painful but cause significant bleeding during bowel movements. I'm also experiencing some mucus discharge and a persistent urge to defecate.\", \"Dimorphic Hemorrhoids\"),\n",
        "    (\"My hemorrhoids became thrombosed, causing sudden, severe pain and a hard, tender lump near my anus. I'm seeking urgent medical attention for this complication.\", \"Dimorphic Hemorrhoids\"),\n",
        "\n",
        "    (\"I have an intensely itchy, red, and scaly rash on my feet, particularly between the toes. The skin is cracked and peeling, and there's a foul odor.\", \"Fungal infection\"),\n",
        "    (\"I developed a circular, red rash with raised edges on my arm. The center of the rash is clear, and it's slowly expanding. I suspect it might be ringworm.\", \"Fungal infection\"),\n",
        "    (\"I have a persistent white coating on my tongue and inner cheeks, accompanied by a sore throat and difficulty swallowing. I recently completed a course of antibiotics.\", \"Fungal infection\"),\n",
        "    (\"I'm experiencing hair loss, itching, and scaling on my scalp. I've noticed circular patches of hair loss, and some areas are inflamed and tender.\", \"Fungal infection\"),\n",
        "\n",
        "    (\"My blood pressure readings are consistently elevated, even though I feel fine. I have no noticeable symptoms, but my doctor is concerned about long-term health risks.\", \"Hypertension\"),\n",
        "    (\"I've been experiencing frequent headaches, dizziness, and shortness of breath, and my blood pressure is significantly elevated. I'm also having trouble sleeping and feel anxious.\", \"Hypertension\"),\n",
        "    (\"I have a history of hypertension and recently had a hypertensive crisis with severe headache, chest pain, and blurred vision. I required emergency medical treatment.\", \"Hypertension\"),\n",
        "    (\"I'm pregnant and have been diagnosed with gestational hypertension. My blood pressure is elevated, and my doctor is closely monitoring me and the baby.\", \"Hypertension\"),\n",
        "\n",
        "    (\"My child has red sores with honey-colored crusts around his nose and mouth. The sores are spreading quickly, and he's constantly scratching them.\", \"Impetigo\"),\n",
        "    (\"My infant has developed blisters on her diaper area that have ruptured and formed crusted sores. She's also irritable and has a mild fever.\", \"Impetigo\"),\n",
        "    (\"I have a painful and itchy rash with fluid-filled blisters that have turned into crusted sores. I suspect I contracted impetigo from a contaminated surface.\", \"Impetigo\"),\n",
        "    (\"My child has bullous impetigo with large, fluid-filled blisters on his trunk and limbs. He's also experiencing fever and weakness.\", \"Impetigo\"),\n",
        "\n",
        "    (\"I have yellowing of my skin and eyes, dark urine, and pale stools. I'm also experiencing fatigue, nausea, and abdominal pain.\", \"Jaundice\"),\n",
        "    (\"I developed jaundice after starting a new medication. My doctor suspects it might be a drug-induced liver injury.\", \"Jaundice\"),\n",
        "    (\"I have jaundice due to a blockage in my bile duct. I'm also experiencing severe itching and have lost weight.\", \"Jaundice\"),\n",
        "    (\"My newborn has jaundice, which is common, but the levels are high, and he requires phototherapy.\", \"Jaundice\"),\n",
        "\n",
        "    (\"I have recurring episodes of high fever, chills, and sweating that occur in cycles. I also experience headache, muscle pain, and fatigue. I recently traveled to a malaria-endemic region.\", \"Malaria\"),\n",
        "    (\"I'm experiencing severe malaria with complications, including confusion, seizures, and difficulty breathing. I require intensive medical care.\", \"Malaria\"),\n",
        "    (\"I have malaria, and even after treatment, I'm experiencing relapses of fever and other symptoms. My doctor is adjusting my medication.\", \"Malaria\"),\n",
        "    (\"I'm taking prophylactic medication for malaria while traveling, but I'm still experiencing some mild symptoms like fatigue and muscle aches. I'm concerned about breakthrough infection.\", \"Malaria\"),\n",
        "\n",
        "    (\"I experience intense, throbbing headaches on one side of my head, often accompanied by nausea, vomiting, and sensitivity to light and sound. These episodes are debilitating and interfere with my daily life.\", \"Migraine\"),\n",
        "    (\"My migraines are preceded by an aura with visual disturbances, such as flashing lights and zigzag lines. I also experience numbness and tingling in my face and hands.\", \"Migraine\"),\n",
        "    (\"I have chronic migraines with frequent headaches that occur most days of the month. I'm seeking preventive treatment options to reduce the frequency and severity of my attacks.\", \"Migraine\"),\n",
        "    (\"I'm experiencing a rare type of migraine with weakness on one side of my body. My doctor is investigating potential underlying causes.\", \"Migraine\"),\n",
        "\n",
        "    (\"I have a persistent cough with thick, greenish-yellow phlegm, chest pain that worsens with deep breathing, fever, and chills. I'm also experiencing shortness of breath and fatigue.\", \"Pneumonia\"),\n",
        "    (\"I'm an elderly patient with pneumonia and have developed confusion, rapid breathing, and a high fever. I require hospitalization and close monitoring.\", \"Pneumonia\"),\n",
        "    (\"My child has pneumonia with a high fever, rapid breathing, and a barking cough. He's also having difficulty feeding and is very lethargic.\", \"Pneumonia\"),\n",
        "    (\"I have walking pneumonia with mild symptoms like a dry cough, fatigue, and low-grade fever. I'm being treated as an outpatient.\", \"Pneumonia\"),\n",
        "\n",
        "    (\"I have thick, red, scaly patches on my elbows, knees, and scalp that are itchy, painful, and sometimes bleed. The patches come and go, and I'm seeking long-term management strategies.\", \"Psoriasis\"),\n",
        "    (\"I have a severe form of psoriasis covering a large portion of my body. The plaques are thick, inflamed, and causing significant discomfort and emotional distress.\", \"Psoriasis\"),\n",
        "    (\"I'm experiencing psoriatic arthritis with joint pain, stiffness, and swelling in addition to my skin plaques. My condition is affecting my mobility and daily activities.\", \"Psoriasis\"),\n",
        "    (\"I'm using a new biologic medication for my psoriasis, but I'm concerned about potential side effects and long-term safety.\", \"Psoriasis\"),\n",
        "\n",
        "    (\"I have a high fever, abdominal pain, constipation, and fatigue that have been worsening over the past week. I recently traveled to an area with poor sanitation.\", \"Typhoid\"),\n",
        "    (\"I'm experiencing severe typhoid fever with complications, including intestinal bleeding and delirium. I require intensive medical care and close monitoring.\", \"Typhoid\"),\n",
        "    (\"I have typhoid fever, and even after completing the antibiotic course, I'm still experiencing relapses of fever and abdominal symptoms.\", \"Typhoid\"),\n",
        "    (\"I'm a carrier of typhoid bacteria but have no symptoms. However, I'm concerned about the risk of transmitting the infection to others.\", \"Typhoid\"),\n",
        "\n",
        "    (\"I have enlarged, twisted veins in my legs that are visible and causing aching, heaviness, and swelling. The symptoms worsen after prolonged standing.\", \"Varicose Veins\"),\n",
        "    (\"I developed varicose veins during pregnancy, and they're causing significant discomfort and leg pain. I'm exploring treatment options after delivery.\", \"Varicose Veins\"),\n",
        "    (\"I have varicose veins with complications, including skin changes, ulcers, and blood clots. I require advanced treatment to manage these issues.\", \"Varicose Veins\"),\n",
        "    (\"I'm seeking preventative measures for varicose veins, as I have a family history and spend long hours on my feet at work.\", \"Varicose Veins\"),\n",
        "\n",
        "    (\"I experience sneezing, runny nose, itchy eyes, and nasal congestion, particularly during specific seasons or when exposed to certain allergens like pollen or pet dander.\", \"allergy\"),\n",
        "    (\"My allergy symptoms have been worsening, with increased frequency and severity. I'm also experiencing hives, skin rashes, and difficulty breathing.\", \"allergy\"),\n",
        "    (\"My child has severe food allergies that cause immediate reactions like swelling, itching, and difficulty breathing. We carry an epinephrine auto-injector for emergencies.\", \"allergy\"),\n",
        "    (\"I'm undergoing immunotherapy for my allergies, but I'm still experiencing breakthrough symptoms and need to manage them with medication.\", \"allergy\"),\n",
        "\n",
        "    (\"I'm experiencing excessive thirst, frequent urination, unexplained weight loss, and fatigue. I've also noticed blurred vision and slow-healing wounds.\", \"diabetes\"),\n",
        "    (\"I have type 2 diabetes and am having difficulty managing my blood sugar levels with diet and oral medications. I'm experiencing complications like nerve damage and vision problems.\", \"diabetes\"),\n",
        "    (\"I developed gestational diabetes during pregnancy, and my blood sugar levels are elevated. I require careful monitoring and management to ensure a healthy pregnancy.\", \"diabetes\"),\n",
        "    (\"My child was recently diagnosed with type 1 diabetes and requires daily insulin injections. We're learning to manage his condition and prevent complications.\", \"diabetes\"),\n",
        "\n",
        "    (\"I developed a widespread rash, itching, swelling, and difficulty breathing shortly after starting a new medication. I suspect I'm having an allergic reaction.\", \"drug reaction\"),\n",
        "    (\"I experienced a severe drug reaction with anaphylaxis, including throat tightness, wheezing, and a drop in blood pressure. I required emergency medical treatment.\", \"drug reaction\"),\n",
        "    (\"I have a delayed drug reaction with a rash that appeared several days after starting the medication. The rash is itchy and widespread, but I have no other symptoms.\", \"drug reaction\"),\n",
        "    (\"I'm experiencing a drug interaction between two medications, causing unexpected side effects like dizziness, nausea, and changes in heart rate.\", \"drug reaction\"),\n",
        "\n",
        "    (\"I have frequent heartburn, regurgitation of food or sour liquid, and chest pain, particularly after meals or when lying down. I also experience a chronic cough and sore throat.\", \"gastroesophageal reflux disease\"),\n",
        "    (\"My GERD symptoms have worsened, with increased frequency and severity of heartburn, as well as difficulty swallowing and a feeling of food being stuck in my throat.\", \"gastroesophageal reflux disease\"),\n",
        "    (\"I developed GERD after a hiatal hernia repair surgery. I am still experiencing acid reflux and need to manage it with medication and lifestyle changes.\", \"gastroesophageal reflux disease\"),\n",
        "    (\"My infant has GERD with frequent spitting up, irritability, and poor weight gain. We're using special feeding techniques and medication to manage his symptoms.\", \"gastroesophageal reflux disease\"),\n",
        "\n",
        "    (\"I have recurrent episodes of gnawing or burning stomach pain, particularly when my stomach is empty. The pain is often relieved by eating or taking antacids, but it returns later.\", \"peptic ulcer disease\"),\n",
        "    (\"I developed a bleeding ulcer and experienced vomiting blood, black stools, and severe abdominal pain. I required hospitalization and blood transfusions.\", \"peptic ulcer disease\"),\n",
        "    (\"My peptic ulcer is caused by an H. pylori infection. I'm undergoing antibiotic treatment to eradicate the bacteria and promote healing.\", \"peptic ulcer disease\"),\n",
        "    (\"I'm experiencing complications from a peptic ulcer, including a perforation that caused sudden, severe abdominal pain and required emergency surgery.\", \"peptic ulcer disease\"),\n",
        "\n",
        "    (\"I have a frequent and urgent need to urinate, even when my bladder is not full. I experience burning pain or discomfort during urination, and my urine may be cloudy or have a strong odor.\", \"urinary tract infection\"),\n",
        "    (\"I have a recurrent UTI with frequent episodes of cystitis. I'm exploring preventive measures to reduce the frequency of these infections.\", \"urinary tract infection\"),\n",
        "    (\"I developed a kidney infection (pyelonephritis) with severe flank pain, fever, chills, and nausea. I require intravenous antibiotics and hospitalization.\", \"urinary tract infection\"),\n",
        "    (\"I'm experiencing a complicated UTI with symptoms that don't respond to initial antibiotic treatment. Further testing is needed to identify the causative organism and guide therapy.\", \"urinary tract infection\")\n",
        "]\n",
        "\n",
        "\n",
        "gpt_real_world_cases = [\n",
        "    # Acne\n",
        "    (\"My skin breaks out with painful red bumps right before my period. It’s mostly around my chin and jaw, and it never fully clears up.\", \"Acne\"),\n",
        "    (\"My teenage son has inflamed nodular acne on his back and cheeks. We tried topical creams but the breakouts are worsening and affecting his confidence.\", \"Acne\"),\n",
        "    (\"I’ve got this greasy ‘pizza face’ thing going on—big red zits that feel like volcanoes under the skin.\", \"Acne\"),\n",
        "    (\"Persistent, oily acne with whiteheads and cysts around the jawline, flaring with stress and hormonal shifts, resistant to OTC treatments.\", \"Acne\"),\n",
        "\n",
        "    # Arthritis\n",
        "    (\"My hands feel stiff and sore every morning. It takes about an hour before I can use them properly, and even opening jars is a struggle.\", \"Arthritis\"),\n",
        "    (\"An elderly patient reports bilateral hand joint swelling and morning stiffness lasting over 30 minutes. There’s a history of psoriasis.\", \"Arthritis\"),\n",
        "    (\"It’s like my knees need oiling—I get up and they just lock up until I force movement.\", \"Arthritis\"),\n",
        "    (\"Joint stiffness and pain in wrists and knees, worse in the mornings or after rest, with occasional swelling and difficulty gripping things.\", \"Arthritis\"),\n",
        "\n",
        "    # Bronchial Asthma\n",
        "    (\"I wheeze when I laugh or walk fast, especially at night. It feels like someone’s sitting on my chest.\", \"Bronchial Asthma\"),\n",
        "    (\"Teen athlete has exercise-induced asthma—shortness of breath during sprints, improved with inhaler. Also has eczema.\", \"Bronchial Asthma\"),\n",
        "    (\"Feels like my lungs are shrink-wrapped every spring when the pollen hits.\", \"Bronchial Asthma\"),\n",
        "    (\"Recurrent wheezing and chest tightness, especially after exercise or at night. Frequent reliever inhaler use but symptoms persist.\", \"Bronchial Asthma\"),\n",
        "\n",
        "    # Cervical spondylosis\n",
        "    (\"My neck feels stiff, and sometimes pain shoots down my arms. Sitting too long makes it worse.\", \"Cervical spondylosis\"),\n",
        "    (\"Chronic neck pain radiating to arms with finger tingling; desk job and poor posture noted.\", \"Cervical spondylosis\"),\n",
        "    (\"I hear a crunching sound when I turn my head and feel like electric shocks down my spine.\", \"Cervical spondylosis\"),\n",
        "    (\"Degenerative neck pain with reduced mobility, headaches, and occasional numbness in the fingers.\", \"Cervical spondylosis\"),\n",
        "\n",
        "    # Chicken pox\n",
        "    (\"My child had a fever, then developed itchy red blisters that spread from chest to face and arms.\", \"Chicken pox\"),\n",
        "    (\"Unvaccinated adult with widespread painful rash, high fever, and fatigue—possible varicella.\", \"Chicken pox\"),\n",
        "    (\"Water-filled ‘blisters’ popped up after a school outbreak—scalp and back affected first.\", \"Chicken pox\"),\n",
        "    (\"Fever and vesicular rash in various healing stages; started on trunk and moved outward.\", \"Chicken pox\"),\n",
        "\n",
        "    # Common Cold\n",
        "    (\"I’ve had a runny nose, sneezing, and sore throat for two days. No fever, just feels like a cold.\", \"Common Cold\"),\n",
        "    (\"Toddler with congestion, post-nasal drip, night cough, and mild fever—likely viral.\", \"Common Cold\"),\n",
        "    (\"My head feels stuffed with cotton, I can’t stop sneezing, and my throat is scratchy.\", \"Common Cold\"),\n",
        "    (\"Gradual onset of congestion, sneezing, mild fatigue, and throat discomfort without chills or fever.\", \"Common Cold\"),\n",
        "\n",
        "    # Dengue\n",
        "    (\"High fever with pain behind the eyes and muscle aches everywhere. I feel drained.\", \"Dengue\"),\n",
        "    (\"Recent travel to SE Asia followed by rash, joint pain, and low platelet count.\", \"Dengue\"),\n",
        "    (\"They call it 'breakbone fever'—it really feels like my body is breaking inside.\", \"Dengue\"),\n",
        "    (\"Sudden fever, red rash, retro-orbital pain, and fatigue—labs show leukopenia.\", \"Dengue\"),\n",
        "\n",
        "    # Dimorphic Hemorrhoids\n",
        "    (\"Pain and blood during bowel movements with a lump near the anus that’s itchy and sore.\", \"Dimorphic Hemorrhoids\"),\n",
        "    (\"Straining during constipation led to a thrombosed external hemorrhoid. Very painful and swollen.\", \"Dimorphic Hemorrhoids\"),\n",
        "    (\"Feels like a ‘blueberry bulge’ back there after I go to the bathroom.\", \"Dimorphic Hemorrhoids\"),\n",
        "    (\"Anal discomfort with itching and fresh red blood on toilet paper; no internal pain.\", \"Dimorphic Hemorrhoids\"),\n",
        "\n",
        "    # Fungal Infection\n",
        "    (\"I have a red, itchy patch between my toes that’s peeling and smells bad.\", \"Fungal infection\"),\n",
        "    (\"Annular rash with central clearing and raised red edges on inner thigh—spreading outward.\", \"Fungal infection\"),\n",
        "    (\"This rash looks like ‘cigarette ash’ on my neck—it won’t wash off and keeps flaking.\", \"Fungal infection\"),\n",
        "    (\"Itchy scaly patches with burning between toes; thickened skin and signs of maceration.\", \"Fungal infection\"),\n",
        "\n",
        "    # Hypertension\n",
        "    (\"I feel fine but my BP is always high when checked at the clinic.\", \"Hypertension\"),\n",
        "    (\"Headaches in the morning and blurry vision. BP readings remain consistently elevated.\", \"Hypertension\"),\n",
        "    (\"Feels like a ‘pounding in my ears’ whenever I’m stressed out.\", \"Hypertension\"),\n",
        "    (\"Chronic elevated BP with episodes of nosebleeds and lightheadedness in an overweight patient.\", \"Hypertension\"),\n",
        "\n",
        "    # Impetigo\n",
        "    (\"My child has itchy, crusty sores around his nose and mouth that spread quickly.\", \"Impetigo\"),\n",
        "    (\"Bullous impetigo in diaper region—large blisters that burst and leave yellow crusts.\", \"Impetigo\"),\n",
        "    (\"They’re calling them ‘school sores’—the rash is spreading fast in daycare.\", \"Impetigo\"),\n",
        "    (\"Honey-colored lesions around nostrils with itching and oozing—likely staph origin.\", \"Impetigo\"),\n",
        "\n",
        "    # Jaundice\n",
        "    (\"My eyes and skin turned yellow, and my urine is dark. I’ve felt tired and nauseous for days.\", \"Jaundice\"),\n",
        "    (\"Newborn with jaundice peaking at day 3, being treated with phototherapy.\", \"Jaundice\"),\n",
        "    (\"‘Pumpkin-colored’ skin and itching after starting herbal supplements—liver enzymes elevated.\", \"Jaundice\"),\n",
        "    (\"Yellowing of sclera, dark urine, pale stools, and fatigue—likely obstructive jaundice.\", \"Jaundice\"),\n",
        "\n",
        "    # Malaria\n",
        "    (\"I get a fever and chills every evening, followed by sweating. It’s been repeating daily.\", \"Malaria\"),\n",
        "    (\"Traveler returning from Africa presents with tertian fever, fatigue, and enlarged spleen.\", \"Malaria\"),\n",
        "    (\"‘Feels like a fever rollercoaster’—comes and goes with headaches and body aches.\", \"Malaria\"),\n",
        "    (\"Recurring high fevers, chills, and night sweats—blood smear confirms Plasmodium.\", \"Malaria\"),\n",
        "\n",
        "    # Migraine\n",
        "    (\"Throbbing headache on one side of my head, with nausea and sensitivity to light.\", \"Migraine\"),\n",
        "    (\"Migraine with aura—flashing lights and numbness before the headache starts.\", \"Migraine\"),\n",
        "    (\"‘Feels like an ice pick in my temple’—accompanied by vomiting and noise sensitivity.\", \"Migraine\"),\n",
        "    (\"Recurring unilateral headaches with visual disturbance, triggered around my period.\", \"Migraine\"),\n",
        "\n",
        "    # Pneumonia\n",
        "    (\"Fever, greenish cough, chest pain with deep breaths, and shortness of breath.\", \"Pneumonia\"),\n",
        "    (\"Elderly patient with confusion, rapid breathing, and fever—suspected aspiration pneumonia.\", \"Pneumonia\"),\n",
        "    (\"‘Feels like a lung full of water’—wet cough and chills all day.\", \"Pneumonia\"),\n",
        "    (\"Dry cough, fatigue, and low-grade fever for days—doctor called it walking pneumonia.\", \"Pneumonia\"),\n",
        "\n",
        "    # Psoriasis\n",
        "    (\"Red, scaly patches on my elbows that itch and bleed sometimes.\", \"Psoriasis\"),\n",
        "    (\"‘Skin looks like a dried lakebed’—plaques on knees, elbows, and scalp.\", \"Psoriasis\"),\n",
        "    (\"Post-strep throat, I developed dozens of small scaly patches—diagnosed with guttate psoriasis.\", \"Psoriasis\"),\n",
        "    (\"Psoriatic plaques with nail pitting and joint pain—hurts to walk or write.\", \"Psoriasis\"),\n",
        "\n",
        "    # Typhoid\n",
        "    (\"Fever keeps rising a little each day—also have stomach cramps and no appetite.\", \"Typhoid\"),\n",
        "    (\"South Asia traveler with stepwise fever, rose spots, and diarrhea.\", \"Typhoid\"),\n",
        "    (\"‘Feels like my belly is boiling’—abdominal pain, fatigue, and mental fog.\", \"Typhoid\"),\n",
        "    (\"Hepatosplenomegaly, bradycardia, and prolonged fever—blood culture positive for Salmonella.\", \"Typhoid\"),\n",
        "\n",
        "    # Varicose Veins\n",
        "    (\"My legs feel heavy and sore, especially after standing. I see bulging veins.\", \"Varicose Veins\"),\n",
        "    (\"Post-pregnancy varicose veins with itching and swelling around ankles.\", \"Varicose Veins\"),\n",
        "    (\"‘Purple worms under my skin’—worsens by evening, especially in hot weather.\", \"Varicose Veins\"),\n",
        "    (\"Lipodermatosclerosis with inverted champagne bottle appearance around the calves.\", \"Varicose Veins\"),\n",
        "\n",
        "    # Allergy\n",
        "    (\"Sneezing, itchy eyes, and runny nose every time I’m near dust or pollen.\", \"allergy\"),\n",
        "    (\"Developed hives and throat tightness after eating shellfish—had to use an EpiPen.\", \"allergy\"),\n",
        "    (\"‘My face balloons up’ if I pet a cat—eyes water and nose clogs instantly.\", \"allergy\"),\n",
        "    (\"Perennial allergic rhinitis with persistent congestion and nighttime coughing.\", \"allergy\"),\n",
        "\n",
        "    # Diabetes\n",
        "    (\"I’m always thirsty, peeing a lot, and have lost weight without trying.\", \"diabetes\"),\n",
        "    (\"Fruity-smelling breath, nausea, and fast breathing—ER said it’s diabetic ketoacidosis.\", \"diabetes\"),\n",
        "    (\"‘Feels like my faucet’s broken’—constantly thirsty and urinating every hour.\", \"diabetes\"),\n",
        "    (\"Blurred vision and tingling in feet—glucose readings stay above 200 even with diet.\", \"diabetes\"),\n",
        "\n",
        "    # Drug Reaction\n",
        "    (\"Started a new antibiotic and developed a red itchy rash and swollen lips.\", \"drug reaction\"),\n",
        "    (\"SJS/TEN suspected—target-shaped rash and peeling skin after anticonvulsant use.\", \"drug reaction\"),\n",
        "    (\"‘Skin burns and peels’ after new meds—rushed to ER for possible severe reaction.\", \"drug reaction\"),\n",
        "    (\"Delayed drug eruption with rash and eosinophilia 2 weeks into antibiotic therapy.\", \"drug reaction\"),\n",
        "\n",
        "    # GERD\n",
        "    (\"Burning chest pain after meals that worsens when I lie down—antacids help.\", \"gastroesophageal reflux disease\"),\n",
        "    (\"Food comes back up into my throat and I cough a lot at night.\", \"gastroesophageal reflux disease\"),\n",
        "    (\"‘Feels like acid volcano rising at night’—wakes me from sleep choking.\", \"gastroesophageal reflux disease\"),\n",
        "    (\"Chronic reflux with regurgitation and sour taste; diagnosed after pH monitoring.\", \"gastroesophageal reflux disease\"),\n",
        "\n",
        "    # Peptic Ulcer\n",
        "    (\"Stomach pain gets worse when I’m hungry and improves a bit after eating.\", \"peptic ulcer disease\"),\n",
        "    (\"Vomited something that looked like coffee grounds and have black stools.\", \"peptic ulcer disease\"),\n",
        "    (\"‘Feels like something’s chewing through my stomach’ at night.\", \"peptic ulcer disease\"),\n",
        "    (\"Diagnosed with H. pylori infection—painful gnawing sensation mid-abdomen.\", \"peptic ulcer disease\"),\n",
        "\n",
        "    # UTI\n",
        "    (\"It burns when I pee and I keep feeling like I need to go again.\", \"urinary tract infection\"),\n",
        "    (\"Cloudy, smelly urine with lower abdominal discomfort and frequent urination.\", \"urinary tract infection\"),\n",
        "    (\"‘Peeing razor blades’—sharp pain during urination and constant urge to go.\", \"urinary tract infection\"),\n",
        "    (\"Flank pain with fever—doctor said it’s moved to my kidneys.\", \"urinary tract infection\"),\n",
        "]\n",
        "\n",
        "# Step 4: Evaluation function\n",
        "def get_top_k_labels(scores, k=3):\n",
        "    sorted_scores = sorted(scores, key=lambda x: x['score'], reverse=True)\n",
        "    return [entry['label'] for entry in sorted_scores[:k]]\n",
        "\n",
        "def evaluate_real_world_examples(cases, set_name=\"\"):\n",
        "    correct_top1 = 0\n",
        "    correct_top3 = 0\n",
        "    for text, expected in cases:\n",
        "        predictions = classifier(text)[0]\n",
        "        top3_labels = get_top_k_labels(predictions, k=3)\n",
        "        top1 = top3_labels[0]\n",
        "        is_top1 = expected.lower() == top1.lower()\n",
        "        is_top3 = expected.lower() in [lbl.lower() for lbl in top3_labels]\n",
        "        if is_top1: correct_top1 += 1\n",
        "        if is_top3: correct_top3 += 1\n",
        "\n",
        "    total = len(cases)\n",
        "    result = {\n",
        "        \"Set\": set_name,\n",
        "        \"Total\": total,\n",
        "        \"Top-1 Correct\": correct_top1,\n",
        "        \"Top-1 Accuracy\": f\"{correct_top1 / total:.2%}\",\n",
        "        \"Top-3 Correct\": correct_top3,\n",
        "        \"Top-3 Accuracy\": f\"{correct_top3 / total:.2%}\"\n",
        "    }\n",
        "    return result\n",
        "\n",
        "# Step 5: Run evaluations\n",
        "results = []\n",
        "results.append(evaluate_real_world_examples(claudeAi_real_world_cases, \"Claude\"))\n",
        "results.append(evaluate_real_world_examples(deepSeek_real_world, \"DeepSeek\"))\n",
        "results.append(evaluate_real_world_examples(gemini_real_world_cases, \"Gemini\"))\n",
        "results.append(evaluate_real_world_examples(gpt_real_world_cases, \"GPT\"))\n",
        "\n",
        "# Combine all sets\n",
        "all_cases = claudeAi_real_world_cases + deepSeek_real_world + gemini_real_world_cases + gpt_real_world_cases\n",
        "results.append(evaluate_real_world_examples(all_cases, \"Combined (All Sets)\"))\n",
        "\n",
        "# Step 6: Display Results\n",
        "import pandas as pd\n",
        "df = pd.DataFrame(results)\n",
        "print(df.to_string(index=False))\n"
      ],
      "metadata": {
        "id": "MwCFAnY6B3Fd"
      },
      "execution_count": null,
      "outputs": []
    },
    {
      "cell_type": "code",
      "source": [
        "import pandas as pd\n",
        "\n",
        "# Data from your paper (abbreviated for demonstration)\n",
        "data = {\n",
        "    \"Model\": [\n",
        "        \"LogReg (TF-IDF)\", \"RF (TF-IDF)\", \"LogReg (FastText)\", \"RF (FastText)\",\n",
        "        \"BERT\", \"ClinicalBERT\", \"ClinicalBERT+NER\", \"BioBERT\", \"BioBERT+NER\",\n",
        "        \"BiomedBERT\", \"BiomedBERT+NER\", \"PubMedBERT\", \"PubMedBERT+NER\",\n",
        "        \"RoBERTa\", \"RoBERTa+NER\"\n",
        "    ],\n",
        "    \"Val (%)\": [\n",
        "        96.0, 95.0, 80.0, 85.0,\n",
        "        95.0, 90.3, 91.7, 93.1, 93.8,\n",
        "        94.4, 94.4, 93.1, 94.4,\n",
        "        94.4, 96.1\n",
        "    ],\n",
        "    \"Test (%)\": [\n",
        "        98.3, 96.6, 77.0, 78.0,\n",
        "        96.0, 88.0, 90.3, 90.2, 91.0,\n",
        "        89.6, 90.4, 90.2, 85.4,\n",
        "        93.8, 95.0\n",
        "    ],\n",
        "    \"Top-1\": [\n",
        "        2, 2, 1, 3,\n",
        "        2, 6, 6, 4, 6,\n",
        "        5, 6, 6, 6,\n",
        "        5, 6\n",
        "    ],\n",
        "    \"Top-3\": [\n",
        "        3, 4, 3, 4,\n",
        "        5, 6, 6, 6, 6,\n",
        "        6, 6, 6, 6,\n",
        "        6, 6\n",
        "    ]\n",
        "}\n",
        "\n",
        "df = pd.DataFrame(data)\n",
        "df.set_index(\"Model\", inplace=True)\n"
      ],
      "metadata": {
        "id": "Q_oKF_KNHcKf"
      },
      "execution_count": null,
      "outputs": []
    },
    {
      "cell_type": "code",
      "source": [
        "\n",
        "import seaborn as sns\n",
        "import matplotlib.pyplot as plt\n",
        "\n",
        "# Normalize Top-1 and Top-3 to percentage scale (out of 6)\n",
        "df[\"Top-1 (%)\"] = df[\"Top-1\"] / 6 * 100\n",
        "df[\"Top-3 (%)\"] = df[\"Top-3\"] / 6 * 100\n",
        "\n",
        "# Select the columns to show\n",
        "heatmap_data = df[[\"Val (%)\", \"Test (%)\", \"Top-1 (%)\", \"Top-3 (%)\"]]\n",
        "\n",
        "# Enhanced design options - choose one:\n",
        "\n",
        "# Option 1: Professional Medical Theme (Blue gradient)\n",
        "plt.figure(figsize=(14, 10))\n",
        "sns.heatmap(heatmap_data,\n",
        "            annot=True,\n",
        "            fmt=\".1f\",\n",
        "            cmap=\"Blues\",  # Clean blue gradient\n",
        "            linewidths=0.8,  # Thicker borders\n",
        "            linecolor='white',\n",
        "            cbar_kws={'label': 'Accuracy (%)', 'shrink': 0.8},\n",
        "            annot_kws={'fontsize': 11, 'fontweight': 'bold'})\n",
        "\n",
        "plt.title(\"Model Comparison Heatmap\\n(Validation, Test, Real-World Accuracy)\",\n",
        "          fontsize=16, fontweight='bold', pad=20)\n",
        "plt.xlabel('Evaluation Metrics', fontsize=12, fontweight='bold')\n",
        "plt.ylabel('Models', fontsize=12, fontweight='bold')\n",
        "plt.xticks(rotation=0, fontsize=11)  # Keep horizontal for readability\n",
        "plt.yticks(rotation=0, fontsize=10)\n",
        "plt.tight_layout()\n",
        "plt.show()\n"
      ],
      "metadata": {
        "id": "DUvtNkOzMkZt"
      },
      "execution_count": null,
      "outputs": []
    }
  ],
  "metadata": {
    "colab": {
      "collapsed_sections": [
        "QfTS7DaMOQPp",
        "s_ySF_zjYUYf",
        "UXVK26YmgDAF",
        "_10PHorIgO4q",
        "IluZS3QM_axt",
        "WNPggeSfx-x5",
        "YEjjpuBO3c9E",
        "FOVxAbVyy2Yy",
        "w9WfOvcsZsXD",
        "L-Y71bHXpbVU",
        "RlDC3-lt_MR0",
        "6Irbi_Rx2OTK"
      ],
      "provenance": [],
      "authorship_tag": "ABX9TyPE1uCOmi72mSYtvdNxRXZP",
      "include_colab_link": true
    },
    "kernelspec": {
      "display_name": "Python 3",
      "name": "python3"
    },
    "language_info": {
      "name": "python"
    }
  },
  "nbformat": 4,
  "nbformat_minor": 0
}